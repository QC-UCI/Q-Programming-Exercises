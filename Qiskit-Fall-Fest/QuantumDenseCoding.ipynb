{
 "cells": [
  {
   "cell_type": "code",
   "execution_count": 1,
   "id": "9483b6b8-f64e-4d4b-806f-bb133a52ca42",
   "metadata": {
    "tags": []
   },
   "outputs": [],
   "source": [
    "from qiskit import QuantumCircuit, transpile, Aer, IBMQ, assemble, execute, QuantumRegister, ClassicalRegister\n",
    "from qiskit.visualization import *\n",
    "from qiskit.providers.aer import QasmSimulator\n",
    "import qiskit.quantum_info as qi\n",
    "\n",
    "from qiskit_ibm_provider import IBMProvider\n",
    "import qiskit_ibm_provider\n",
    "\n",
    "#import seaborn\n",
    "import numpy as np\n",
    "\n",
    "provider = IBMProvider()"
   ]
  },
  {
   "cell_type": "code",
   "execution_count": 2,
   "id": "66a10508-24ed-4fee-bc61-0dd29412313e",
   "metadata": {},
   "outputs": [],
   "source": [
    "# Basic Functions for Display Purposes\n",
    "\n",
    "def print_statevector(qstate):\n",
    "    reg = [\"000\", \"001\", \"010\", \"011\", \"100\", \"101\", \"110\", \"111\"]\n",
    "    qstate = np.asarray(qstate)\n",
    "    for i in range(len(qstate)):\n",
    "        print((str(np.round(qstate[i],3))+\"|\"+reg[i]+\"> \"),end=\"  \\n\")\n",
    "        \n",
    "def simulate_circuit(qc):            \n",
    "    backend = Aer.get_backend('statevector_simulator') # Tell it which simulator you want to use \n",
    "    job = execute(qc,backend) # Put in the name of your quantum circuit where it says qc\n",
    "    result = job.result() \n",
    "\n",
    "    state = result.get_statevector() \n",
    "    return state"
   ]
  },
  {
   "cell_type": "code",
   "execution_count": 36,
   "id": "37d1b0f3-5e0f-4748-898d-bab297e9cc5d",
   "metadata": {},
   "outputs": [],
   "source": [
    "def make_GHZ(circ):\n",
    "    pass\n",
    "\n",
    "    #000 [0]\n",
    "    #none\n",
    "    \n",
    "    #001 [1]\n",
    "    #circ.x(0)\n",
    "    \n",
    "    #010 [2]\n",
    "    #circ.x(0)\n",
    "    #circ.x(1)\n",
    "    \n",
    "    #011 [3]\n",
    "    #circ.x(0)\n",
    "    #circ.x(1)\n",
    "    #circ.z(2)\n",
    "    \n",
    "    #100 [4]\n",
    "    #circ.x(0)\n",
    "    #circ.x(2)\n",
    "    \n",
    "    #101 [5]\n",
    "    #circ.x(0)\n",
    "    #circ.x(2)\n",
    "    #circ.z(2)\n",
    "    \n",
    "    #110 [6]\n",
    "    #circ.x(2)\n",
    "    \n",
    "    #111 [7]\n",
    "    #circ.x(2)\n",
    "    #circ.z(2)"
   ]
  },
  {
   "cell_type": "code",
   "execution_count": 37,
   "id": "2edbc5f7-7fc8-45ce-8270-86bf7cc7447a",
   "metadata": {
    "tags": []
   },
   "outputs": [
    {
     "data": {
      "text/html": [
       "<pre style=\"word-wrap: normal;white-space: pre;background: #fff0;line-height: 1.1;font-family: &quot;Courier New&quot;,Courier,monospace\">     ┌───┐           ░ \n",
       "q_0: ┤ H ├──■────────░─\n",
       "     └───┘┌─┴─┐      ░ \n",
       "q_1: ─────┤ X ├──■───░─\n",
       "          └───┘┌─┴─┐ ░ \n",
       "q_2: ──────────┤ X ├─░─\n",
       "               └───┘ ░ </pre>"
      ],
      "text/plain": [
       "     ┌───┐           ░ \n",
       "q_0: ┤ H ├──■────────░─\n",
       "     └───┘┌─┴─┐      ░ \n",
       "q_1: ─────┤ X ├──■───░─\n",
       "          └───┘┌─┴─┐ ░ \n",
       "q_2: ──────────┤ X ├─░─\n",
       "               └───┘ ░ "
      ]
     },
     "execution_count": 37,
     "metadata": {},
     "output_type": "execute_result"
    }
   ],
   "source": [
    "qdc = QuantumCircuit(3)\n",
    "qdc.h(0)\n",
    "qdc.cx(0,1)\n",
    "qdc.cx(1,2)\n",
    "qdc.barrier()\n",
    "\n",
    "make_GHZ(qdc)\n",
    "\n",
    "qdc.draw()"
   ]
  },
  {
   "cell_type": "code",
   "execution_count": 38,
   "id": "26fcfd65-5788-4087-bbf5-b5f4519be7c3",
   "metadata": {},
   "outputs": [
    {
     "data": {
      "text/latex": [
       "$$\n",
       "\n",
       "\\begin{bmatrix}\n",
       "\\frac{\\sqrt{2}}{2} & 0 & 0 & 0 & 0 & 0 & 0 & \\frac{\\sqrt{2}}{2}  \\\\\n",
       " \\end{bmatrix}\n",
       "$$"
      ],
      "text/plain": [
       "<IPython.core.display.Latex object>"
      ]
     },
     "execution_count": 38,
     "metadata": {},
     "output_type": "execute_result"
    }
   ],
   "source": [
    "qdc_state = simulate_circuit(qdc)\n",
    "array_to_latex(qdc_state)"
   ]
  },
  {
   "cell_type": "code",
   "execution_count": 39,
   "id": "44ba5c63-6059-454b-8765-6b81646b406a",
   "metadata": {},
   "outputs": [
    {
     "name": "stdout",
     "output_type": "stream",
     "text": [
      "(0.707+0j)|000>   \n",
      "0j|001>   \n",
      "0j|010>   \n",
      "0j|011>   \n",
      "0j|100>   \n",
      "0j|101>   \n",
      "0j|110>   \n",
      "(0.707+0j)|111>   \n"
     ]
    }
   ],
   "source": [
    "print_statevector(qdc_state)"
   ]
  },
  {
   "cell_type": "code",
   "execution_count": null,
   "id": "5f70c63c-e9b9-4dbb-9d3d-06d948edb560",
   "metadata": {},
   "outputs": [],
   "source": []
  }
 ],
 "metadata": {
  "kernelspec": {
   "display_name": "Python 3 [Default]",
   "language": "python",
   "name": "python3"
  },
  "language_info": {
   "codemirror_mode": {
    "name": "ipython",
    "version": 3
   },
   "file_extension": ".py",
   "mimetype": "text/x-python",
   "name": "python",
   "nbconvert_exporter": "python",
   "pygments_lexer": "ipython3",
   "version": "3.11.6"
  }
 },
 "nbformat": 4,
 "nbformat_minor": 5
}
