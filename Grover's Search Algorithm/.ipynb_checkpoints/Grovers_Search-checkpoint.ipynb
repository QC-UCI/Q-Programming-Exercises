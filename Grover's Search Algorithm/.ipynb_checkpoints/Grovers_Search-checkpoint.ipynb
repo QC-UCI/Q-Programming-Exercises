{
 "cells": [
  {
   "cell_type": "code",
   "execution_count": null,
   "id": "e6939314-e917-4a85-b189-1ebd9d76fe31",
   "metadata": {},
   "outputs": [],
   "source": [
    "import numpy as np\n",
    "\n",
    "# Importing standard Qiskit libraries\n",
    "from qiskit import QuantumCircuit, transpile, Aer, IBMQ, assemble, execute, QuantumRegister, ClassicalRegister\n",
    "from qiskit.circuit.library import ZGate\n",
    "from qiskit.tools.jupyter import *\n",
    "from qiskit.visualization import *\n",
    "from qiskit.providers.aer import QasmSimulator\n",
    "from qiskit_ibm_provider import IBMProvider\n",
    "\n",
    "provider = IBMProvider()"
   ]
  },
  {
   "cell_type": "code",
   "execution_count": 13,
   "id": "e69dc842-c764-425d-be20-6a832826ad23",
   "metadata": {},
   "outputs": [],
   "source": [
    "# Correct Answer\n",
    "omega = '101'"
   ]
  },
  {
   "cell_type": "code",
   "execution_count": 14,
   "id": "ff903738-23d6-474a-a0e3-39c0be7b4391",
   "metadata": {},
   "outputs": [],
   "source": [
    "number_of_qubits = len(omega) + 1\n",
    "number_of_clbits = len(omega) + 1\n",
    "\n",
    "qreg = QuantumRegister(number_of_qubits)\n",
    "creg = ClassicalRegister(number_of_clbits)\n",
    "\n",
    "qc = QuantumCircuit(qreg, creg)"
   ]
  },
  {
   "cell_type": "code",
   "execution_count": 15,
   "id": "5ace272e-4584-463d-8ec5-4c3acd060739",
   "metadata": {},
   "outputs": [],
   "source": [
    "def walsh_hadamard_transform(qc: QuantumCircuit, num_of_qubits: int):\n",
    "    for qubit_index in range(num_of_qubits):\n",
    "        qc.h(qubit_index)\n",
    "    qc.barrier()\n",
    "        \n",
    "def oracle(qc: QuantumCircuit, qreg: QuantumRegister, num_of_qubits: int, omega: str):\n",
    "    for bit_idx in range(len(omega)): \n",
    "        if omega[bit_idx] == '0':\n",
    "            qc.x(bit_idx)\n",
    "            \n",
    "    oracle_subcircuit = ZGate().control(num_of_qubits)\n",
    "    qc.append(oracle_subcircuit, qreg)\n",
    "    \n",
    "    for bit_idx in range(len(omega)): \n",
    "        if omega[bit_idx] == '0':\n",
    "            qc.x(bit_idx)\n",
    "            \n",
    "    qc.barrier()\n",
    "            \n",
    "def check_if_input_is_all_zeros(qc: QuantumCircuit, num_of_qubits: int):\n",
    "    for qubit_index in range(num_of_qubits):\n",
    "        qc.x(qubit_index)\n",
    "        \n",
    "    oracle_subcircuit = ZGate().control(num_of_qubits)\n",
    "    qc.append(oracle_subcircuit, qreg)\n",
    "    \n",
    "    for qubit_index in range(num_of_qubits):\n",
    "        qc.x(qubit_index)\n",
    "        \n",
    "    qc.barrier()\n",
    "\n",
    "def grover_iteration(qc):\n",
    "    oracle(qc, qreg, number_of_qubits-1, omega)\n",
    "    walsh_hadamard_transform(qc, number_of_qubits-1)\n",
    "    check_if_input_is_all_zeros(qc, number_of_qubits-1)\n",
    "    walsh_hadamard_transform(qc, number_of_qubits-1)\n",
    "    \n",
    "def take_measurement(grover_circuit):\n",
    "    aer_sim = Aer.get_backend('aer_simulator')\n",
    "    transpiled_grover_circuit = transpile(grover_circuit, aer_sim)\n",
    "    qobj = assemble(transpiled_grover_circuit)\n",
    "    results = aer_sim.run(qobj).result()\n",
    "    counts = results.get_counts()\n",
    "    plot_histogram(counts)"
   ]
  },
  {
   "cell_type": "code",
   "execution_count": 16,
   "id": "6218368e-231d-4b1f-a725-6f89e1cec759",
   "metadata": {},
   "outputs": [
    {
     "data": {
      "text/html": [
       "<pre style=\"word-wrap: normal;white-space: pre;background: #fff0;line-height: 1.1;font-family: &quot;Courier New&quot;,Courier,monospace\">      ┌───┐ ░               ░ ┌───┐ ░ ┌───┐   ┌───┐ ░ ┌───┐ ░               ░ »\n",
       "q6_0: ┤ H ├─░───────■───────░─┤ H ├─░─┤ X ├─■─┤ X ├─░─┤ H ├─░───────■───────░─»\n",
       "      ├───┤ ░ ┌───┐ │ ┌───┐ ░ ├───┤ ░ ├───┤ │ ├───┤ ░ ├───┤ ░ ┌───┐ │ ┌───┐ ░ »\n",
       "q6_1: ┤ H ├─░─┤ X ├─■─┤ X ├─░─┤ H ├─░─┤ X ├─■─┤ X ├─░─┤ H ├─░─┤ X ├─■─┤ X ├─░─»\n",
       "      ├───┤ ░ └───┘ │ └───┘ ░ ├───┤ ░ ├───┤ │ ├───┤ ░ ├───┤ ░ └───┘ │ └───┘ ░ »\n",
       "q6_2: ┤ H ├─░───────■───────░─┤ H ├─░─┤ X ├─■─┤ X ├─░─┤ H ├─░───────■───────░─»\n",
       "      ├───┤ ░       │       ░ └───┘ ░ └───┘ │ └───┘ ░ └───┘ ░       │       ░ »\n",
       "q6_3: ┤ X ├─░───────■───────░───────░───────■───────░───────░───────■───────░─»\n",
       "      └───┘ ░               ░       ░               ░       ░               ░ »\n",
       "c1: 4/════════════════════════════════════════════════════════════════════════»\n",
       "                                                                              »\n",
       "«      ┌───┐ ░ ┌───┐   ┌───┐ ░ ┌───┐ ░ ┌─┐      \n",
       "«q6_0: ┤ H ├─░─┤ X ├─■─┤ X ├─░─┤ H ├─░─┤M├──────\n",
       "«      ├───┤ ░ ├───┤ │ ├───┤ ░ ├───┤ ░ └╥┘┌─┐   \n",
       "«q6_1: ┤ H ├─░─┤ X ├─■─┤ X ├─░─┤ H ├─░──╫─┤M├───\n",
       "«      ├───┤ ░ ├───┤ │ ├───┤ ░ ├───┤ ░  ║ └╥┘┌─┐\n",
       "«q6_2: ┤ H ├─░─┤ X ├─■─┤ X ├─░─┤ H ├─░──╫──╫─┤M├\n",
       "«      └───┘ ░ └───┘ │ └───┘ ░ └───┘ ░  ║  ║ └╥┘\n",
       "«q6_3: ──────░───────■───────░───────░──╫──╫──╫─\n",
       "«            ░               ░       ░  ║  ║  ║ \n",
       "«c1: 4/═════════════════════════════════╩══╩══╩═\n",
       "«                                       0  1  2 </pre>"
      ],
      "text/plain": [
       "      ┌───┐ ░               ░ ┌───┐ ░ ┌───┐   ┌───┐ ░ ┌───┐ ░               ░ »\n",
       "q6_0: ┤ H ├─░───────■───────░─┤ H ├─░─┤ X ├─■─┤ X ├─░─┤ H ├─░───────■───────░─»\n",
       "      ├───┤ ░ ┌───┐ │ ┌───┐ ░ ├───┤ ░ ├───┤ │ ├───┤ ░ ├───┤ ░ ┌───┐ │ ┌───┐ ░ »\n",
       "q6_1: ┤ H ├─░─┤ X ├─■─┤ X ├─░─┤ H ├─░─┤ X ├─■─┤ X ├─░─┤ H ├─░─┤ X ├─■─┤ X ├─░─»\n",
       "      ├───┤ ░ └───┘ │ └───┘ ░ ├───┤ ░ ├───┤ │ ├───┤ ░ ├───┤ ░ └───┘ │ └───┘ ░ »\n",
       "q6_2: ┤ H ├─░───────■───────░─┤ H ├─░─┤ X ├─■─┤ X ├─░─┤ H ├─░───────■───────░─»\n",
       "      ├───┤ ░       │       ░ └───┘ ░ └───┘ │ └───┘ ░ └───┘ ░       │       ░ »\n",
       "q6_3: ┤ X ├─░───────■───────░───────░───────■───────░───────░───────■───────░─»\n",
       "      └───┘ ░               ░       ░               ░       ░               ░ »\n",
       "c1: 4/════════════════════════════════════════════════════════════════════════»\n",
       "                                                                              »\n",
       "«      ┌───┐ ░ ┌───┐   ┌───┐ ░ ┌───┐ ░ ┌─┐      \n",
       "«q6_0: ┤ H ├─░─┤ X ├─■─┤ X ├─░─┤ H ├─░─┤M├──────\n",
       "«      ├───┤ ░ ├───┤ │ ├───┤ ░ ├───┤ ░ └╥┘┌─┐   \n",
       "«q6_1: ┤ H ├─░─┤ X ├─■─┤ X ├─░─┤ H ├─░──╫─┤M├───\n",
       "«      ├───┤ ░ ├───┤ │ ├───┤ ░ ├───┤ ░  ║ └╥┘┌─┐\n",
       "«q6_2: ┤ H ├─░─┤ X ├─■─┤ X ├─░─┤ H ├─░──╫──╫─┤M├\n",
       "«      └───┘ ░ └───┘ │ └───┘ ░ └───┘ ░  ║  ║ └╥┘\n",
       "«q6_3: ──────░───────■───────░───────░──╫──╫──╫─\n",
       "«            ░               ░       ░  ║  ║  ║ \n",
       "«c1: 4/═════════════════════════════════╩══╩══╩═\n",
       "«                                       0  1  2 "
      ]
     },
     "execution_count": 16,
     "metadata": {},
     "output_type": "execute_result"
    }
   ],
   "source": [
    "qc.x(number_of_qubits-1)\n",
    "walsh_hadamard_transform(qc, number_of_qubits-1)\n",
    "for _ in range(2):\n",
    "    grover_iteration(qc)\n",
    "qc.measure([0,1,2], [0,1,2])\n",
    "\n",
    "qc.draw()"
   ]
  },
  {
   "cell_type": "code",
   "execution_count": 17,
   "id": "c7374e93-4ddb-422d-a70d-045a93eba6b3",
   "metadata": {},
   "outputs": [],
   "source": [
    "def aer_simulate_circuit(qc):\n",
    "    backend = Aer.get_backend('qasm_simulator')\n",
    "    job = execute(qc, backend, shots = 1024)\n",
    "    result = job.result()         \n",
    "    return result.get_counts()"
   ]
  },
  {
   "cell_type": "code",
   "execution_count": 18,
   "id": "f84d7e02-0db3-4781-88e8-23e766c0f00e",
   "metadata": {},
   "outputs": [
    {
     "data": {
      "image/png": "[encoded data removed]",
      "text/plain": [
       "<Figure size 700x500 with 1 Axes>"
      ]
     },
     "execution_count": 18,
     "metadata": {},
     "output_type": "execute_result"
    }
   ],
   "source": [
    "plot_histogram(aer_simulate_circuit(qc)) "
   ]
  },
  {
   "cell_type": "code",
   "execution_count": null,
   "id": "e1885ec3-74ce-4672-a321-7fa55be79b33",
   "metadata": {},
   "outputs": [],
   "source": []
  }
 ],
 "metadata": {
  "kernelspec": {
   "display_name": "Python 3 [Default]",
   "language": "python",
   "name": "python3"
  },
  "language_info": {
   "codemirror_mode": {
    "name": "ipython",
    "version": 3
   },
   "file_extension": ".py",
   "mimetype": "text/x-python",
   "name": "python",
   "nbconvert_exporter": "python",
   "pygments_lexer": "ipython3",
   "version": "3.9.12"
  },
  "widgets": {
   "application/vnd.jupyter.widget-state+json": {
    "state": {
     "01ee1021733c4171bec5a7d7fd5532e4": {
      "model_module": "@jupyter-widgets/base",
      "model_module_version": "1.2.0",
      "model_name": "LayoutModel",
      "state": {
       "width": "145px"
      }
     },
     "117d27be8f0b4d36a057495a5de37b58": {
      "model_module": "@jupyter-widgets/base",
      "model_module_version": "1.2.0",
      "model_name": "LayoutModel",
      "state": {
       "width": "95px"
      }
     },
     "49f8a49fe0c5428e9b6306b034936f4d": {
      "model_module": "@jupyter-widgets/controls",
      "model_module_version": "1.5.0",
      "model_name": "DescriptionStyleModel",
      "state": {
       "description_width": ""
      }
     },
     "4ce0834dd16d44ed8f6aa6499062e476": {
      "model_module": "@jupyter-widgets/base",
      "model_module_version": "1.2.0",
      "model_name": "LayoutModel",
      "state": {
       "grid_template_areas": "\n                                       \". . . . right \"\n                                        ",
       "grid_template_columns": "20% 20% 20% 20% 20%",
       "width": "100%"
      }
     },
     "56bfd08d45f74bd7852202baadb67569": {
      "model_module": "@jupyter-widgets/controls",
      "model_module_version": "1.5.0",
      "model_name": "DescriptionStyleModel",
      "state": {
       "description_width": ""
      }
     },
     "6126a8b2446944ebb22e1238612b7262": {
      "model_module": "@jupyter-widgets/controls",
      "model_module_version": "1.5.0",
      "model_name": "DescriptionStyleModel",
      "state": {
       "description_width": ""
      }
     },
     "64a04fb0fc134c2b96705024205677cb": {
      "model_module": "@jupyter-widgets/base",
      "model_module_version": "1.2.0",
      "model_name": "LayoutModel",
      "state": {}
     },
     "6ae7a6b8008040d1be813be651dbedff": {
      "model_module": "@jupyter-widgets/controls",
      "model_module_version": "1.5.0",
      "model_name": "HTMLModel",
      "state": {
       "layout": "IPY_MODEL_01ee1021733c4171bec5a7d7fd5532e4",
       "style": "IPY_MODEL_6126a8b2446944ebb22e1238612b7262",
       "value": "<h5>Backend</h5>"
      }
     },
     "6ceaca52c34a4846bb37ae4c86468f35": {
      "model_module": "@jupyter-widgets/controls",
      "model_module_version": "1.5.0",
      "model_name": "DescriptionStyleModel",
      "state": {
       "description_width": ""
      }
     },
     "76fcc69f94e44128b1f15b68089720f2": {
      "model_module": "@jupyter-widgets/controls",
      "model_module_version": "1.5.0",
      "model_name": "HTMLModel",
      "state": {
       "layout": "IPY_MODEL_64a04fb0fc134c2b96705024205677cb",
       "style": "IPY_MODEL_49f8a49fe0c5428e9b6306b034936f4d",
       "value": "<h5>Message</h5>"
      }
     },
     "787d8b7a43834df6b52d9bd3406761e1": {
      "model_module": "@jupyter-widgets/controls",
      "model_module_version": "1.5.0",
      "model_name": "HTMLModel",
      "state": {
       "layout": "IPY_MODEL_a90aceb7077847dda6ed85dc1fa408a7",
       "style": "IPY_MODEL_cd4b0dd8412d4a31a1aacae45b6637bb",
       "value": "<p style='font-family: IBM Plex Sans, Arial, Helvetica, sans-serif; font-size: 20px; font-weight: medium;'>Circuit Properties</p>"
      }
     },
     "7f8fc34151b64ca0b07cdccd12b981e6": {
      "model_module": "@jupyter-widgets/controls",
      "model_module_version": "1.5.0",
      "model_name": "HTMLModel",
      "state": {
       "layout": "IPY_MODEL_91fda6f38dd047ed8ee4875a81fde8dc",
       "style": "IPY_MODEL_6ceaca52c34a4846bb37ae4c86468f35",
       "value": "<h5>Queue</h5>"
      }
     },
     "91fda6f38dd047ed8ee4875a81fde8dc": {
      "model_module": "@jupyter-widgets/base",
      "model_module_version": "1.2.0",
      "model_name": "LayoutModel",
      "state": {
       "width": "70px"
      }
     },
     "93731c89a48e4efb8c9c80ce91a127d8": {
      "model_module": "@jupyter-widgets/base",
      "model_module_version": "1.2.0",
      "model_name": "LayoutModel",
      "state": {
       "width": "190px"
      }
     },
     "9876d01508244c6ea0fc82c537a86fb8": {
      "model_module": "@jupyter-widgets/base",
      "model_module_version": "1.2.0",
      "model_name": "LayoutModel",
      "state": {
       "grid_area": "right",
       "padding": "0px 0px 0px 0px",
       "width": "70px"
      }
     },
     "a31b3f37f1364309874ae09390f5c467": {
      "model_module": "@jupyter-widgets/controls",
      "model_module_version": "1.5.0",
      "model_name": "ButtonStyleModel",
      "state": {}
     },
     "a69e3c41be37481a984dea9bfe9399f6": {
      "model_module": "@jupyter-widgets/base",
      "model_module_version": "1.2.0",
      "model_name": "LayoutModel",
      "state": {
       "margin": "0px 0px 0px 37px",
       "width": "600px"
      }
     },
     "a90aceb7077847dda6ed85dc1fa408a7": {
      "model_module": "@jupyter-widgets/base",
      "model_module_version": "1.2.0",
      "model_name": "LayoutModel",
      "state": {
       "margin": "0px 0px 10px 0px"
      }
     },
     "b4659c19066c4e98a229deda0461c5f1": {
      "model_module": "@jupyter-widgets/controls",
      "model_module_version": "1.5.0",
      "model_name": "DescriptionStyleModel",
      "state": {
       "description_width": ""
      }
     },
     "bcbfd5a19cec4d179fe2b23cf3f44c67": {
      "model_module": "@jupyter-widgets/controls",
      "model_module_version": "1.5.0",
      "model_name": "HTMLModel",
      "state": {
       "layout": "IPY_MODEL_117d27be8f0b4d36a057495a5de37b58",
       "style": "IPY_MODEL_56bfd08d45f74bd7852202baadb67569",
       "value": "<h5>Status</h5>"
      }
     },
     "c60b0d77df7b49f9a32d393113b938ba": {
      "model_module": "@jupyter-widgets/controls",
      "model_module_version": "1.5.0",
      "model_name": "HTMLModel",
      "state": {
       "layout": "IPY_MODEL_93731c89a48e4efb8c9c80ce91a127d8",
       "style": "IPY_MODEL_b4659c19066c4e98a229deda0461c5f1",
       "value": "<h5>Job ID</h5>"
      }
     },
     "cd4b0dd8412d4a31a1aacae45b6637bb": {
      "model_module": "@jupyter-widgets/controls",
      "model_module_version": "1.5.0",
      "model_name": "DescriptionStyleModel",
      "state": {
       "description_width": ""
      }
     },
     "cf5cd5456e444164b49fc46f3a98ee74": {
      "model_module": "@jupyter-widgets/controls",
      "model_module_version": "1.5.0",
      "model_name": "GridBoxModel",
      "state": {
       "children": [
        "IPY_MODEL_eae7d9a2d65642f5a32a3fdb3616f6dc"
       ],
       "layout": "IPY_MODEL_4ce0834dd16d44ed8f6aa6499062e476"
      }
     },
     "d513abb6d9c04580968818643d37dafe": {
      "model_module": "@jupyter-widgets/controls",
      "model_module_version": "1.5.0",
      "model_name": "HBoxModel",
      "state": {
       "children": [
        "IPY_MODEL_c60b0d77df7b49f9a32d393113b938ba",
        "IPY_MODEL_6ae7a6b8008040d1be813be651dbedff",
        "IPY_MODEL_bcbfd5a19cec4d179fe2b23cf3f44c67",
        "IPY_MODEL_7f8fc34151b64ca0b07cdccd12b981e6",
        "IPY_MODEL_76fcc69f94e44128b1f15b68089720f2"
       ],
       "layout": "IPY_MODEL_a69e3c41be37481a984dea9bfe9399f6"
      }
     },
     "eae7d9a2d65642f5a32a3fdb3616f6dc": {
      "model_module": "@jupyter-widgets/controls",
      "model_module_version": "1.5.0",
      "model_name": "ButtonModel",
      "state": {
       "button_style": "primary",
       "description": "Clear",
       "layout": "IPY_MODEL_9876d01508244c6ea0fc82c537a86fb8",
       "style": "IPY_MODEL_a31b3f37f1364309874ae09390f5c467"
      }
     }
    },
    "version_major": 2,
    "version_minor": 0
   }
  }
 },
 "nbformat": 4,
 "nbformat_minor": 5
}
