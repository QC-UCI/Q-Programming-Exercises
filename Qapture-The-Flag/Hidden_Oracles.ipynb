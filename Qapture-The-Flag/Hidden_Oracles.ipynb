{
 "cells": [
  {
   "cell_type": "code",
   "execution_count": 1,
   "id": "df2f13ca-f729-46fd-8cd2-ebaae404d2f8",
   "metadata": {
    "tags": []
   },
   "outputs": [],
   "source": [
    "from qiskit import QuantumCircuit, transpile, Aer, IBMQ, assemble, execute, QuantumRegister, ClassicalRegister, AncillaRegister\n",
    "from qiskit.circuit.library import MCMT, ZGate, mcrz\n",
    "from qiskit.visualization import *\n",
    "from qiskit.providers.aer import QasmSimulator\n",
    "import qiskit.quantum_info as qi\n",
    "\n",
    "from qiskit_ibm_provider import IBMProvider\n",
    "import qiskit_ibm_provider\n",
    "\n",
    "#import seaborn\n",
    "import numpy as np\n",
    "\n",
    "#providera = IBMProvider()"
   ]
  },
  {
   "cell_type": "code",
   "execution_count": 2,
   "id": "5a5141f3-ced8-4d8c-8b25-e8a698ca189c",
   "metadata": {
    "tags": []
   },
   "outputs": [
    {
     "name": "stdin",
     "output_type": "stream",
     "text": [
      "Please enter a number between 15 to 127:  76\n"
     ]
    }
   ],
   "source": [
    "seed = input(\"Please enter a number between 15 to 127: \")\n",
    "\n",
    "qreg = QuantumRegister(7)\n",
    "areg = AncillaRegister(1)\n",
    "creg = ClassicalRegister(7)\n",
    "\n",
    "oracle = QuantumCircuit(qreg, areg, creg)"
   ]
  },
  {
   "cell_type": "code",
   "execution_count": 8,
   "id": "6b792481-2fde-49e3-b02b-9237b0d6826c",
   "metadata": {
    "tags": []
   },
   "outputs": [
    {
     "data": {
      "text/plain": [
       "'1001100'"
      ]
     },
     "execution_count": 8,
     "metadata": {},
     "output_type": "execute_result"
    }
   ],
   "source": [
    "bit_string = bin(76).lstrip(\"0b\")\n",
    "#for bit in bit_string:\n",
    "#    if bit == 1:\n",
    "#        oracle.x"
   ]
  },
  {
   "cell_type": "code",
   "execution_count": null,
   "id": "fcbe12c1-000f-4d06-af92-a13a5ec1dad1",
   "metadata": {},
   "outputs": [],
   "source": [
    "# Idea is: \n",
    "\n",
    "# User gives an input \n",
    "# If the input is even, the output of the oracle is 0101010 = 42\n",
    "# If the input is odd, the output of the oracle is 1010101 = 85\n",
    "\n",
    "# I have a secret bit string 1101001 = 105\n",
    "\n",
    "# Then XOR input bitstring and secret string: \n",
    "# XOR(0101010, 1101001) = 1000011\n",
    "# XOR(1010101, 1101001) = 0111100"
   ]
  }
 ],
 "metadata": {
  "kernelspec": {
   "display_name": "Python 3 [Default]",
   "language": "python",
   "name": "python3"
  },
  "language_info": {
   "codemirror_mode": {
    "name": "ipython",
    "version": 3
   },
   "file_extension": ".py",
   "mimetype": "text/x-python",
   "name": "python",
   "nbconvert_exporter": "python",
   "pygments_lexer": "ipython3",
   "version": "3.11.6"
  }
 },
 "nbformat": 4,
 "nbformat_minor": 5
}
