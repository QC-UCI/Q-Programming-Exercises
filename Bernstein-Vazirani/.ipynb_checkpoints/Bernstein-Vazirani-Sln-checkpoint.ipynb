{
 "cells": [
  {
   "cell_type": "code",
   "execution_count": 1,
   "id": "35a61e4f-31d8-4650-8045-7b828fc3a24c",
   "metadata": {},
   "outputs": [],
   "source": [
    "import numpy as np\n",
    "\n",
    "# Importing standard Qiskit libraries\n",
    "from qiskit import QuantumCircuit, transpile, Aer, IBMQ, assemble, execute, QuantumRegister, ClassicalRegister\n",
    "from qiskit.tools.jupyter import *\n",
    "from qiskit.visualization import *\n",
    "from qiskit.providers.aer import QasmSimulator\n",
    "from qiskit_ibm_provider import IBMProvider\n",
    "\n",
    "from math import ceil, log2\n",
    "from random import randint\n",
    "\n",
    "provider = IBMProvider()"
   ]
  },
  {
   "cell_type": "code",
   "execution_count": 2,
   "id": "9b3103e3-2507-466c-88af-015963380b4a",
   "metadata": {},
   "outputs": [
    {
     "name": "stdout",
     "output_type": "stream",
     "text": [
      "The secret string is 17 dec = 10001. \n",
      "So, it's not a secret anymore. But, this is a toy problem.\n",
      "The main purpose of this algorithm is show you quantum circuit equivalence.\n"
     ]
    }
   ],
   "source": [
    "max_num = 63\n",
    "num = randint(0, max_num)\n",
    "secret_string = str(bin(num)[2:])[::-1]\n",
    "\n",
    "print(f\"The secret string is {num} dec = {secret_string}. \\nSo, it's not a secret anymore. But, this is a toy problem.\")\n",
    "print(\"The main purpose of this algorithm is show you quantum circuit equivalence.\")"
   ]
  },
  {
   "cell_type": "code",
   "execution_count": 3,
   "id": "7f94483f-055c-44fe-a611-fb900664f331",
   "metadata": {},
   "outputs": [],
   "source": [
    "num_clbits = ceil(log2(max_num))\n",
    "num_qubits = num_clbits + 1\n",
    "last_qubit = num_clbits # in terms of the index"
   ]
  },
  {
   "cell_type": "code",
   "execution_count": 21,
   "id": "e5b6f485-8233-4204-9037-b64bd8b285a1",
   "metadata": {},
   "outputs": [],
   "source": [
    "def walsh_hadamard_transform(qc, n):\n",
    "    for i in range(n):\n",
    "        qc.h(i)\n",
    "        \n",
    "def cnot_oracle(qc, s):\n",
    "    for i in range(len(s)):\n",
    "        if s[i] == \"1\":\n",
    "            qc.cx(i, last_qubit)\n",
    "            \n",
    "def switched_cnot_oracle(qc, s):\n",
    "    for i in range(len(s)):\n",
    "        if s[i] == \"1\":\n",
    "            qc.cx(last_qubit, i)\n",
    "            \n",
    "def measure(qc, k):\n",
    "    for i in range(k):\n",
    "        qc.measure(i, i)"
   ]
  },
  {
   "cell_type": "code",
   "execution_count": 22,
   "id": "84960c20-0aae-4b22-a3d7-ccc3fc9ee503",
   "metadata": {},
   "outputs": [],
   "source": [
    "BV_circ = QuantumCircuit(num_qubits, num_clbits)\n",
    "\n",
    "BV_circ.x(last_qubit)\n",
    "BV_circ.barrier()\n",
    "walsh_hadamard_transform(BV_circ, num_qubits)\n",
    "cnot_oracle(BV_circ, secret_string)\n",
    "walsh_hadamard_transform(BV_circ, num_qubits)\n",
    "BV_circ.barrier()\n",
    "measure(BV_circ, num_clbits)"
   ]
  },
  {
   "cell_type": "code",
   "execution_count": 23,
   "id": "b3549dca-0b41-4106-9bb4-927a34f7e8fb",
   "metadata": {},
   "outputs": [
    {
     "data": {
      "text/html": [
       "<pre style=\"word-wrap: normal;white-space: pre;background: #fff0;line-height: 1.1;font-family: &quot;Courier New&quot;,Courier,monospace\">           ░ ┌───┐     ┌───┐           ░ ┌─┐               \n",
       "q_0: ──────░─┤ H ├──■──┤ H ├───────────░─┤M├───────────────\n",
       "           ░ ├───┤  │  ├───┤           ░ └╥┘┌─┐            \n",
       "q_1: ──────░─┤ H ├──┼──┤ H ├───────────░──╫─┤M├────────────\n",
       "           ░ ├───┤  │  ├───┤           ░  ║ └╥┘┌─┐         \n",
       "q_2: ──────░─┤ H ├──┼──┤ H ├───────────░──╫──╫─┤M├─────────\n",
       "           ░ ├───┤  │  ├───┤           ░  ║  ║ └╥┘┌─┐      \n",
       "q_3: ──────░─┤ H ├──┼──┤ H ├───────────░──╫──╫──╫─┤M├──────\n",
       "           ░ ├───┤  │  └───┘     ┌───┐ ░  ║  ║  ║ └╥┘┌─┐   \n",
       "q_4: ──────░─┤ H ├──┼─────────■──┤ H ├─░──╫──╫──╫──╫─┤M├───\n",
       "           ░ ├───┤  │  ┌───┐  │  └───┘ ░  ║  ║  ║  ║ └╥┘┌─┐\n",
       "q_5: ──────░─┤ H ├──┼──┤ H ├──┼────────░──╫──╫──╫──╫──╫─┤M├\n",
       "     ┌───┐ ░ ├───┤┌─┴─┐└───┘┌─┴─┐┌───┐ ░  ║  ║  ║  ║  ║ └╥┘\n",
       "q_6: ┤ X ├─░─┤ H ├┤ X ├─────┤ X ├┤ H ├─░──╫──╫──╫──╫──╫──╫─\n",
       "     └───┘ ░ └───┘└───┘     └───┘└───┘ ░  ║  ║  ║  ║  ║  ║ \n",
       "c: 6/═════════════════════════════════════╩══╩══╩══╩══╩══╩═\n",
       "                                          0  1  2  3  4  5 </pre>"
      ],
      "text/plain": [
       "           ░ ┌───┐     ┌───┐           ░ ┌─┐               \n",
       "q_0: ──────░─┤ H ├──■──┤ H ├───────────░─┤M├───────────────\n",
       "           ░ ├───┤  │  ├───┤           ░ └╥┘┌─┐            \n",
       "q_1: ──────░─┤ H ├──┼──┤ H ├───────────░──╫─┤M├────────────\n",
       "           ░ ├───┤  │  ├───┤           ░  ║ └╥┘┌─┐         \n",
       "q_2: ──────░─┤ H ├──┼──┤ H ├───────────░──╫──╫─┤M├─────────\n",
       "           ░ ├───┤  │  ├───┤           ░  ║  ║ └╥┘┌─┐      \n",
       "q_3: ──────░─┤ H ├──┼──┤ H ├───────────░──╫──╫──╫─┤M├──────\n",
       "           ░ ├───┤  │  └───┘     ┌───┐ ░  ║  ║  ║ └╥┘┌─┐   \n",
       "q_4: ──────░─┤ H ├──┼─────────■──┤ H ├─░──╫──╫──╫──╫─┤M├───\n",
       "           ░ ├───┤  │  ┌───┐  │  └───┘ ░  ║  ║  ║  ║ └╥┘┌─┐\n",
       "q_5: ──────░─┤ H ├──┼──┤ H ├──┼────────░──╫──╫──╫──╫──╫─┤M├\n",
       "     ┌───┐ ░ ├───┤┌─┴─┐└───┘┌─┴─┐┌───┐ ░  ║  ║  ║  ║  ║ └╥┘\n",
       "q_6: ┤ X ├─░─┤ H ├┤ X ├─────┤ X ├┤ H ├─░──╫──╫──╫──╫──╫──╫─\n",
       "     └───┘ ░ └───┘└───┘     └───┘└───┘ ░  ║  ║  ║  ║  ║  ║ \n",
       "c: 6/═════════════════════════════════════╩══╩══╩══╩══╩══╩═\n",
       "                                          0  1  2  3  4  5 "
      ]
     },
     "execution_count": 23,
     "metadata": {},
     "output_type": "execute_result"
    }
   ],
   "source": [
    "BV_circ.draw()"
   ]
  },
  {
   "cell_type": "markdown",
   "id": "8688a629-b099-4279-8eb4-34576656f052",
   "metadata": {},
   "source": [
    "#### Correct Answer"
   ]
  },
  {
   "cell_type": "code",
   "execution_count": 24,
   "id": "df8bb513-dc34-4ad9-a996-dd67f4eb5e63",
   "metadata": {},
   "outputs": [
    {
     "data": {
      "text/html": [
       "<pre style=\"word-wrap: normal;white-space: pre;background: #fff0;line-height: 1.1;font-family: &quot;Courier New&quot;,Courier,monospace\">           ░ ┌───┐      ░ ┌─┐               \n",
       "q_0: ──────░─┤ X ├──────░─┤M├───────────────\n",
       "           ░ └─┬─┘      ░ └╥┘┌─┐            \n",
       "q_1: ──────░───┼────────░──╫─┤M├────────────\n",
       "           ░   │        ░  ║ └╥┘┌─┐         \n",
       "q_2: ──────░───┼────────░──╫──╫─┤M├─────────\n",
       "           ░   │        ░  ║  ║ └╥┘┌─┐      \n",
       "q_3: ──────░───┼────────░──╫──╫──╫─┤M├──────\n",
       "           ░   │  ┌───┐ ░  ║  ║  ║ └╥┘┌─┐   \n",
       "q_4: ──────░───┼──┤ X ├─░──╫──╫──╫──╫─┤M├───\n",
       "           ░   │  └─┬─┘ ░  ║  ║  ║  ║ └╥┘┌─┐\n",
       "q_5: ──────░───┼────┼───░──╫──╫──╫──╫──╫─┤M├\n",
       "     ┌───┐ ░   │    │   ░  ║  ║  ║  ║  ║ └╥┘\n",
       "q_6: ┤ X ├─░───■────■───░──╫──╫──╫──╫──╫──╫─\n",
       "     └───┘ ░            ░  ║  ║  ║  ║  ║  ║ \n",
       "c: 6/══════════════════════╩══╩══╩══╩══╩══╩═\n",
       "                           0  1  2  3  4  5 </pre>"
      ],
      "text/plain": [
       "           ░ ┌───┐      ░ ┌─┐               \n",
       "q_0: ──────░─┤ X ├──────░─┤M├───────────────\n",
       "           ░ └─┬─┘      ░ └╥┘┌─┐            \n",
       "q_1: ──────░───┼────────░──╫─┤M├────────────\n",
       "           ░   │        ░  ║ └╥┘┌─┐         \n",
       "q_2: ──────░───┼────────░──╫──╫─┤M├─────────\n",
       "           ░   │        ░  ║  ║ └╥┘┌─┐      \n",
       "q_3: ──────░───┼────────░──╫──╫──╫─┤M├──────\n",
       "           ░   │  ┌───┐ ░  ║  ║  ║ └╥┘┌─┐   \n",
       "q_4: ──────░───┼──┤ X ├─░──╫──╫──╫──╫─┤M├───\n",
       "           ░   │  └─┬─┘ ░  ║  ║  ║  ║ └╥┘┌─┐\n",
       "q_5: ──────░───┼────┼───░──╫──╫──╫──╫──╫─┤M├\n",
       "     ┌───┐ ░   │    │   ░  ║  ║  ║  ║  ║ └╥┘\n",
       "q_6: ┤ X ├─░───■────■───░──╫──╫──╫──╫──╫──╫─\n",
       "     └───┘ ░            ░  ║  ║  ║  ║  ║  ║ \n",
       "c: 6/══════════════════════╩══╩══╩══╩══╩══╩═\n",
       "                           0  1  2  3  4  5 "
      ]
     },
     "execution_count": 24,
     "metadata": {},
     "output_type": "execute_result"
    }
   ],
   "source": [
    "BV_simple = QuantumCircuit(num_qubits, num_clbits)\n",
    "\n",
    "BV_simple.x(last_qubit)\n",
    "BV_simple.barrier()\n",
    "switched_cnot_oracle(BV_simple, secret_string)\n",
    "BV_simple.barrier()\n",
    "measure(BV_simple, num_clbits)\n",
    "\n",
    "BV_simple.draw()"
   ]
  },
  {
   "cell_type": "markdown",
   "id": "c8e7e138-2ca0-47f5-b0d3-35b0f2abba3a",
   "metadata": {},
   "source": [
    "#### Let's simulate BV_circ and the correct answer"
   ]
  },
  {
   "cell_type": "code",
   "execution_count": 25,
   "id": "4406fda4-f485-42a2-b77b-27f9650c00f9",
   "metadata": {},
   "outputs": [],
   "source": [
    "def aer_simulate_circuit(qc):\n",
    "    backend = Aer.get_backend('qasm_simulator')\n",
    "    job = execute(qc,backend, shots = 1024)\n",
    "    result = job.result()         \n",
    "    return result.get_counts()"
   ]
  },
  {
   "cell_type": "code",
   "execution_count": 26,
   "id": "b9e70f3c-1a24-4605-b465-ac41795c989a",
   "metadata": {},
   "outputs": [
    {
     "data": {
      "image/png": "[encoded data removed]",
      "text/plain": [
       "<Figure size 500x400 with 1 Axes>"
      ]
     },
     "execution_count": 26,
     "metadata": {},
     "output_type": "execute_result"
    }
   ],
   "source": [
    "plot_histogram(aer_simulate_circuit(BV_circ), figsize=(5, 4), color='green') "
   ]
  },
  {
   "cell_type": "code",
   "execution_count": 27,
   "id": "d9b6eab6-aaa1-4cab-aae7-54c4713007e9",
   "metadata": {},
   "outputs": [
    {
     "data": {
      "image/png": "[encoded data removed]",
      "text/plain": [
       "<Figure size 500x400 with 1 Axes>"
      ]
     },
     "execution_count": 27,
     "metadata": {},
     "output_type": "execute_result"
    }
   ],
   "source": [
    "plot_histogram(aer_simulate_circuit(BV_simple), figsize=(5, 4), color='blue') "
   ]
  },
  {
   "cell_type": "code",
   "execution_count": null,
   "id": "18294769-750c-4fad-8154-657900df3add",
   "metadata": {},
   "outputs": [],
   "source": []
  }
 ],
 "metadata": {
  "kernelspec": {
   "display_name": "Python 3 [Default]",
   "language": "python",
   "name": "python3"
  },
  "language_info": {
   "codemirror_mode": {
    "name": "ipython",
    "version": 3
   },
   "file_extension": ".py",
   "mimetype": "text/x-python",
   "name": "python",
   "nbconvert_exporter": "python",
   "pygments_lexer": "ipython3",
   "version": "3.9.12"
  }
 },
 "nbformat": 4,
 "nbformat_minor": 5
}
