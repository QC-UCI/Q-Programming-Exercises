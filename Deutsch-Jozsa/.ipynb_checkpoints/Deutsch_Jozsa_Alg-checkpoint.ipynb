{
 "cells": [
  {
   "cell_type": "code",
   "execution_count": 4,
   "id": "63323746-0b2d-4f79-8d8b-c90ec42dddf9",
   "metadata": {},
   "outputs": [],
   "source": [
    "from qiskit import QuantumCircuit, transpile, Aer, IBMQ, assemble, execute, QuantumRegister, ClassicalRegister, AncillaRegister\n",
    "from qiskit.circuit.library import MCMT, ZGate, mcrz\n",
    "from qiskit.tools.jupyter import *\n",
    "from qiskit.visualization import *\n",
    "from qiskit.providers.aer import QasmSimulator\n",
    "import qiskit.quantum_info as qi\n",
    "\n",
    "from qiskit_ibm_provider import IBMProvider\n",
    "import qiskit_ibm_provider\n",
    "\n",
    "#import seaborn\n",
    "import numpy as np\n",
    "\n",
    "#provider = IBMProvider()"
   ]
  },
  {
   "cell_type": "code",
   "execution_count": 5,
   "id": "051f3685-8ebc-4f95-8c58-2bda4f8d82c9",
   "metadata": {},
   "outputs": [],
   "source": [
    "pi = np.pi\n",
    "            \n",
    "def sv_simulate_circuit(qc):            \n",
    "    backend = Aer.get_backend('statevector_simulator') # Tell it which simulator you want to use \n",
    "    job = execute(qc,backend) # Put in the name of your quantum circuit where it says qc\n",
    "    result = job.result() \n",
    "\n",
    "    state = np.asarray(result.get_statevector())\n",
    "    \n",
    "    amplitude_list = []\n",
    "    for amplitude in state:\n",
    "        amplitude_list.append(np.round(amplitude,3))\n",
    "        \n",
    "    return amplitude_list\n",
    "\n",
    "def aer_simulate_circuit(qc):\n",
    "    backend = Aer.get_backend('qasm_simulator')\n",
    "    job = execute(qc,backend, shots = 1024)\n",
    "    result = job.result()         \n",
    "    return result.get_counts()"
   ]
  },
  {
   "cell_type": "code",
   "execution_count": 12,
   "id": "25a40902-2709-4d2a-a514-8c9ea5db6d10",
   "metadata": {},
   "outputs": [],
   "source": [
    "#Varying input bitstring (dependent on whether f(x) is constant or balanced\n",
    "\n",
    "#Flipping 1st and 3rd qubits; Expect spike on `0101` [Little Endian ordering] ==> Balanced Oracle\n",
    "def input_variation1(qc):\n",
    "    qc.x(0)\n",
    "    qc.x(2)\n",
    "    return qc\n",
    "\n",
    "#Flipping 2nd qubit; Expect spike on `0010` ==> Balanced Oracle\n",
    "def input_variation2(qc):\n",
    "    qc.x(1)\n",
    "    return qc\n",
    "\n",
    "#NO CHANGE; Expect spike on `0000` ==> Constant Oracle\n",
    "def input_variation3(qc):\n",
    "    return qc"
   ]
  },
  {
   "cell_type": "code",
   "execution_count": 19,
   "id": "cab9b635-0492-44d6-b088-cde8e1eb9633",
   "metadata": {},
   "outputs": [
    {
     "data": {
      "text/plain": [
       "<qiskit.circuit.instructionset.InstructionSet at 0x7f75f5e5c3d0>"
      ]
     },
     "execution_count": 19,
     "metadata": {},
     "output_type": "execute_result"
    }
   ],
   "source": [
    "qreg = QuantumRegister(4)\n",
    "creg = ClassicalRegister(4)\n",
    "output = AncillaRegister(1) \n",
    "\n",
    "qc = QuantumCircuit(qreg, output, creg)\n",
    "\n",
    "## DIFFERENT INPUTS\n",
    "\n",
    "#qc = input_variation1(qc)\n",
    "#qc = input_variation2(qc)\n",
    "qc = input_variation3(qc)\n",
    "\n",
    "## DEUTSCH-JOZSA ALGORITHM\n",
    "for i in range(4): qc.h(i) #Cascade Hadamard\n",
    "qc.x(output) #Negating output qubit\n",
    "qc.mcp(-pi, [i for i in range(4)], 4) #Multi-controlled Z (Phase) gate\n",
    "for i in range(4): qc.h(i) #Cascade Hadamard\n",
    "qc.measure([i for i in range(4)], [i for i in range(4)]) #Measure all input qubits"
   ]
  },
  {
   "cell_type": "code",
   "execution_count": 20,
   "id": "27312d9c-e8b9-4691-b51c-24510460a11c",
   "metadata": {},
   "outputs": [
    {
     "data": {
      "text/html": [
       "<pre style=\"word-wrap: normal;white-space: pre;background: #fff0;line-height: 1.1;font-family: &quot;Courier New&quot;,Courier,monospace\">       ┌───┐        ┌───┐┌─┐         \n",
       "q35_0: ┤ H ├─■──────┤ H ├┤M├─────────\n",
       "       ├───┤ │      ├───┤└╥┘┌─┐      \n",
       "q35_1: ┤ H ├─■──────┤ H ├─╫─┤M├──────\n",
       "       ├───┤ │      ├───┤ ║ └╥┘┌─┐   \n",
       "q35_2: ┤ H ├─■──────┤ H ├─╫──╫─┤M├───\n",
       "       ├───┤ │      ├───┤ ║  ║ └╥┘┌─┐\n",
       "q35_3: ┤ H ├─■──────┤ H ├─╫──╫──╫─┤M├\n",
       "       ├───┤ │P(-π) └───┘ ║  ║  ║ └╥┘\n",
       "   a3: ┤ X ├─■────────────╫──╫──╫──╫─\n",
       "       └───┘              ║  ║  ║  ║ \n",
       " c3: 4/═══════════════════╩══╩══╩══╩═\n",
       "                          0  1  2  3 </pre>"
      ],
      "text/plain": [
       "       ┌───┐        ┌───┐┌─┐         \n",
       "q35_0: ┤ H ├─■──────┤ H ├┤M├─────────\n",
       "       ├───┤ │      ├───┤└╥┘┌─┐      \n",
       "q35_1: ┤ H ├─■──────┤ H ├─╫─┤M├──────\n",
       "       ├───┤ │      ├───┤ ║ └╥┘┌─┐   \n",
       "q35_2: ┤ H ├─■──────┤ H ├─╫──╫─┤M├───\n",
       "       ├───┤ │      ├───┤ ║  ║ └╥┘┌─┐\n",
       "q35_3: ┤ H ├─■──────┤ H ├─╫──╫──╫─┤M├\n",
       "       ├───┤ │P(-π) └───┘ ║  ║  ║ └╥┘\n",
       "   a3: ┤ X ├─■────────────╫──╫──╫──╫─\n",
       "       └───┘              ║  ║  ║  ║ \n",
       " c3: 4/═══════════════════╩══╩══╩══╩═\n",
       "                          0  1  2  3 "
      ]
     },
     "execution_count": 20,
     "metadata": {},
     "output_type": "execute_result"
    }
   ],
   "source": [
    "qc.draw()"
   ]
  },
  {
   "cell_type": "code",
   "execution_count": 21,
   "id": "2d5637a6-b4b2-4398-b8d9-2711b6bc5c9b",
   "metadata": {},
   "outputs": [
    {
     "data": {
      "image/png": "[encoded data removed]",
      "text/plain": [
       "<Figure size 700x500 with 1 Axes>"
      ]
     },
     "execution_count": 21,
     "metadata": {},
     "output_type": "execute_result"
    }
   ],
   "source": [
    "aer_simulate_circuit(qc)\n",
    "\n",
    "plot_histogram(aer_simulate_circuit(qc))"
   ]
  },
  {
   "cell_type": "code",
   "execution_count": null,
   "id": "5ffa24b1-430d-4fc4-9dc1-575e4e42ecd7",
   "metadata": {},
   "outputs": [],
   "source": []
  }
 ],
 "metadata": {
  "kernelspec": {
   "display_name": "Python 3 [Default]",
   "language": "python",
   "name": "python3"
  },
  "language_info": {
   "codemirror_mode": {
    "name": "ipython",
    "version": 3
   },
   "file_extension": ".py",
   "mimetype": "text/x-python",
   "name": "python",
   "nbconvert_exporter": "python",
   "pygments_lexer": "ipython3",
   "version": "3.9.12"
  }
 },
 "nbformat": 4,
 "nbformat_minor": 5
}
