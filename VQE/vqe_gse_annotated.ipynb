{
 "cells": [
  {
   "cell_type": "code",
   "execution_count": 2,
   "id": "0f83c5b1-2a21-45fe-aa66-05e49a4c421e",
   "metadata": {
    "tags": []
   },
   "outputs": [
    {
     "name": "stdout",
     "output_type": "stream",
     "text": [
      "Collecting qiskit-nature[pyscf]\n",
      "  Obtaining dependency information for qiskit-nature[pyscf] from https://files.pythonhosted.org/packages/9c/91/b2867b7cc8b0e81940d2a04e41f04024467e8055cf964ea4e22213f7e9a1/qiskit_nature-0.6.2-py3-none-any.whl.metadata\n",
      "  Downloading qiskit_nature-0.6.2-py3-none-any.whl.metadata (7.4 kB)\n",
      "Collecting qiskit-terra>=0.24 (from qiskit-nature[pyscf])\n",
      "  Obtaining dependency information for qiskit-terra>=0.24 from https://files.pythonhosted.org/packages/4b/ef/3b735b3a8f17085dc8f31e3c449744ee025a1a594ba835d9f1db2d1a6ebe/qiskit_terra-0.25.1-cp38-abi3-manylinux_2_17_x86_64.manylinux2014_x86_64.whl.metadata\n",
      "  Downloading qiskit_terra-0.25.1-cp38-abi3-manylinux_2_17_x86_64.manylinux2014_x86_64.whl.metadata (9.0 kB)\n",
      "Collecting scipy>=1.4 (from qiskit-nature[pyscf])\n",
      "  Obtaining dependency information for scipy>=1.4 from https://files.pythonhosted.org/packages/a3/d3/f88285098505c8e5d141678a24bb9620d902c683f11edc1eb9532b02624e/scipy-1.11.2-cp39-cp39-manylinux_2_17_x86_64.manylinux2014_x86_64.whl.metadata\n",
      "  Downloading scipy-1.11.2-cp39-cp39-manylinux_2_17_x86_64.manylinux2014_x86_64.whl.metadata (59 kB)\n",
      "\u001b[2K     \u001b[90m━━━━━━━━━━━━━━━━━━━━━━━━━━━━━━━━━━━━━━━━\u001b[0m \u001b[32m59.1/59.1 kB\u001b[0m \u001b[31m1.8 MB/s\u001b[0m eta \u001b[36m0:00:00\u001b[0m\n",
      "\u001b[?25hRequirement already satisfied: numpy>=1.17 in /opt/conda/lib/python3.9/site-packages (from qiskit-nature[pyscf]) (1.25.2)\n",
      "Requirement already satisfied: psutil>=5 in /opt/conda/lib/python3.9/site-packages (from qiskit-nature[pyscf]) (5.9.0)\n",
      "Collecting scikit-learn>=0.20.0 (from qiskit-nature[pyscf])\n",
      "  Obtaining dependency information for scikit-learn>=0.20.0 from https://files.pythonhosted.org/packages/d4/61/966d3238f6cbcbb13350d31bd0accfc5efdf9e349cd2a42d9761b8b67a18/scikit_learn-1.3.0-cp39-cp39-manylinux_2_17_x86_64.manylinux2014_x86_64.whl.metadata\n",
      "  Downloading scikit_learn-1.3.0-cp39-cp39-manylinux_2_17_x86_64.manylinux2014_x86_64.whl.metadata (11 kB)\n",
      "Requirement already satisfied: setuptools>=40.1.0 in /opt/conda/lib/python3.9/site-packages (from qiskit-nature[pyscf]) (62.2.0)\n",
      "Collecting typing-extensions (from qiskit-nature[pyscf])\n",
      "  Obtaining dependency information for typing-extensions from https://files.pythonhosted.org/packages/ec/6b/63cc3df74987c36fe26157ee12e09e8f9db4de771e0f3404263117e75b95/typing_extensions-4.7.1-py3-none-any.whl.metadata\n",
      "  Downloading typing_extensions-4.7.1-py3-none-any.whl.metadata (3.1 kB)\n",
      "Requirement already satisfied: h5py in /home/jovyan/.local/lib/python3.9/site-packages (from qiskit-nature[pyscf]) (3.8.0)\n",
      "Collecting rustworkx (from qiskit-nature[pyscf])\n",
      "  Obtaining dependency information for rustworkx from https://files.pythonhosted.org/packages/ef/b1/ecaadd86cc812a22329efb753922226f1b797e2ab225d3aac05689482d3f/rustworkx-0.13.1-cp39-cp39-manylinux_2_17_x86_64.manylinux2014_x86_64.whl.metadata\n",
      "  Downloading rustworkx-0.13.1-cp39-cp39-manylinux_2_17_x86_64.manylinux2014_x86_64.whl.metadata (10 kB)\n",
      "Collecting pyscf (from qiskit-nature[pyscf])\n",
      "  Obtaining dependency information for pyscf from https://files.pythonhosted.org/packages/8e/d9/6d618d32b08746c2f38c530eae9ead3d97098bff43e4773edacb294542ee/pyscf-2.3.0-cp39-cp39-manylinux_2_17_x86_64.manylinux2014_x86_64.whl.metadata\n",
      "  Using cached pyscf-2.3.0-cp39-cp39-manylinux_2_17_x86_64.manylinux2014_x86_64.whl.metadata (3.1 kB)\n",
      "Collecting ply>=3.10 (from qiskit-terra>=0.24->qiskit-nature[pyscf])\n",
      "  Using cached ply-3.11-py2.py3-none-any.whl (49 kB)\n",
      "Collecting sympy>=1.3 (from qiskit-terra>=0.24->qiskit-nature[pyscf])\n",
      "  Using cached sympy-1.12-py3-none-any.whl (5.7 MB)\n",
      "Collecting dill>=0.3 (from qiskit-terra>=0.24->qiskit-nature[pyscf])\n",
      "  Obtaining dependency information for dill>=0.3 from https://files.pythonhosted.org/packages/f5/3a/74a29b11cf2cdfcd6ba89c0cecd70b37cd1ba7b77978ce611eb7a146a832/dill-0.3.7-py3-none-any.whl.metadata\n",
      "  Downloading dill-0.3.7-py3-none-any.whl.metadata (9.9 kB)\n",
      "Requirement already satisfied: python-dateutil>=2.8.0 in /opt/conda/lib/python3.9/site-packages (from qiskit-terra>=0.24->qiskit-nature[pyscf]) (2.8.2)\n",
      "Collecting stevedore>=3.0.0 (from qiskit-terra>=0.24->qiskit-nature[pyscf])\n",
      "  Obtaining dependency information for stevedore>=3.0.0 from https://files.pythonhosted.org/packages/4b/68/e739fd061b0aba464bef8e8be48428b2aabbfb3f2f8f2f8ca257363ee6b2/stevedore-5.1.0-py3-none-any.whl.metadata\n",
      "  Downloading stevedore-5.1.0-py3-none-any.whl.metadata (2.2 kB)\n",
      "Collecting symengine<0.10,>=0.9 (from qiskit-terra>=0.24->qiskit-nature[pyscf])\n",
      "  Using cached symengine-0.9.2-cp39-cp39-manylinux2010_x86_64.whl (37.5 MB)\n",
      "Collecting joblib>=1.1.1 (from scikit-learn>=0.20.0->qiskit-nature[pyscf])\n",
      "  Obtaining dependency information for joblib>=1.1.1 from https://files.pythonhosted.org/packages/10/40/d551139c85db202f1f384ba8bcf96aca2f329440a844f924c8a0040b6d02/joblib-1.3.2-py3-none-any.whl.metadata\n",
      "  Downloading joblib-1.3.2-py3-none-any.whl.metadata (5.4 kB)\n",
      "Collecting threadpoolctl>=2.0.0 (from scikit-learn>=0.20.0->qiskit-nature[pyscf])\n",
      "  Obtaining dependency information for threadpoolctl>=2.0.0 from https://files.pythonhosted.org/packages/81/12/fd4dea011af9d69e1cad05c75f3f7202cdcbeac9b712eea58ca779a72865/threadpoolctl-3.2.0-py3-none-any.whl.metadata\n",
      "  Downloading threadpoolctl-3.2.0-py3-none-any.whl.metadata (10.0 kB)\n",
      "Requirement already satisfied: six>=1.5 in /opt/conda/lib/python3.9/site-packages (from python-dateutil>=2.8.0->qiskit-terra>=0.24->qiskit-nature[pyscf]) (1.16.0)\n",
      "Collecting pbr!=2.1.0,>=2.0.0 (from stevedore>=3.0.0->qiskit-terra>=0.24->qiskit-nature[pyscf])\n",
      "  Using cached pbr-5.11.1-py2.py3-none-any.whl (112 kB)\n",
      "Collecting mpmath>=0.19 (from sympy>=1.3->qiskit-terra>=0.24->qiskit-nature[pyscf])\n",
      "  Using cached mpmath-1.3.0-py3-none-any.whl (536 kB)\n",
      "Downloading qiskit_terra-0.25.1-cp38-abi3-manylinux_2_17_x86_64.manylinux2014_x86_64.whl (6.1 MB)\n",
      "\u001b[2K   \u001b[90m━━━━━━━━━━━━━━━━━━━━━━━━━━━━━━━━━━━━━━━━\u001b[0m \u001b[32m6.1/6.1 MB\u001b[0m \u001b[31m57.9 MB/s\u001b[0m eta \u001b[36m0:00:00\u001b[0m00:01\u001b[0m00:01\u001b[0m\n",
      "\u001b[?25hUsing cached rustworkx-0.13.1-cp39-cp39-manylinux_2_17_x86_64.manylinux2014_x86_64.whl (2.0 MB)\n",
      "Using cached scikit_learn-1.3.0-cp39-cp39-manylinux_2_17_x86_64.manylinux2014_x86_64.whl (10.9 MB)\n",
      "Downloading scipy-1.11.2-cp39-cp39-manylinux_2_17_x86_64.manylinux2014_x86_64.whl (36.5 MB)\n",
      "\u001b[2K   \u001b[90m━━━━━━━━━━━━━━━━━━━━━━━━━━━━━━━━━━━━━━━━\u001b[0m \u001b[32m36.5/36.5 MB\u001b[0m \u001b[31m45.3 MB/s\u001b[0m eta \u001b[36m0:00:00\u001b[0m:00:01\u001b[0m00:01\u001b[0m\n",
      "\u001b[?25hUsing cached pyscf-2.3.0-cp39-cp39-manylinux_2_17_x86_64.manylinux2014_x86_64.whl (47.2 MB)\n",
      "Using cached qiskit_nature-0.6.2-py3-none-any.whl (4.1 MB)\n",
      "Using cached typing_extensions-4.7.1-py3-none-any.whl (33 kB)\n",
      "Using cached dill-0.3.7-py3-none-any.whl (115 kB)\n",
      "Downloading joblib-1.3.2-py3-none-any.whl (302 kB)\n",
      "\u001b[2K   \u001b[90m━━━━━━━━━━━━━━━━━━━━━━━━━━━━━━━━━━━━━━━━\u001b[0m \u001b[32m302.2/302.2 kB\u001b[0m \u001b[31m14.7 MB/s\u001b[0m eta \u001b[36m0:00:00\u001b[0m\n",
      "\u001b[?25hUsing cached stevedore-5.1.0-py3-none-any.whl (49 kB)\n",
      "Using cached threadpoolctl-3.2.0-py3-none-any.whl (15 kB)\n",
      "Installing collected packages: ply, mpmath, typing-extensions, threadpoolctl, sympy, symengine, scipy, rustworkx, pbr, joblib, dill, stevedore, scikit-learn, pyscf, qiskit-terra, qiskit-nature\n",
      "\u001b[31mERROR: pip's dependency resolver does not currently take into account all the packages that are installed. This behaviour is the source of the following dependency conflicts.\n",
      "tensorflow 2.12.0 requires flatbuffers>=2.0, which is not installed.\n",
      "tensorflow 2.12.0 requires libclang>=13.0.0, which is not installed.\n",
      "tensorflow 2.12.0 requires protobuf!=4.21.0,!=4.21.1,!=4.21.2,!=4.21.3,!=4.21.4,!=4.21.5,<5.0.0dev,>=3.20.3, which is not installed.\n",
      "tensorflow 2.12.0 requires numpy<1.24,>=1.22, but you have numpy 1.25.2 which is incompatible.\u001b[0m\u001b[31m\n",
      "\u001b[0mSuccessfully installed dill-0.3.7 joblib-1.3.2 mpmath-1.3.0 pbr-5.11.1 ply-3.11 pyscf-2.3.0 qiskit-nature-0.6.2 qiskit-terra-0.25.1 rustworkx-0.13.1 scikit-learn-1.3.0 scipy-1.11.2 stevedore-5.1.0 symengine-0.9.2 sympy-1.12 threadpoolctl-3.2.0 typing-extensions-4.7.1\n"
     ]
    }
   ],
   "source": [
    "!pip install qiskit-nature[pyscf] -U\n",
    "\n",
    "## FROM QISKIT TUTORIAL: https://qiskit.org/ecosystem/nature/tutorials/03_ground_state_solvers.html"
   ]
  },
  {
   "cell_type": "code",
   "execution_count": 3,
   "id": "eb1f6012-d724-433c-b48e-cbbc89de8fee",
   "metadata": {},
   "outputs": [
    {
     "name": "stdout",
     "output_type": "stream",
     "text": [
      "Name: qiskit-nature\n",
      "Version: 0.6.2\n",
      "Summary: Qiskit Nature: A library of quantum computing chemistry/physics experiments\n",
      "Home-page: https://github.com/Qiskit/qiskit-nature\n",
      "Author: Qiskit Nature Development Team\n",
      "Author-email: hello@qiskit.org\n",
      "License: Apache-2.0\n",
      "Location: /opt/conda/lib/python3.9/site-packages\n",
      "Requires: h5py, numpy, psutil, qiskit-terra, rustworkx, scikit-learn, scipy, setuptools, typing-extensions\n",
      "Required-by: \n",
      "Name: pyscf\n",
      "Version: 2.3.0\n",
      "Summary: PySCF: Python-based Simulations of Chemistry Framework\n",
      "Home-page: http://www.pyscf.org\n",
      "Author: Qiming Sun\n",
      "Author-email: osirpt.sun@gmail.com\n",
      "License: Apache License 2.0\n",
      "Location: /opt/conda/lib/python3.9/site-packages\n",
      "Requires: h5py, numpy, scipy\n",
      "Required-by: \n"
     ]
    }
   ],
   "source": [
    "!pip show qiskit_nature \n",
    "!pip show pyscf\n",
    "\n",
    "#Soln found here: https://quantumcomputing.stackexchange.com/questions/26927/help-on-pyscf-library"
   ]
  },
  {
   "cell_type": "code",
   "execution_count": 4,
   "id": "45502dc1-eade-40e0-a6a7-3ba5783fa824",
   "metadata": {},
   "outputs": [],
   "source": [
    "from qiskit_nature.units import DistanceUnit\n",
    "from qiskit_nature.second_q.drivers import PySCFDriver\n",
    "\n",
    "from qiskit_nature.second_q.mappers import JordanWignerMapper\n",
    "\n",
    "from qiskit.algorithms.minimum_eigensolvers import NumPyMinimumEigensolver\n",
    "\n",
    "from qiskit.algorithms.minimum_eigensolvers import VQE\n",
    "from qiskit.algorithms.optimizers import SLSQP\n",
    "from qiskit.primitives import Estimator\n",
    "from qiskit_nature.second_q.circuit.library import HartreeFock, UCCSD\n",
    "\n",
    "from qiskit_nature.second_q.algorithms import GroundStateEigensolver\n",
    "\n",
    "from qiskit.circuit.library import TwoLocal"
   ]
  },
  {
   "cell_type": "code",
   "execution_count": 5,
   "id": "364d97d6-e85b-48f9-be3c-4eb661544d6b",
   "metadata": {},
   "outputs": [
    {
     "name": "stderr",
     "output_type": "stream",
     "text": [
      "/opt/conda/lib/python3.9/site-packages/pyscf/dft/libxc.py:772: UserWarning: Since PySCF-2.3, B3LYP (and B3P86) are changed to the VWN-RPA variant, the same to the B3LYP functional in Gaussian and ORCA (issue 1480). To restore the VWN5 definition, you can put the setting \"B3LYP_WITH_VWN5 = True\" in pyscf_conf.py\n",
      "  warnings.warn('Since PySCF-2.3, B3LYP (and B3P86) are changed to the VWN-RPA variant, '\n"
     ]
    }
   ],
   "source": [
    "# Creating PySCF driver for respective molecule based on xyz file format \n",
    "# Specifically for Nitrogen (N2) molecule:\n",
    "driver = PySCFDriver(\n",
    "    atom=\"H 0 0 -0.37; H 0 0 0.37\", ## H2 <Just Right>; charge/spin:0/0\n",
    "    #atom=\"N 0 0 0; N 1.098 0 0\", ##N2 <TOO LONG>; charge/spin:0/0\n",
    "    #atom=\"N 0 0 -0.069; H 0 0.943 0.321; H -0.817 -0.472 0.321; H 0.817 -0.472 0.321\", ##NH3 <TOO LONG>; charge/spin:0/0\n",
    "    basis=\"sto3g\",\n",
    "    charge=0,\n",
    "    spin=0,\n",
    "    unit=DistanceUnit.ANGSTROM,\n",
    ")\n",
    "\n",
    "# Creating the Electronic Structure (es) problem\n",
    "es_problem = driver.run()"
   ]
  },
  {
   "cell_type": "code",
   "execution_count": 6,
   "id": "3d8e89c3-1335-4fba-962e-3121916ce9a0",
   "metadata": {},
   "outputs": [],
   "source": [
    "# Transforms the qubits (from initial '0' state to representing H_el in 2nd quantization form)\n",
    "mapper = JordanWignerMapper()"
   ]
  },
  {
   "cell_type": "code",
   "execution_count": 7,
   "id": "0186aefe-d012-4ce8-a008-33e8418b7a55",
   "metadata": {},
   "outputs": [],
   "source": [
    "# Classical routine\n",
    "numpy_solver = NumPyMinimumEigensolver()"
   ]
  },
  {
   "cell_type": "code",
   "execution_count": 8,
   "id": "dfd810b9-5c5b-4d6b-8675-4a9f74cea673",
   "metadata": {},
   "outputs": [
    {
     "name": "stderr",
     "output_type": "stream",
     "text": [
      "/opt/conda/lib/python3.9/site-packages/qiskit_nature/deprecation.py:297: PauliSumOpDeprecationWarning: PauliSumOp is deprecated as of version 0.6.0 and support for them will be removed no sooner than 3 months after the release. Instead, use SparsePauliOp. You can switch to SparsePauliOp immediately, by setting `qiskit_nature.settings.use_pauli_sum_op` to `False`.\n",
      "  return func(*args, **kwargs)\n"
     ]
    }
   ],
   "source": [
    "# Ansatz: Parameterized Quantum Circuit (Theta)\n",
    "# Typically, we use UCCSD (unitary coupled cluster), which is chemistry-inspired\n",
    "ansatz = UCCSD(\n",
    "    es_problem.num_spatial_orbitals,\n",
    "    es_problem.num_particles,\n",
    "    mapper,\n",
    "    initial_state=HartreeFock(  #HF provided cheap yet good starting approx. value \n",
    "        es_problem.num_spatial_orbitals,\n",
    "        es_problem.num_particles,\n",
    "        mapper,\n",
    "    ),\n",
    ")\n",
    "\n",
    "# Estimator = Qiskit's primitive machine categorization; more suitable for VQE \n",
    "# other types is Sampler (which is used in other scenarios)\n",
    "vqe_solver = VQE(Estimator(), ansatz, SLSQP())\n",
    "\n",
    "# Initial parameter values \n",
    "vqe_solver.initial_point = [0.0] * ansatz.num_parameters"
   ]
  },
  {
   "cell_type": "code",
   "execution_count": 9,
   "id": "f5c0e74c-895b-4c0a-8a3f-64597cdc353c",
   "metadata": {},
   "outputs": [],
   "source": [
    "# Custom TwoLocal parameterized quantum circuit using:\n",
    "    # Hadamard and RX gates for rotation/superposition\n",
    "    # Controlled-Z gates for 'full' entanglement\n",
    "    # 2 repetitions/layers\n",
    "    \n",
    "tl_circuit = TwoLocal(\n",
    "    rotation_blocks=[\"h\", \"rx\"],\n",
    "    entanglement_blocks=\"cz\",\n",
    "    entanglement=\"full\",\n",
    "    reps=3,\n",
    "    parameter_prefix=\"y\",\n",
    ")\n",
    "\n",
    "# Second VQE (this time not using UCCSD)\n",
    "vqe_solver2 = VQE(Estimator(), tl_circuit, SLSQP())"
   ]
  },
  {
   "cell_type": "markdown",
   "id": "7848f3f6-e37e-4046-9735-270a97d9fce5",
   "metadata": {},
   "source": [
    "#### VQE vs. VQE2 vs. Classical-Solver"
   ]
  },
  {
   "cell_type": "code",
   "execution_count": 10,
   "id": "32fd44ca-0e71-4e78-b1a4-a0c48e7d08bd",
   "metadata": {
    "tags": []
   },
   "outputs": [
    {
     "name": "stdout",
     "output_type": "stream",
     "text": [
      "-----FROM VQE 1-----\n",
      "\n",
      "=== GROUND STATE ENERGY ===\n",
      " \n",
      "* Electronic ground state energy (Hartree): -1.852388173512\n",
      "  - computed part:      -1.852388173512\n",
      "~ Nuclear repulsion energy (Hartree): 0.715104339081\n",
      "> Total ground state energy (Hartree): -1.137283834431\n",
      " \n",
      "=== MEASURED OBSERVABLES ===\n",
      " \n",
      "  0:  # Particles: 2.000 S: 0.000 S^2: 0.000 M: 0.000\n",
      " \n",
      "=== DIPOLE MOMENTS ===\n",
      " \n",
      "~ Nuclear dipole moment (a.u.): [0.0  0.0  0.0]\n",
      " \n",
      "  0: \n",
      "  * Electronic dipole moment (a.u.): [0.0  0.0  -0.000000216518]\n",
      "    - computed part:      [0.0  0.0  -0.000000216518]\n",
      "  > Dipole moment (a.u.): [0.0  0.0  0.000000216518]  Total: 0.000000216518\n",
      "                 (debye): [0.0  0.0  0.000000550335]  Total: 0.000000550335\n",
      " \n"
     ]
    }
   ],
   "source": [
    "print(\"-----FROM VQE 1-----\\n\")\n",
    "\n",
    "# Using VQE and JW-mapper in classical routine (i.e., GroundStateSolver) to find ground state energy of molecule\n",
    "calc = GroundStateEigensolver(mapper, vqe_solver)\n",
    "\n",
    "result_vqe1 = calc.solve(es_problem)\n",
    "print(result_vqe1)"
   ]
  },
  {
   "cell_type": "code",
   "execution_count": 11,
   "id": "b940ab1d-8463-47c7-99e4-58de79c2a62b",
   "metadata": {
    "tags": []
   },
   "outputs": [
    {
     "name": "stdout",
     "output_type": "stream",
     "text": [
      "-----FROM VQE 2-----\n",
      "\n",
      "=== GROUND STATE ENERGY ===\n",
      " \n",
      "* Electronic ground state energy (Hartree): -1.852388098092\n",
      "  - computed part:      -1.852388098092\n",
      "~ Nuclear repulsion energy (Hartree): 0.715104339081\n",
      "> Total ground state energy (Hartree): -1.137283759011\n",
      " \n",
      "=== MEASURED OBSERVABLES ===\n",
      " \n",
      "  0:  # Particles: 2.000 S: 0.000 S^2: 0.000 M: -0.000\n",
      " \n",
      "=== DIPOLE MOMENTS ===\n",
      " \n",
      "~ Nuclear dipole moment (a.u.): [0.0  0.0  0.0]\n",
      " \n",
      "  0: \n",
      "  * Electronic dipole moment (a.u.): [0.0  0.0  -0.000000008646]\n",
      "    - computed part:      [0.0  0.0  -0.000000008646]\n",
      "  > Dipole moment (a.u.): [0.0  0.0  0.000000008646]  Total: 0.000000008646\n",
      "                 (debye): [0.0  0.0  0.000000021977]  Total: 0.000000021977\n",
      " \n"
     ]
    }
   ],
   "source": [
    "print(\"-----FROM VQE 2-----\\n\")\n",
    "\n",
    "# Using VQE and JW-mapper in classical routine (i.e., GroundStateSolver) to find ground state energy of molecule\n",
    "calc = GroundStateEigensolver(mapper, vqe_solver2)\n",
    "\n",
    "result_vqe2 = calc.solve(es_problem)\n",
    "print(result_vqe2)"
   ]
  },
  {
   "cell_type": "code",
   "execution_count": 12,
   "id": "d869fdaa-3112-4fdb-8c52-04609e788ebf",
   "metadata": {
    "tags": []
   },
   "outputs": [
    {
     "name": "stdout",
     "output_type": "stream",
     "text": [
      "-----CLASSICAL ONLY-----\n",
      "\n",
      "=== GROUND STATE ENERGY ===\n",
      " \n",
      "* Electronic ground state energy (Hartree): -1.85238817357\n",
      "  - computed part:      -1.85238817357\n",
      "~ Nuclear repulsion energy (Hartree): 0.715104339081\n",
      "> Total ground state energy (Hartree): -1.137283834489\n",
      " \n",
      "=== MEASURED OBSERVABLES ===\n",
      " \n",
      "  0:  # Particles: 2.000 S: 0.000 S^2: 0.000 M: 0.000\n",
      " \n",
      "=== DIPOLE MOMENTS ===\n",
      " \n",
      "~ Nuclear dipole moment (a.u.): [0.0  0.0  0.0]\n",
      " \n",
      "  0: \n",
      "  * Electronic dipole moment (a.u.): [0.0  0.0  0.0]\n",
      "    - computed part:      [0.0  0.0  0.0]\n",
      "  > Dipole moment (a.u.): [0.0  0.0  0.0]  Total: 0.0\n",
      "                 (debye): [0.0  0.0  0.0]  Total: 0.0\n",
      " \n"
     ]
    }
   ],
   "source": [
    "print(\"-----CLASSICAL ONLY-----\\n\")\n",
    "\n",
    "# GroundStateEigensolver taking only classical algorithm to find GSE\n",
    "calc = GroundStateEigensolver(mapper, numpy_solver)\n",
    "result_cls = calc.solve(es_problem)\n",
    "print(result_cls)"
   ]
  },
  {
   "cell_type": "code",
   "execution_count": null,
   "id": "9290df7a-d1ea-4067-b36d-3405e375369e",
   "metadata": {},
   "outputs": [],
   "source": []
  }
 ],
 "metadata": {
  "kernelspec": {
   "display_name": "Python 3 [Default]",
   "language": "python",
   "name": "python3"
  },
  "language_info": {
   "codemirror_mode": {
    "name": "ipython",
    "version": 3
   },
   "file_extension": ".py",
   "mimetype": "text/x-python",
   "name": "python",
   "nbconvert_exporter": "python",
   "pygments_lexer": "ipython3",
   "version": "3.9.12"
  }
 },
 "nbformat": 4,
 "nbformat_minor": 5
}
