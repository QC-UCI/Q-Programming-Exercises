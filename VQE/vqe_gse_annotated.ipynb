{
 "cells": [
  {
   "cell_type": "code",
   "execution_count": 51,
   "id": "0f83c5b1-2a21-45fe-aa66-05e49a4c421e",
   "metadata": {
    "tags": []
   },
   "outputs": [],
   "source": [
    "#!pip install qiskit-nature[pyscf] -U\n",
    "\n",
    "## FROM QISKIT TUTORIAL: https://qiskit.org/ecosystem/nature/tutorials/03_ground_state_solvers.html"
   ]
  },
  {
   "cell_type": "code",
   "execution_count": 52,
   "id": "eb1f6012-d724-433c-b48e-cbbc89de8fee",
   "metadata": {},
   "outputs": [],
   "source": [
    "#!pip show qiskit_nature \n",
    "#!pip show pyscf\n",
    "\n",
    "#Soln found here: https://quantumcomputing.stackexchange.com/questions/26927/help-on-pyscf-library"
   ]
  },
  {
   "cell_type": "code",
   "execution_count": null,
   "id": "45502dc1-eade-40e0-a6a7-3ba5783fa824",
   "metadata": {},
   "outputs": [],
   "source": [
    "from qiskit_nature.units import DistanceUnit\n",
    "from qiskit_nature.second_q.drivers import PySCFDriver\n",
    "\n",
    "from qiskit_nature.second_q.mappers import JordanWignerMapper\n",
    "\n",
    "from qiskit.algorithms.minimum_eigensolvers import NumPyMinimumEigensolver\n",
    "\n",
    "from qiskit.algorithms.minimum_eigensolvers import VQE\n",
    "from qiskit.algorithms.optimizers import SLSQP\n",
    "from qiskit.primitives import Estimator\n",
    "from qiskit_nature.second_q.circuit.library import HartreeFock, UCCSD\n",
    "\n",
    "from qiskit_nature.second_q.algorithms import GroundStateEigensolver\n",
    "\n",
    "from qiskit.circuit.library import TwoLocal"
   ]
  },
  {
   "cell_type": "code",
   "execution_count": 32,
   "id": "364d97d6-e85b-48f9-be3c-4eb661544d6b",
   "metadata": {},
   "outputs": [],
   "source": [
    "# Creating PySCF driver for respective molecule based on xyz file format \n",
    "# Specifically for Nitrogen (N2) molecule:\n",
    "driver = PySCFDriver(\n",
    "    atom=\"H 0 0 -0.37; H 0 0 0.37\", ## H2 <Just Right>; charge/spin:0/0\n",
    "    #atom=\"N 0 0 0; N 1.098 0 0\", ##N2 <TOO LONG>; charge/spin:0/0\n",
    "    #atom=\"N 0 0 -0.069; H 0 0.943 0.321; H -0.817 -0.472 0.321; H 0.817 -0.472 0.321\", ##NH3 <TOO LONG>; charge/spin:0/0\n",
    "    basis=\"sto3g\",\n",
    "    charge=0,\n",
    "    spin=0,\n",
    "    unit=DistanceUnit.ANGSTROM,\n",
    ")\n",
    "\n",
    "# Creating the Electronic Structure (es) problem\n",
    "es_problem = driver.run()"
   ]
  },
  {
   "cell_type": "code",
   "execution_count": 33,
   "id": "3d8e89c3-1335-4fba-962e-3121916ce9a0",
   "metadata": {},
   "outputs": [],
   "source": [
    "# Transforms the qubits (from initial '0' state to representing H_el in 2nd quantization form)\n",
    "mapper = JordanWignerMapper()"
   ]
  },
  {
   "cell_type": "code",
   "execution_count": 34,
   "id": "0186aefe-d012-4ce8-a008-33e8418b7a55",
   "metadata": {},
   "outputs": [],
   "source": [
    "# Classical routine\n",
    "numpy_solver = NumPyMinimumEigensolver()"
   ]
  },
  {
   "cell_type": "code",
   "execution_count": 35,
   "id": "dfd810b9-5c5b-4d6b-8675-4a9f74cea673",
   "metadata": {},
   "outputs": [],
   "source": [
    "# Ansatz: Parameterized Quantum Circuit (Theta)\n",
    "# Typically, we use UCCSD (unitary coupled cluster), which is chemistry-inspired\n",
    "ansatz = UCCSD(\n",
    "    es_problem.num_spatial_orbitals,\n",
    "    es_problem.num_particles,\n",
    "    mapper,\n",
    "    initial_state=HartreeFock(  #HF provided cheap yet good starting approx. value \n",
    "        es_problem.num_spatial_orbitals,\n",
    "        es_problem.num_particles,\n",
    "        mapper,\n",
    "    ),\n",
    ")\n",
    "\n",
    "# Estimator = Qiskit's primitive machine categorization; more suitable for VQE \n",
    "# other types is Sampler (which is used in other scenarios)\n",
    "vqe_solver = VQE(Estimator(), ansatz, SLSQP())\n",
    "\n",
    "# Initial parameter values \n",
    "vqe_solver.initial_point = [0.0] * ansatz.num_parameters"
   ]
  },
  {
   "cell_type": "code",
   "execution_count": 47,
   "id": "f5c0e74c-895b-4c0a-8a3f-64597cdc353c",
   "metadata": {},
   "outputs": [],
   "source": [
    "# Custom TwoLocal parameterized quantum circuit using:\n",
    "    # Hadamard and RX gates for rotation/superposition\n",
    "    # Controlled-Z gates for 'full' entanglement\n",
    "    # 2 repetitions/layers\n",
    "    \n",
    "tl_circuit = TwoLocal(\n",
    "    rotation_blocks=[\"h\", \"rx\"],\n",
    "    entanglement_blocks=\"cz\",\n",
    "    entanglement=\"full\",\n",
    "    reps=3,\n",
    "    parameter_prefix=\"y\",\n",
    ")\n",
    "\n",
    "# Second VQE (this time not using UCCSD)\n",
    "vqe_solver2 = VQE(Estimator(), tl_circuit, SLSQP())"
   ]
  },
  {
   "cell_type": "markdown",
   "id": "7848f3f6-e37e-4046-9735-270a97d9fce5",
   "metadata": {},
   "source": [
    "#### VQE vs. VQE2 vs. Classical-Solver"
   ]
  },
  {
   "cell_type": "code",
   "execution_count": 50,
   "id": "32fd44ca-0e71-4e78-b1a4-a0c48e7d08bd",
   "metadata": {
    "tags": []
   },
   "outputs": [
    {
     "name": "stdout",
     "output_type": "stream",
     "text": [
      "-----FROM VQE 1-----\n",
      "\n",
      "=== GROUND STATE ENERGY ===\n",
      " \n",
      "* Electronic ground state energy (Hartree): -1.852388173512\n",
      "  - computed part:      -1.852388173512\n",
      "~ Nuclear repulsion energy (Hartree): 0.715104339081\n",
      "> Total ground state energy (Hartree): -1.137283834431\n",
      " \n",
      "=== MEASURED OBSERVABLES ===\n",
      " \n",
      "  0:  # Particles: 2.000 S: 0.000 S^2: 0.000 M: 0.000\n",
      " \n",
      "=== DIPOLE MOMENTS ===\n",
      " \n",
      "~ Nuclear dipole moment (a.u.): [0.0  0.0  0.0]\n",
      " \n",
      "  0: \n",
      "  * Electronic dipole moment (a.u.): [0.0  0.0  0.00000013119]\n",
      "    - computed part:      [0.0  0.0  0.00000013119]\n",
      "  > Dipole moment (a.u.): [0.0  0.0  -0.00000013119]  Total: 0.00000013119\n",
      "                 (debye): [0.0  0.0  -0.000000333452]  Total: 0.000000333452\n",
      " \n"
     ]
    }
   ],
   "source": [
    "print(\"-----FROM VQE 1-----\\n\")\n",
    "\n",
    "# Using VQE and JW-mapper in classical routine (i.e., GroundStateSolver) to find ground state energy of molecule\n",
    "calc = GroundStateEigensolver(mapper, vqe_solver)\n",
    "\n",
    "result_vqe1 = calc.solve(es_problem)\n",
    "print(result_vqe1)"
   ]
  },
  {
   "cell_type": "code",
   "execution_count": 49,
   "id": "b940ab1d-8463-47c7-99e4-58de79c2a62b",
   "metadata": {
    "tags": []
   },
   "outputs": [
    {
     "name": "stdout",
     "output_type": "stream",
     "text": [
      "-----FROM VQE 2-----\n",
      "\n",
      "=== GROUND STATE ENERGY ===\n",
      " \n",
      "* Electronic ground state energy (Hartree): -1.8523874571\n",
      "  - computed part:      -1.8523874571\n",
      "~ Nuclear repulsion energy (Hartree): 0.715104339081\n",
      "> Total ground state energy (Hartree): -1.137283118019\n",
      " \n",
      "=== MEASURED OBSERVABLES ===\n",
      " \n",
      "  0:  # Particles: 2.000 S: 0.000 S^2: 0.000 M: -0.000\n",
      " \n",
      "=== DIPOLE MOMENTS ===\n",
      " \n",
      "~ Nuclear dipole moment (a.u.): [0.0  0.0  0.0]\n",
      " \n",
      "  0: \n",
      "  * Electronic dipole moment (a.u.): [0.0  0.0  -0.000000544446]\n",
      "    - computed part:      [0.0  0.0  -0.000000544446]\n",
      "  > Dipole moment (a.u.): [0.0  0.0  0.000000544446]  Total: 0.000000544446\n",
      "                 (debye): [0.0  0.0  0.000001383845]  Total: 0.000001383845\n",
      " \n"
     ]
    }
   ],
   "source": [
    "print(\"-----FROM VQE 2-----\\n\")\n",
    "\n",
    "# Using VQE and JW-mapper in classical routine (i.e., GroundStateSolver) to find ground state energy of molecule\n",
    "calc = GroundStateEigensolver(mapper, vqe_solver2)\n",
    "\n",
    "result_vqe2 = calc.solve(es_problem)\n",
    "print(result_vqe2)"
   ]
  },
  {
   "cell_type": "code",
   "execution_count": 44,
   "id": "d869fdaa-3112-4fdb-8c52-04609e788ebf",
   "metadata": {
    "tags": []
   },
   "outputs": [
    {
     "name": "stdout",
     "output_type": "stream",
     "text": [
      "-----CLASSICAL ONLY-----\n",
      "\n",
      "=== GROUND STATE ENERGY ===\n",
      " \n",
      "* Electronic ground state energy (Hartree): -1.85238817357\n",
      "  - computed part:      -1.85238817357\n",
      "~ Nuclear repulsion energy (Hartree): 0.715104339081\n",
      "> Total ground state energy (Hartree): -1.137283834488\n",
      " \n",
      "=== MEASURED OBSERVABLES ===\n",
      " \n",
      "  0:  # Particles: 2.000 S: 0.000 S^2: 0.000 M: 0.000\n",
      " \n",
      "=== DIPOLE MOMENTS ===\n",
      " \n",
      "~ Nuclear dipole moment (a.u.): [0.0  0.0  0.0]\n",
      " \n",
      "  0: \n",
      "  * Electronic dipole moment (a.u.): [0.0  0.0  0.0]\n",
      "    - computed part:      [0.0  0.0  0.0]\n",
      "  > Dipole moment (a.u.): [0.0  0.0  0.0]  Total: 0.0\n",
      "                 (debye): [0.0  0.0  0.0]  Total: 0.0\n",
      " \n"
     ]
    }
   ],
   "source": [
    "print(\"-----CLASSICAL ONLY-----\\n\")\n",
    "\n",
    "# GroundStateEigensolver taking only classical algorithm to find GSE\n",
    "calc = GroundStateEigensolver(mapper, numpy_solver)\n",
    "result_cls = calc.solve(es_problem)\n",
    "print(result_cls)"
   ]
  },
  {
   "cell_type": "code",
   "execution_count": null,
   "id": "9290df7a-d1ea-4067-b36d-3405e375369e",
   "metadata": {},
   "outputs": [],
   "source": []
  }
 ],
 "metadata": {
  "kernelspec": {
   "display_name": "Python 3 [Default]",
   "language": "python",
   "name": "python3"
  },
  "language_info": {
   "codemirror_mode": {
    "name": "ipython",
    "version": 3
   },
   "file_extension": ".py",
   "mimetype": "text/x-python",
   "name": "python",
   "nbconvert_exporter": "python",
   "pygments_lexer": "ipython3",
   "version": "3.9.12"
  }
 },
 "nbformat": 4,
 "nbformat_minor": 5
}
