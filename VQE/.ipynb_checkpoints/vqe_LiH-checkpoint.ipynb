{
 "cells": [
  {
   "cell_type": "code",
   "execution_count": 1,
   "id": "ceabc999-524e-4787-80ef-5ebd1c38b51a",
   "metadata": {
    "collapsed": true,
    "jupyter": {
     "outputs_hidden": true
    },
    "tags": []
   },
   "outputs": [
    {
     "name": "stdout",
     "output_type": "stream",
     "text": [
      "Requirement already satisfied: qiskit_nature in /opt/conda/lib/python3.9/site-packages (0.6.2)\n",
      "Requirement already satisfied: qiskit-terra>=0.24 in /opt/.qbraid/environments/qbraid_000000/pyenv/lib/python3.9/site-packages (from qiskit_nature) (0.24.1)\n",
      "Requirement already satisfied: scipy>=1.4 in /opt/.qbraid/environments/qbraid_000000/pyenv/lib/python3.9/site-packages (from qiskit_nature) (1.11.1)\n",
      "Requirement already satisfied: numpy>=1.17 in /opt/.qbraid/environments/qbraid_000000/pyenv/lib/python3.9/site-packages (from qiskit_nature) (1.23.5)\n",
      "Requirement already satisfied: psutil>=5 in /opt/.qbraid/environments/qbraid_000000/pyenv/lib/python3.9/site-packages (from qiskit_nature) (5.9.5)\n",
      "Requirement already satisfied: scikit-learn>=0.20.0 in /opt/conda/lib/python3.9/site-packages (from qiskit_nature) (1.3.0)\n",
      "Requirement already satisfied: setuptools>=40.1.0 in /opt/.qbraid/environments/qbraid_000000/pyenv/lib/python3.9/site-packages (from qiskit_nature) (58.1.0)\n",
      "Requirement already satisfied: typing-extensions in /opt/.qbraid/environments/qbraid_000000/pyenv/lib/python3.9/site-packages (from qiskit_nature) (4.7.1)\n",
      "Requirement already satisfied: h5py in /home/jovyan/.local/lib/python3.9/site-packages (from qiskit_nature) (3.8.0)\n",
      "Requirement already satisfied: rustworkx in /opt/.qbraid/environments/qbraid_000000/pyenv/lib/python3.9/site-packages (from qiskit_nature) (0.13.0)\n",
      "Requirement already satisfied: ply>=3.10 in /opt/.qbraid/environments/qbraid_000000/pyenv/lib/python3.9/site-packages (from qiskit-terra>=0.24->qiskit_nature) (3.11)\n",
      "Requirement already satisfied: sympy>=1.3 in /opt/.qbraid/environments/qbraid_000000/pyenv/lib/python3.9/site-packages (from qiskit-terra>=0.24->qiskit_nature) (1.12)\n",
      "Requirement already satisfied: dill>=0.3 in /opt/.qbraid/environments/qbraid_000000/pyenv/lib/python3.9/site-packages (from qiskit-terra>=0.24->qiskit_nature) (0.3.6)\n",
      "Requirement already satisfied: python-dateutil>=2.8.0 in /opt/.qbraid/environments/qbraid_000000/pyenv/lib/python3.9/site-packages (from qiskit-terra>=0.24->qiskit_nature) (2.8.2)\n",
      "Requirement already satisfied: stevedore>=3.0.0 in /opt/.qbraid/environments/qbraid_000000/pyenv/lib/python3.9/site-packages (from qiskit-terra>=0.24->qiskit_nature) (5.1.0)\n",
      "Requirement already satisfied: symengine<0.10,>=0.9 in /opt/.qbraid/environments/qbraid_000000/pyenv/lib/python3.9/site-packages (from qiskit-terra>=0.24->qiskit_nature) (0.9.2)\n",
      "Requirement already satisfied: joblib>=1.1.1 in /opt/conda/lib/python3.9/site-packages (from scikit-learn>=0.20.0->qiskit_nature) (1.3.1)\n",
      "Requirement already satisfied: threadpoolctl>=2.0.0 in /opt/conda/lib/python3.9/site-packages (from scikit-learn>=0.20.0->qiskit_nature) (3.2.0)\n",
      "Requirement already satisfied: six>=1.5 in /opt/.qbraid/environments/qbraid_000000/pyenv/lib/python3.9/site-packages (from python-dateutil>=2.8.0->qiskit-terra>=0.24->qiskit_nature) (1.16.0)\n",
      "Requirement already satisfied: pbr!=2.1.0,>=2.0.0 in /opt/.qbraid/environments/qbraid_000000/pyenv/lib/python3.9/site-packages (from stevedore>=3.0.0->qiskit-terra>=0.24->qiskit_nature) (5.11.1)\n",
      "Requirement already satisfied: mpmath>=0.19 in /opt/.qbraid/environments/qbraid_000000/pyenv/lib/python3.9/site-packages (from sympy>=1.3->qiskit-terra>=0.24->qiskit_nature) (1.3.0)\n",
      "\n",
      "\u001b[1m[\u001b[0m\u001b[34;49mnotice\u001b[0m\u001b[1;39;49m]\u001b[0m\u001b[39;49m A new release of pip is available: \u001b[0m\u001b[31;49m23.1.2\u001b[0m\u001b[39;49m -> \u001b[0m\u001b[32;49m23.2.1\u001b[0m\n",
      "\u001b[1m[\u001b[0m\u001b[34;49mnotice\u001b[0m\u001b[1;39;49m]\u001b[0m\u001b[39;49m To update, run: \u001b[0m\u001b[32;49mpython -m pip install --upgrade pip\u001b[0m\n",
      "Note: you may need to restart the kernel to use updated packages.\n"
     ]
    }
   ],
   "source": [
    "pip install qiskit_nature\n",
    "pip install --upgrade pyscf"
   ]
  },
  {
   "cell_type": "code",
   "execution_count": 5,
   "id": "6e598ebf-2a80-412b-8d3b-2aa5c94a01ce",
   "metadata": {},
   "outputs": [],
   "source": [
    "import qiskit_nature\n",
    "from qiskit.algorithms.minimum_eigensolvers import NumPyMinimumEigensolver, VQE\n",
    "from qiskit_nature.second_q.transformers import FreezeCoreTransformer\n",
    "from qiskit_nature.second_q.formats.molecule_info import MoleculeInfo\n",
    "from qiskit_nature.second_q.mappers import ParityMapper\n",
    "from qiskit_nature.second_q.circuit.library import UCCSD, HartreeFock\n",
    "from qiskit.algorithms.optimizers import SLSQP\n",
    "\n",
    "qiskit_nature.settings.use_pauli_sum_op = False\n",
    "from qiskit_nature.second_q.drivers import PySCFDriver\n",
    "import matplotlib.pyplot as plt\n",
    "from qiskit.circuit.library import EfficientSU2\n",
    "\n",
    "import numpy as np\n",
    "\n",
    "from qiskit_ibm_provider import IBMProvider\n",
    "\n",
    "provider = IBMProvider()"
   ]
  },
  {
   "cell_type": "markdown",
   "id": "dd3fc2bd-5ca5-4053-9ee0-8d277f9e9413",
   "metadata": {},
   "source": [
    "#### Obtaining the Ground State Energy of LiH - Lithium Hydride"
   ]
  },
  {
   "cell_type": "code",
   "execution_count": 6,
   "id": "0a4eafc1-ad66-4379-9ee9-31c38fe21ea1",
   "metadata": {},
   "outputs": [],
   "source": [
    "def get_qubit_op(dist):\n",
    "    # Define Molecule\n",
    "    molecule = MoleculeInfo(\n",
    "        # Coordinates in Angstrom\n",
    "        symbols=[\"Li\", \"H\"],\n",
    "        coords=([0.0, 0.0, 0.0], [dist, 0.0, 0.0]),\n",
    "        multiplicity=1,  # = 2*spin + 1\n",
    "        charge=0,\n",
    "    )\n",
    "\n",
    "    driver = PySCFDriver.from_molecule(molecule)\n",
    "\n",
    "    # Get properties\n",
    "    properties = driver.run()\n",
    "\n",
    "    # Now you can get the reduced electronic structure problem\n",
    "    problem = FreezeCoreTransformer(\n",
    "        freeze_core=True, remove_orbitals=[-3, -2]\n",
    "    ).transform(properties)\n",
    "\n",
    "    num_particles = problem.num_particles\n",
    "    num_spatial_orbitals = problem.num_spatial_orbitals\n",
    "\n",
    "    mapper = ParityMapper(num_particles=num_particles)\n",
    "    qubit_op = mapper.map(problem.second_q_ops()[0])\n",
    "    return qubit_op, num_particles, num_spatial_orbitals, problem, mapper"
   ]
  },
  {
   "cell_type": "code",
   "execution_count": 8,
   "id": "1ac1e85d-ea77-4ad9-aa71-07beedd8963c",
   "metadata": {},
   "outputs": [
    {
     "name": "stdout",
     "output_type": "stream",
     "text": [
      "Interatomic Distance: 0.3 VQE Result: -5.87724175 Exact Energy: -5.87724214\n",
      "Interatomic Distance: 0.5 VQE Result: -7.04790959 Exact Energy: -7.04790988\n",
      "Interatomic Distance: 0.7 VQE Result: -7.50399968 Exact Energy: -7.50399989\n",
      "Interatomic Distance: 0.9 VQE Result: -7.72283455 Exact Energy: -7.72283459\n",
      "Interatomic Distance: 1.1 VQE Result: -7.82520272 Exact Energy: -7.82520275\n",
      "Interatomic Distance: 1.3 VQE Result: -7.86890403 Exact Energy: -7.86890408\n",
      "Interatomic Distance: 1.5 VQE Result: -7.88213986 Exact Energy: -7.88213996\n",
      "Interatomic Distance: 1.7 VQE Result: -7.87919778 Exact Energy: -7.87919787\n",
      "Interatomic Distance: 1.9 VQE Result: -7.86798870 Exact Energy: -7.86798879\n",
      "Interatomic Distance: 2.1 VQE Result: -7.85319622 Exact Energy: -7.85319625\n",
      "Interatomic Distance: 2.3 VQE Result: -7.83772401 Exact Energy: -7.83772404\n",
      "Interatomic Distance: 2.5 VQE Result: -7.82342684 Exact Energy: -7.82342694\n",
      "Interatomic Distance: 2.7 VQE Result: -7.81142044 Exact Energy: -7.81142060\n",
      "Interatomic Distance: 2.9 VQE Result: -7.80214656 Exact Energy: -7.80214665\n",
      "Interatomic Distance: 3.1 VQE Result: -7.79545355 Exact Energy: -7.79545382\n",
      "Interatomic Distance: 3.3 VQE Result: -7.79084531 Exact Energy: -7.79084572\n",
      "Interatomic Distance: 3.5 VQE Result: -7.78776111 Exact Energy: -7.78776127\n",
      "Interatomic Distance: 3.7 VQE Result: -7.78572971 Exact Energy: -7.78572986\n",
      "Interatomic Distance: 3.9 VQE Result: -7.78440562 Exact Energy: -7.78440584\n",
      "All energies have been calculated\n"
     ]
    }
   ],
   "source": [
    "from qiskit_aer.primitives import Estimator\n",
    "\n",
    "\n",
    "def exact_solver(qubit_op, problem):\n",
    "    sol = NumPyMinimumEigensolver().compute_minimum_eigenvalue(qubit_op)\n",
    "    result = problem.interpret(sol)\n",
    "    return result\n",
    "\n",
    "\n",
    "distances = np.arange(0.3, 4.0, 0.2)\n",
    "exact_energies = []\n",
    "vqe_energies = []\n",
    "optimizer = SLSQP(maxiter=10)\n",
    "noiseless_estimator = Estimator(approximation=True)\n",
    "for dist in distances:\n",
    "    (qubit_op, num_particles, num_spatial_orbitals, problem, mapper) = get_qubit_op(\n",
    "        dist\n",
    "    )\n",
    "\n",
    "    result = exact_solver(qubit_op, problem)\n",
    "    exact_energies.append(result.total_energies[0].real)\n",
    "    init_state = HartreeFock(num_spatial_orbitals, num_particles, mapper)\n",
    "    var_form = UCCSD(\n",
    "        num_spatial_orbitals, num_particles, mapper, initial_state=init_state\n",
    "    )\n",
    "    vqe = VQE(\n",
    "        noiseless_estimator,\n",
    "        var_form,\n",
    "        optimizer,\n",
    "        initial_point=[0] * var_form.num_parameters,\n",
    "    )\n",
    "    vqe_calc = vqe.compute_minimum_eigenvalue(qubit_op)\n",
    "    vqe_result = problem.interpret(vqe_calc).total_energies[0].real\n",
    "    vqe_energies.append(vqe_result)\n",
    "    print(\n",
    "        f\"Interatomic Distance: {np.round(dist, 2)}\",\n",
    "        f\"VQE Result: {vqe_result:.8f}\",\n",
    "        f\"Exact Energy: {exact_energies[-1]:.8f}\",\n",
    "    )\n",
    "\n",
    "print(\"All energies have been calculated\")"
   ]
  },
  {
   "cell_type": "code",
   "execution_count": 21,
   "id": "0400b28a-ce76-4f94-93ac-a621db29bb96",
   "metadata": {},
   "outputs": [
    {
     "data": {
      "image/png": "[encoded data removed]",
      "text/plain": [
       "<Figure size 640x480 with 1 Axes>"
      ]
     },
     "metadata": {},
     "output_type": "display_data"
    }
   ],
   "source": [
    "plt.plot(distances, exact_energies, '+', color='red', label=\"Exact Energy\")\n",
    "plt.plot(distances, vqe_energies, 'x', color='blue', label=\"VQE Energy\")\n",
    "plt.xlabel(\"Atomic distance (Angstrom)\")\n",
    "plt.ylabel(\"Energy\")\n",
    "plt.legend()\n",
    "plt.show()"
   ]
  },
  {
   "cell_type": "markdown",
   "id": "1e4da19d-d21a-40be-b6e0-7f3f0b253b69",
   "metadata": {},
   "source": [
    "### Running H2 on a Noisy Quantum Computer Simulator"
   ]
  },
  {
   "cell_type": "code",
   "execution_count": 22,
   "id": "0eb9e223-70b4-4dc2-a311-5f4f1be6c8cb",
   "metadata": {},
   "outputs": [],
   "source": [
    "molecule = MoleculeInfo(\n",
    "    # Coordinates in Angstrom\n",
    "    symbols=[\"Li\", \"H\"],\n",
    "    coords=([0.0, 0.0, 0.403635], [0.0, 0.0, -1.210905]),\n",
    "    multiplicity=1,\n",
    "    charge=0,\n",
    ")\n",
    "\n",
    "driver = PySCFDriver.from_molecule(molecule)\n",
    "problem = driver.run()\n",
    "\n",
    "second_q_ops = problem.second_q_ops()  # Get 2nd Quant OP\n",
    "num_spatial_orbitals = problem.num_spatial_orbitals\n",
    "num_particles = problem.num_particles\n",
    "\n",
    "mapper = ParityMapper(num_particles=num_particles)  # Set Mapper\n",
    "\n",
    "hamiltonian = second_q_ops[0]  # Set Hamiltonian\n",
    "\n",
    "# Do two qubit reduction\n",
    "qubit_op = mapper.map(hamiltonian)"
   ]
  },
  {
   "cell_type": "code",
   "execution_count": 30,
   "id": "3244b52e-f03c-47c7-ba68-0bce093253b3",
   "metadata": {},
   "outputs": [],
   "source": [
    "from qiskit_aer.noise import NoiseModel\n",
    "from qiskit.providers.fake_provider import FakeMelbourneV2\n",
    "from qiskit.algorithms.optimizers import SPSA\n",
    "\n",
    "# Fake providers contain data from real IBM Quantum devices stored\n",
    "# in Qiskit Terra, and are useful for extracting realistic noise models.\n",
    "\n",
    "device = FakeMelbourneV2()\n",
    "coupling_map = device.coupling_map\n",
    "noise_model = NoiseModel.from_backend(device)\n",
    "noisy_estimator = Estimator(\n",
    "    backend_options={\"coupling_map\": coupling_map, \"noise_model\": noise_model}\n",
    ")"
   ]
  },
  {
   "cell_type": "code",
   "execution_count": null,
   "id": "600b60cc-cd5c-49d8-8a6a-6e4436a1b963",
   "metadata": {},
   "outputs": [
    {
     "name": "stdout",
     "output_type": "stream",
     "text": [
      "Exact Result: [-7.88205905]\n"
     ]
    }
   ],
   "source": [
    "result = exact_solver(qubit_op, problem)\n",
    "exact_energies.append(result.total_energies)\n",
    "\n",
    "print(\"Exact Result:\", result.total_energies)\n",
    "optimizer = SPSA(maxiter=100)\n",
    "var_form = EfficientSU2(qubit_op.num_qubits, entanglement=\"linear\")\n",
    "vqe = VQE(noisy_estimator, var_form, optimizer)\n",
    "vqe_calc = vqe.compute_minimum_eigenvalue(qubit_op)\n",
    "vqe_result = problem.interpret(vqe_calc).total_energies\n",
    "print(\"VQE Result:\", vqe_result)"
   ]
  },
  {
   "cell_type": "code",
   "execution_count": null,
   "id": "417c65eb-f0f0-4b51-b378-bd29a05ddd82",
   "metadata": {},
   "outputs": [],
   "source": [
    "#Did not finish executing\n",
    "#Mem: 1.85 / 4.00 GB"
   ]
  }
 ],
 "metadata": {
  "kernelspec": {
   "display_name": "Python 3 [Default]",
   "language": "python",
   "name": "python3"
  },
  "language_info": {
   "codemirror_mode": {
    "name": "ipython",
    "version": 3
   },
   "file_extension": ".py",
   "mimetype": "text/x-python",
   "name": "python",
   "nbconvert_exporter": "python",
   "pygments_lexer": "ipython3",
   "version": "3.9.12"
  }
 },
 "nbformat": 4,
 "nbformat_minor": 5
}
