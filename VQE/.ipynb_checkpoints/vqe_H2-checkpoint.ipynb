{
 "cells": [
  {
   "cell_type": "code",
   "execution_count": 9,
   "id": "ceabc999-524e-4787-80ef-5ebd1c38b51a",
   "metadata": {
    "collapsed": true,
    "jupyter": {
     "outputs_hidden": true
    },
    "tags": []
   },
   "outputs": [
    {
     "name": "stdout",
     "output_type": "stream",
     "text": [
      "Collecting qiskit_nature\n",
      "  Using cached qiskit_nature-0.6.2-py3-none-any.whl (4.1 MB)\n",
      "Requirement already satisfied: qiskit-terra>=0.24 in /opt/.qbraid/environments/qbraid_000000/pyenv/lib/python3.9/site-packages (from qiskit_nature) (0.24.1)\n",
      "Requirement already satisfied: scipy>=1.4 in /opt/.qbraid/environments/qbraid_000000/pyenv/lib/python3.9/site-packages (from qiskit_nature) (1.11.1)\n",
      "Requirement already satisfied: numpy>=1.17 in /opt/.qbraid/environments/qbraid_000000/pyenv/lib/python3.9/site-packages (from qiskit_nature) (1.23.5)\n",
      "Requirement already satisfied: psutil>=5 in /opt/.qbraid/environments/qbraid_000000/pyenv/lib/python3.9/site-packages (from qiskit_nature) (5.9.5)\n",
      "Collecting scikit-learn>=0.20.0 (from qiskit_nature)\n",
      "  Using cached scikit_learn-1.3.0-cp39-cp39-manylinux_2_17_x86_64.manylinux2014_x86_64.whl (10.9 MB)\n",
      "Requirement already satisfied: setuptools>=40.1.0 in /opt/.qbraid/environments/qbraid_000000/pyenv/lib/python3.9/site-packages (from qiskit_nature) (58.1.0)\n",
      "Requirement already satisfied: typing-extensions in /opt/.qbraid/environments/qbraid_000000/pyenv/lib/python3.9/site-packages (from qiskit_nature) (4.7.1)\n",
      "Requirement already satisfied: h5py in /home/jovyan/.local/lib/python3.9/site-packages (from qiskit_nature) (3.8.0)\n",
      "Requirement already satisfied: rustworkx in /opt/.qbraid/environments/qbraid_000000/pyenv/lib/python3.9/site-packages (from qiskit_nature) (0.13.0)\n",
      "Requirement already satisfied: ply>=3.10 in /opt/.qbraid/environments/qbraid_000000/pyenv/lib/python3.9/site-packages (from qiskit-terra>=0.24->qiskit_nature) (3.11)\n",
      "Requirement already satisfied: sympy>=1.3 in /opt/.qbraid/environments/qbraid_000000/pyenv/lib/python3.9/site-packages (from qiskit-terra>=0.24->qiskit_nature) (1.12)\n",
      "Requirement already satisfied: dill>=0.3 in /opt/.qbraid/environments/qbraid_000000/pyenv/lib/python3.9/site-packages (from qiskit-terra>=0.24->qiskit_nature) (0.3.6)\n",
      "Requirement already satisfied: python-dateutil>=2.8.0 in /opt/.qbraid/environments/qbraid_000000/pyenv/lib/python3.9/site-packages (from qiskit-terra>=0.24->qiskit_nature) (2.8.2)\n",
      "Requirement already satisfied: stevedore>=3.0.0 in /opt/.qbraid/environments/qbraid_000000/pyenv/lib/python3.9/site-packages (from qiskit-terra>=0.24->qiskit_nature) (5.1.0)\n",
      "Requirement already satisfied: symengine<0.10,>=0.9 in /opt/.qbraid/environments/qbraid_000000/pyenv/lib/python3.9/site-packages (from qiskit-terra>=0.24->qiskit_nature) (0.9.2)\n",
      "Collecting joblib>=1.1.1 (from scikit-learn>=0.20.0->qiskit_nature)\n",
      "  Using cached joblib-1.3.1-py3-none-any.whl (301 kB)\n",
      "Collecting threadpoolctl>=2.0.0 (from scikit-learn>=0.20.0->qiskit_nature)\n",
      "  Using cached threadpoolctl-3.2.0-py3-none-any.whl (15 kB)\n",
      "Requirement already satisfied: six>=1.5 in /opt/.qbraid/environments/qbraid_000000/pyenv/lib/python3.9/site-packages (from python-dateutil>=2.8.0->qiskit-terra>=0.24->qiskit_nature) (1.16.0)\n",
      "Requirement already satisfied: pbr!=2.1.0,>=2.0.0 in /opt/.qbraid/environments/qbraid_000000/pyenv/lib/python3.9/site-packages (from stevedore>=3.0.0->qiskit-terra>=0.24->qiskit_nature) (5.11.1)\n",
      "Requirement already satisfied: mpmath>=0.19 in /opt/.qbraid/environments/qbraid_000000/pyenv/lib/python3.9/site-packages (from sympy>=1.3->qiskit-terra>=0.24->qiskit_nature) (1.3.0)\n",
      "Installing collected packages: threadpoolctl, joblib, scikit-learn, qiskit_nature\n",
      "Successfully installed joblib-1.3.1 qiskit_nature-0.6.2 scikit-learn-1.3.0 threadpoolctl-3.2.0\n",
      "\n",
      "\u001b[1m[\u001b[0m\u001b[34;49mnotice\u001b[0m\u001b[1;39;49m]\u001b[0m\u001b[39;49m A new release of pip is available: \u001b[0m\u001b[31;49m23.1.2\u001b[0m\u001b[39;49m -> \u001b[0m\u001b[32;49m23.2.1\u001b[0m\n",
      "\u001b[1m[\u001b[0m\u001b[34;49mnotice\u001b[0m\u001b[1;39;49m]\u001b[0m\u001b[39;49m To update, run: \u001b[0m\u001b[32;49mpython -m pip install --upgrade pip\u001b[0m\n",
      "Note: you may need to restart the kernel to use updated packages.\n"
     ]
    }
   ],
   "source": [
    "pip install qiskit_nature"
   ]
  },
  {
   "cell_type": "code",
   "execution_count": 10,
   "id": "99a54e1b-4aa4-426a-99c3-3d7a6d8624f0",
   "metadata": {
    "collapsed": true,
    "jupyter": {
     "outputs_hidden": true
    },
    "tags": []
   },
   "outputs": [
    {
     "name": "stdout",
     "output_type": "stream",
     "text": [
      "Collecting pyscf\n",
      "  Using cached pyscf-2.3.0-cp39-cp39-manylinux_2_17_x86_64.manylinux2014_x86_64.whl (47.2 MB)\n",
      "Requirement already satisfied: numpy!=1.16,!=1.17,>=1.13 in /opt/.qbraid/environments/qbraid_000000/pyenv/lib/python3.9/site-packages (from pyscf) (1.23.5)\n",
      "Requirement already satisfied: scipy!=1.5.0,!=1.5.1 in /opt/.qbraid/environments/qbraid_000000/pyenv/lib/python3.9/site-packages (from pyscf) (1.11.1)\n",
      "Requirement already satisfied: h5py>=2.7 in /home/jovyan/.local/lib/python3.9/site-packages (from pyscf) (3.8.0)\n",
      "Installing collected packages: pyscf\n",
      "Successfully installed pyscf-2.3.0\n",
      "\n",
      "\u001b[1m[\u001b[0m\u001b[34;49mnotice\u001b[0m\u001b[1;39;49m]\u001b[0m\u001b[39;49m A new release of pip is available: \u001b[0m\u001b[31;49m23.1.2\u001b[0m\u001b[39;49m -> \u001b[0m\u001b[32;49m23.2.1\u001b[0m\n",
      "\u001b[1m[\u001b[0m\u001b[34;49mnotice\u001b[0m\u001b[1;39;49m]\u001b[0m\u001b[39;49m To update, run: \u001b[0m\u001b[32;49mpython -m pip install --upgrade pip\u001b[0m\n",
      "Note: you may need to restart the kernel to use updated packages.\n"
     ]
    }
   ],
   "source": [
    "pip install --upgrade pyscf"
   ]
  },
  {
   "cell_type": "code",
   "execution_count": 11,
   "id": "6e598ebf-2a80-412b-8d3b-2aa5c94a01ce",
   "metadata": {},
   "outputs": [],
   "source": [
    "import qiskit_nature\n",
    "from qiskit.algorithms.minimum_eigensolvers import NumPyMinimumEigensolver, VQE\n",
    "from qiskit_nature.second_q.transformers import FreezeCoreTransformer\n",
    "from qiskit_nature.second_q.formats.molecule_info import MoleculeInfo\n",
    "from qiskit_nature.second_q.mappers import ParityMapper\n",
    "from qiskit_nature.second_q.circuit.library import UCCSD, HartreeFock\n",
    "from qiskit.algorithms.optimizers import SLSQP\n",
    "\n",
    "qiskit_nature.settings.use_pauli_sum_op = False\n",
    "from qiskit_nature.second_q.drivers import PySCFDriver\n",
    "import matplotlib.pyplot as plt\n",
    "from qiskit.circuit.library import EfficientSU2\n",
    "\n",
    "import numpy as np\n",
    "\n",
    "from qiskit_ibm_provider import IBMProvider\n",
    "\n",
    "provider = IBMProvider()"
   ]
  },
  {
   "cell_type": "markdown",
   "id": "dd3fc2bd-5ca5-4053-9ee0-8d277f9e9413",
   "metadata": {},
   "source": [
    "#### Obtaining the Ground State Energy of LiH - Lithium Hydride"
   ]
  },
  {
   "cell_type": "code",
   "execution_count": 12,
   "id": "0a4eafc1-ad66-4379-9ee9-31c38fe21ea1",
   "metadata": {},
   "outputs": [],
   "source": [
    "def get_qubit_op(dist):\n",
    "    # Define Molecule\n",
    "    molecule = MoleculeInfo(\n",
    "        # Coordinates in Angstrom\n",
    "        symbols=[\"H\", \"H\"],\n",
    "        coords=([0.0, 0.0, 0.0], [dist, 0.0, 0.0]),\n",
    "        multiplicity=1,  # = 2*spin + 1\n",
    "        charge=0,\n",
    "    )\n",
    "\n",
    "    driver = PySCFDriver.from_molecule(molecule)\n",
    "\n",
    "    # Get properties\n",
    "    properties = driver.run()\n",
    "\n",
    "    # Now you can get the reduced electronic structure problem\n",
    "    problem = FreezeCoreTransformer(\n",
    "        freeze_core=True, remove_orbitals=[-3, -2]\n",
    "    ).transform(properties)\n",
    "\n",
    "    num_particles = problem.num_particles\n",
    "    num_spatial_orbitals = problem.num_spatial_orbitals\n",
    "\n",
    "    mapper = ParityMapper(num_particles=num_particles)\n",
    "    qubit_op = mapper.map(problem.second_q_ops()[0])\n",
    "    return qubit_op, num_particles, num_spatial_orbitals, problem, mapper"
   ]
  },
  {
   "cell_type": "code",
   "execution_count": 13,
   "id": "1ac1e85d-ea77-4ad9-aa71-07beedd8963c",
   "metadata": {},
   "outputs": [
    {
     "name": "stderr",
     "output_type": "stream",
     "text": [
      "/opt/.qbraid/environments/qbraid_000000/pyenv/lib/python3.9/site-packages/pyscf/dft/libxc.py:772: UserWarning: Since PySCF-2.3, B3LYP (and B3P86) are changed to the VWN-RPA variant, the same to the B3LYP functional in Gaussian and ORCA (issue 1480). To restore the VWN5 definition, you can put the setting \"B3LYP_WITH_VWN5 = True\" in pyscf_conf.py\n",
      "  warnings.warn('Since PySCF-2.3, B3LYP (and B3P86) are changed to the VWN-RPA variant, '\n"
     ]
    },
    {
     "name": "stdout",
     "output_type": "stream",
     "text": [
      "Interatomic Distance: 0.3 VQE Result: -0.60180 Exact Energy: -0.60180\n",
      "Interatomic Distance: 0.5 VQE Result: -1.05516 Exact Energy: -1.05516\n",
      "Interatomic Distance: 0.7 VQE Result: -1.13619 Exact Energy: -1.13619\n",
      "Interatomic Distance: 0.9 VQE Result: -1.12056 Exact Energy: -1.12056\n",
      "Interatomic Distance: 1.1 VQE Result: -1.07919 Exact Energy: -1.07919\n",
      "Interatomic Distance: 1.3 VQE Result: -1.03519 Exact Energy: -1.03519\n",
      "Interatomic Distance: 1.5 VQE Result: -0.99815 Exact Energy: -0.99815\n",
      "Interatomic Distance: 1.7 VQE Result: -0.97143 Exact Energy: -0.97143\n",
      "Interatomic Distance: 1.9 VQE Result: -0.95434 Exact Energy: -0.95434\n",
      "Interatomic Distance: 2.1 VQE Result: -0.94437 Exact Energy: -0.94437\n",
      "Interatomic Distance: 2.3 VQE Result: -0.93892 Exact Energy: -0.93892\n",
      "Interatomic Distance: 2.5 VQE Result: -0.93605 Exact Energy: -0.93605\n",
      "Interatomic Distance: 2.7 VQE Result: -0.93458 Exact Energy: -0.93458\n",
      "Interatomic Distance: 2.9 VQE Result: -0.93385 Exact Energy: -0.93385\n",
      "Interatomic Distance: 3.1 VQE Result: -0.93348 Exact Energy: -0.93348\n",
      "Interatomic Distance: 3.3 VQE Result: -0.93331 Exact Energy: -0.93331\n",
      "Interatomic Distance: 3.5 VQE Result: -0.93323 Exact Energy: -0.93323\n",
      "Interatomic Distance: 3.7 VQE Result: -0.93319 Exact Energy: -0.93319\n",
      "Interatomic Distance: 3.9 VQE Result: -0.93318 Exact Energy: -0.93318\n",
      "All energies have been calculated\n"
     ]
    }
   ],
   "source": [
    "from qiskit_aer.primitives import Estimator\n",
    "\n",
    "\n",
    "def exact_solver(qubit_op, problem):\n",
    "    sol = NumPyMinimumEigensolver().compute_minimum_eigenvalue(qubit_op)\n",
    "    result = problem.interpret(sol)\n",
    "    return result\n",
    "\n",
    "\n",
    "distances = np.arange(0.3, 4.0, 0.2)\n",
    "exact_energies = []\n",
    "vqe_energies = []\n",
    "optimizer = SLSQP(maxiter=10)\n",
    "noiseless_estimator = Estimator(approximation=True)\n",
    "for dist in distances:\n",
    "    (qubit_op, num_particles, num_spatial_orbitals, problem, mapper) = get_qubit_op(\n",
    "        dist\n",
    "    )\n",
    "\n",
    "    result = exact_solver(qubit_op, problem)\n",
    "    exact_energies.append(result.total_energies[0].real)\n",
    "    init_state = HartreeFock(num_spatial_orbitals, num_particles, mapper)\n",
    "    var_form = UCCSD(\n",
    "        num_spatial_orbitals, num_particles, mapper, initial_state=init_state\n",
    "    )\n",
    "    vqe = VQE(\n",
    "        noiseless_estimator,\n",
    "        var_form,\n",
    "        optimizer,\n",
    "        initial_point=[0] * var_form.num_parameters,\n",
    "    )\n",
    "    vqe_calc = vqe.compute_minimum_eigenvalue(qubit_op)\n",
    "    vqe_result = problem.interpret(vqe_calc).total_energies[0].real\n",
    "    vqe_energies.append(vqe_result)\n",
    "    print(\n",
    "        f\"Interatomic Distance: {np.round(dist, 2)}\",\n",
    "        f\"VQE Result: {vqe_result:.5f}\",\n",
    "        f\"Exact Energy: {exact_energies[-1]:.5f}\",\n",
    "    )\n",
    "\n",
    "print(\"All energies have been calculated\")"
   ]
  },
  {
   "cell_type": "code",
   "execution_count": 14,
   "id": "0400b28a-ce76-4f94-93ac-a621db29bb96",
   "metadata": {},
   "outputs": [
    {
     "data": {
      "image/png": "[encoded data removed]",
      "text/plain": [
       "<Figure size 640x480 with 1 Axes>"
      ]
     },
     "metadata": {},
     "output_type": "display_data"
    }
   ],
   "source": [
    "plt.plot(distances, exact_energies, label=\"Exact Energy\")\n",
    "plt.plot(distances, vqe_energies, 'o', label=\"VQE Energy\")\n",
    "plt.xlabel(\"Atomic distance (Angstrom)\")\n",
    "plt.ylabel(\"Energy\")\n",
    "plt.legend()\n",
    "plt.show()"
   ]
  },
  {
   "cell_type": "markdown",
   "id": "1e4da19d-d21a-40be-b6e0-7f3f0b253b69",
   "metadata": {},
   "source": [
    "### Running H2 on a Noisy Quantum Computer Simulator"
   ]
  },
  {
   "cell_type": "code",
   "execution_count": 12,
   "id": "0eb9e223-70b4-4dc2-a311-5f4f1be6c8cb",
   "metadata": {},
   "outputs": [],
   "source": [
    "molecule = MoleculeInfo(\n",
    "    # Coordinates in Angstrom\n",
    "    symbols=[\"H\", \"H\"],\n",
    "    coords=([0.0, 0.0, -0.3625], [0.0, 0.0, 0.3625]),\n",
    "    multiplicity=1,\n",
    "    charge=0,\n",
    ")\n",
    "\n",
    "driver = PySCFDriver.from_molecule(molecule)\n",
    "problem = driver.run()\n",
    "\n",
    "second_q_ops = problem.second_q_ops()  # Get 2nd Quant OP\n",
    "num_spatial_orbitals = problem.num_spatial_orbitals\n",
    "num_particles = problem.num_particles\n",
    "\n",
    "mapper = ParityMapper(num_particles=num_particles)  # Set Mapper\n",
    "\n",
    "hamiltonian = second_q_ops[0]  # Set Hamiltonian\n",
    "\n",
    "# Do two qubit reduction\n",
    "qubit_op = mapper.map(hamiltonian)"
   ]
  },
  {
   "cell_type": "code",
   "execution_count": 15,
   "id": "3244b52e-f03c-47c7-ba68-0bce093253b3",
   "metadata": {},
   "outputs": [],
   "source": [
    "from qiskit_aer.noise import NoiseModel\n",
    "from qiskit.providers.fake_provider import FakeVigo\n",
    "from qiskit.algorithms.optimizers import SPSA\n",
    "\n",
    "# Fake providers contain data from real IBM Quantum devices stored\n",
    "# in Qiskit Terra, and are useful for extracting realistic noise models.\n",
    "\n",
    "device = FakeVigo()\n",
    "coupling_map = device.configuration().coupling_map\n",
    "noise_model = NoiseModel.from_backend(device)\n",
    "noisy_estimator = Estimator(\n",
    "    backend_options={\"coupling_map\": coupling_map, \"noise_model\": noise_model}\n",
    ")"
   ]
  },
  {
   "cell_type": "code",
   "execution_count": 16,
   "id": "600b60cc-cd5c-49d8-8a6a-6e4436a1b963",
   "metadata": {},
   "outputs": [
    {
     "name": "stdout",
     "output_type": "stream",
     "text": [
      "Exact Result: [-1.13722138]\n",
      "VQE Result: [-1.03408409]\n"
     ]
    }
   ],
   "source": [
    "result = exact_solver(qubit_op, problem)\n",
    "exact_energies.append(result.total_energies)\n",
    "\n",
    "print(\"Exact Result:\", result.total_energies)\n",
    "optimizer = SPSA(maxiter=100)\n",
    "var_form = EfficientSU2(qubit_op.num_qubits, entanglement=\"linear\")\n",
    "vqe = VQE(noisy_estimator, var_form, optimizer)\n",
    "vqe_calc = vqe.compute_minimum_eigenvalue(qubit_op)\n",
    "vqe_result = problem.interpret(vqe_calc).total_energies\n",
    "print(\"VQE Result:\", vqe_result)"
   ]
  },
  {
   "cell_type": "markdown",
   "id": "98c4c96a-275c-4106-a402-4751c87feacb",
   "metadata": {},
   "source": [
    "### Running VQE on a real quantum computer"
   ]
  },
  {
   "cell_type": "code",
   "execution_count": null,
   "id": "c70b40ff-15b3-40bb-af5a-1a41344e976e",
   "metadata": {
    "collapsed": true,
    "jupyter": {
     "outputs_hidden": true
    },
    "tags": []
   },
   "outputs": [
    {
     "name": "stdout",
     "output_type": "stream",
     "text": [
      "Collecting qiskit_ibm_runtime\n",
      "  Downloading qiskit_ibm_runtime-0.11.2-py3-none-any.whl (128 kB)\n",
      "\u001b[2K     \u001b[90m━━━━━━━━━━━━━━━━━━━━━━━━━━━━━━━━━━━━━━━\u001b[0m \u001b[32m128.0/128.0 kB\u001b[0m \u001b[31m2.7 MB/s\u001b[0m eta \u001b[36m0:00:00\u001b[0ma \u001b[36m0:00:01\u001b[0m\n",
      "\u001b[?25hRequirement already satisfied: qiskit-terra>=0.24.0 in /opt/.qbraid/environments/qbraid_000000/pyenv/lib/python3.9/site-packages (from qiskit_ibm_runtime) (0.24.1)\n",
      "Requirement already satisfied: requests>=2.19 in /opt/.qbraid/environments/qbraid_000000/pyenv/lib/python3.9/site-packages (from qiskit_ibm_runtime) (2.31.0)\n",
      "Requirement already satisfied: requests-ntlm>=1.1.0 in /opt/.qbraid/environments/qbraid_000000/pyenv/lib/python3.9/site-packages (from qiskit_ibm_runtime) (1.1.0)\n",
      "Requirement already satisfied: numpy>=1.13 in /opt/.qbraid/environments/qbraid_000000/pyenv/lib/python3.9/site-packages (from qiskit_ibm_runtime) (1.23.5)\n",
      "Requirement already satisfied: urllib3>=1.21.1 in /opt/.qbraid/environments/qbraid_000000/pyenv/lib/python3.9/site-packages (from qiskit_ibm_runtime) (1.26.16)\n",
      "Requirement already satisfied: python-dateutil>=2.8.0 in /opt/.qbraid/environments/qbraid_000000/pyenv/lib/python3.9/site-packages (from qiskit_ibm_runtime) (2.8.2)\n",
      "Requirement already satisfied: websocket-client>=1.5.1 in /opt/.qbraid/environments/qbraid_000000/pyenv/lib/python3.9/site-packages (from qiskit_ibm_runtime) (1.6.1)\n",
      "Collecting ibm-platform-services>=0.22.6 (from qiskit_ibm_runtime)\n",
      "  Downloading ibm-platform-services-0.38.0.tar.gz (254 kB)\n",
      "\u001b[2K     \u001b[90m━━━━━━━━━━━━━━━━━━━━━━━━━━━━━━━━━━━━━━━\u001b[0m \u001b[32m254.2/254.2 kB\u001b[0m \u001b[31m4.5 MB/s\u001b[0m eta \u001b[36m0:00:00\u001b[0ma \u001b[36m0:00:01\u001b[0m\n",
      "\u001b[?25h  Installing build dependencies ... \u001b[?25ldone\n",
      "\u001b[?25h  Getting requirements to build wheel ... \u001b[?25ldone\n",
      "\u001b[?25h  Preparing metadata (pyproject.toml) ... \u001b[?25ldone\n",
      "\u001b[?25hRequirement already satisfied: qiskit-ibm-provider>=0.6.0 in /opt/.qbraid/environments/qbraid_000000/pyenv/lib/python3.9/site-packages (from qiskit_ibm_runtime) (0.6.1)\n",
      "Collecting ibm-cloud-sdk-core<4.0.0,>=3.16.7 (from ibm-platform-services>=0.22.6->qiskit_ibm_runtime)\n",
      "  Downloading ibm-cloud-sdk-core-3.16.7.tar.gz (52 kB)\n",
      "\u001b[2K     \u001b[90m━━━━━━━━━━━━━━━━━━━━━━━━━━━━━━━━━━━━━━━━\u001b[0m \u001b[32m52.3/52.3 kB\u001b[0m \u001b[31m1.2 MB/s\u001b[0m eta \u001b[36m0:00:00\u001b[0m:00:01\u001b[0m\n",
      "\u001b[?25h  Installing build dependencies ... \u001b[?25ldone\n",
      "\u001b[?25h  Getting requirements to build wheel ... \u001b[?25ldone\n",
      "\u001b[?25h  Preparing metadata (pyproject.toml) ... \u001b[?25ldone\n",
      "\u001b[?25hRequirement already satisfied: six>=1.5 in /opt/.qbraid/environments/qbraid_000000/pyenv/lib/python3.9/site-packages (from python-dateutil>=2.8.0->qiskit_ibm_runtime) (1.16.0)\n",
      "Requirement already satisfied: websockets>=10.0 in /opt/.qbraid/environments/qbraid_000000/pyenv/lib/python3.9/site-packages (from qiskit-ibm-provider>=0.6.0->qiskit_ibm_runtime) (11.0.3)\n",
      "Requirement already satisfied: typing-extensions>=4.3 in /opt/.qbraid/environments/qbraid_000000/pyenv/lib/python3.9/site-packages (from qiskit-ibm-provider>=0.6.0->qiskit_ibm_runtime) (4.7.1)\n",
      "Requirement already satisfied: rustworkx>=0.12.0 in /opt/.qbraid/environments/qbraid_000000/pyenv/lib/python3.9/site-packages (from qiskit-terra>=0.24.0->qiskit_ibm_runtime) (0.13.0)\n",
      "Requirement already satisfied: ply>=3.10 in /opt/.qbraid/environments/qbraid_000000/pyenv/lib/python3.9/site-packages (from qiskit-terra>=0.24.0->qiskit_ibm_runtime) (3.11)\n",
      "Requirement already satisfied: psutil>=5 in /opt/.qbraid/environments/qbraid_000000/pyenv/lib/python3.9/site-packages (from qiskit-terra>=0.24.0->qiskit_ibm_runtime) (5.9.5)\n",
      "Requirement already satisfied: scipy>=1.5 in /opt/.qbraid/environments/qbraid_000000/pyenv/lib/python3.9/site-packages (from qiskit-terra>=0.24.0->qiskit_ibm_runtime) (1.11.1)\n",
      "Requirement already satisfied: sympy>=1.3 in /opt/.qbraid/environments/qbraid_000000/pyenv/lib/python3.9/site-packages (from qiskit-terra>=0.24.0->qiskit_ibm_runtime) (1.12)\n",
      "Requirement already satisfied: dill>=0.3 in /opt/.qbraid/environments/qbraid_000000/pyenv/lib/python3.9/site-packages (from qiskit-terra>=0.24.0->qiskit_ibm_runtime) (0.3.6)\n",
      "Requirement already satisfied: stevedore>=3.0.0 in /opt/.qbraid/environments/qbraid_000000/pyenv/lib/python3.9/site-packages (from qiskit-terra>=0.24.0->qiskit_ibm_runtime) (5.1.0)\n",
      "Requirement already satisfied: symengine<0.10,>=0.9 in /opt/.qbraid/environments/qbraid_000000/pyenv/lib/python3.9/site-packages (from qiskit-terra>=0.24.0->qiskit_ibm_runtime) (0.9.2)\n",
      "Requirement already satisfied: charset-normalizer<4,>=2 in /opt/.qbraid/environments/qbraid_000000/pyenv/lib/python3.9/site-packages (from requests>=2.19->qiskit_ibm_runtime) (3.1.0)\n",
      "Requirement already satisfied: idna<4,>=2.5 in /opt/.qbraid/environments/qbraid_000000/pyenv/lib/python3.9/site-packages (from requests>=2.19->qiskit_ibm_runtime) (3.4)\n",
      "Requirement already satisfied: certifi>=2017.4.17 in /opt/.qbraid/environments/qbraid_000000/pyenv/lib/python3.9/site-packages (from requests>=2.19->qiskit_ibm_runtime) (2023.5.7)\n",
      "Requirement already satisfied: ntlm-auth>=1.0.2 in /opt/.qbraid/environments/qbraid_000000/pyenv/lib/python3.9/site-packages (from requests-ntlm>=1.1.0->qiskit_ibm_runtime) (1.5.0)\n",
      "Requirement already satisfied: cryptography>=1.3 in /opt/.qbraid/environments/qbraid_000000/pyenv/lib/python3.9/site-packages (from requests-ntlm>=1.1.0->qiskit_ibm_runtime) (41.0.1)\n",
      "Requirement already satisfied: cffi>=1.12 in /opt/.qbraid/environments/qbraid_000000/pyenv/lib/python3.9/site-packages (from cryptography>=1.3->requests-ntlm>=1.1.0->qiskit_ibm_runtime) (1.15.1)\n",
      "Requirement already satisfied: PyJWT<3.0.0,>=2.4.0 in /opt/.qbraid/environments/qbraid_000000/pyenv/lib/python3.9/site-packages (from ibm-cloud-sdk-core<4.0.0,>=3.16.7->ibm-platform-services>=0.22.6->qiskit_ibm_runtime) (2.7.0)\n",
      "Requirement already satisfied: pbr!=2.1.0,>=2.0.0 in /opt/.qbraid/environments/qbraid_000000/pyenv/lib/python3.9/site-packages (from stevedore>=3.0.0->qiskit-terra>=0.24.0->qiskit_ibm_runtime) (5.11.1)\n",
      "Requirement already satisfied: mpmath>=0.19 in /opt/.qbraid/environments/qbraid_000000/pyenv/lib/python3.9/site-packages (from sympy>=1.3->qiskit-terra>=0.24.0->qiskit_ibm_runtime) (1.3.0)\n",
      "Requirement already satisfied: pycparser in /opt/.qbraid/environments/qbraid_000000/pyenv/lib/python3.9/site-packages (from cffi>=1.12->cryptography>=1.3->requests-ntlm>=1.1.0->qiskit_ibm_runtime) (2.21)\n",
      "Building wheels for collected packages: ibm-platform-services, ibm-cloud-sdk-core\n",
      "  Building wheel for ibm-platform-services (pyproject.toml) ... \u001b[?25ldone\n",
      "\u001b[?25h  Created wheel for ibm-platform-services: filename=ibm_platform_services-0.38.0-py3-none-any.whl size=269267 sha256=2f0b186e56786fbd577098c66f53c3ccae6e36c3754f2621c6e13ea1d713cb20\n",
      "  Stored in directory: /home/jovyan/.cache/pip/wheels/5f/82/f4/41e8769a72a7398d252f85a42e7776d1298298c0dbe0f9eb75\n",
      "  Building wheel for ibm-cloud-sdk-core (pyproject.toml) ... \u001b[?25ldone\n",
      "\u001b[?25h  Created wheel for ibm-cloud-sdk-core: filename=ibm_cloud_sdk_core-3.16.7-py3-none-any.whl size=85614 sha256=248f49763a18d3cb81681e729b92bad94fd071f019a3ca31fcbb10da3f1a71f6\n",
      "  Stored in directory: /home/jovyan/.cache/pip/wheels/80/e6/17/e1e600bbb332cf90e4a65e60758038c643a216882d5c908a93\n",
      "Successfully built ibm-platform-services ibm-cloud-sdk-core\n",
      "Installing collected packages: ibm-cloud-sdk-core, ibm-platform-services, qiskit_ibm_runtime\n",
      "Successfully installed ibm-cloud-sdk-core-3.16.7 ibm-platform-services-0.38.0 qiskit_ibm_runtime-0.11.2\n",
      "\n",
      "\u001b[1m[\u001b[0m\u001b[34;49mnotice\u001b[0m\u001b[1;39;49m]\u001b[0m\u001b[39;49m A new release of pip is available: \u001b[0m\u001b[31;49m23.1.2\u001b[0m\u001b[39;49m -> \u001b[0m\u001b[32;49m23.2.1\u001b[0m\n",
      "\u001b[1m[\u001b[0m\u001b[34;49mnotice\u001b[0m\u001b[1;39;49m]\u001b[0m\u001b[39;49m To update, run: \u001b[0m\u001b[32;49mpython -m pip install --upgrade pip\u001b[0m\n",
      "Note: you may need to restart the kernel to use updated packages.\n"
     ]
    }
   ],
   "source": [
    "pip install qiskit_ibm_runtime"
   ]
  },
  {
   "cell_type": "code",
   "execution_count": null,
   "id": "88beace9-20ed-4b96-ac41-18b08b2feb48",
   "metadata": {},
   "outputs": [
    {
     "ename": "TypeError",
     "evalue": "__init__() got an unexpected keyword argument 'session'",
     "output_type": "error",
     "traceback": [
      "\u001b[0;31m---------------------------------------------------------------------------\u001b[0m",
      "\u001b[0;31mTypeError\u001b[0m                                 Traceback (most recent call last)",
      "Cell \u001b[0;32mIn[19], line 6\u001b[0m\n\u001b[1;32m      4\u001b[0m service \u001b[38;5;241m=\u001b[39m QiskitRuntimeService(channel\u001b[38;5;241m=\u001b[39m\u001b[38;5;124m\"\u001b[39m\u001b[38;5;124mibm_quantum\u001b[39m\u001b[38;5;124m\"\u001b[39m, token\u001b[38;5;241m=\u001b[39m\u001b[38;5;124m\"\u001b[39m\u001b[38;5;124ma6c39f39523ba015686648a0434b3a0bea5f58eafb4b2eaaf1f3a42541361d29fc8ab804852bcf45b0818142b60e7c8726d8df297ef528e39087c5a71e8c6c34\u001b[39m\u001b[38;5;124m\"\u001b[39m)\n\u001b[1;32m      5\u001b[0m backend \u001b[38;5;241m=\u001b[39m service\u001b[38;5;241m.\u001b[39mbackend(\u001b[38;5;124m\"\u001b[39m\u001b[38;5;124mibm_perth\u001b[39m\u001b[38;5;124m\"\u001b[39m)\n\u001b[0;32m----> 6\u001b[0m estimator \u001b[38;5;241m=\u001b[39m \u001b[43mEstimator\u001b[49m\u001b[43m(\u001b[49m\u001b[43msession\u001b[49m\u001b[38;5;241;43m=\u001b[39;49m\u001b[43mbackend\u001b[49m\u001b[43m)\u001b[49m\n",
      "\u001b[0;31mTypeError\u001b[0m: __init__() got an unexpected keyword argument 'session'"
     ]
    }
   ],
   "source": [
    "from qiskit_ibm_runtime import QiskitRuntimeService, Sampler\n",
    "\n",
    "# Get the API token in https://quantum-computing.ibm.com/account\n",
    "service = QiskitRuntimeService(channel=\"ibm_quantum\", token=\"a6c39f39523ba015686648a0434b3a0bea5f58eafb4b2eaaf1f3a42541361d29fc8ab804852bcf45b0818142b60e7c8726d8df297ef528e39087c5a71e8c6c34\")\n",
    "backend = service.backend(\"ibm_perth\")\n",
    "estimator = Estimator(session=backend)"
   ]
  },
  {
   "cell_type": "code",
   "execution_count": null,
   "id": "726005ff-b37f-498a-9142-449f07e22076",
   "metadata": {},
   "outputs": [],
   "source": [
    "# Run the circuit and get result distribution\n",
    "job = estimator.run(var_form)\n",
    "quasi_dist = job.result().quasi_dists[0]\n",
    "print(quasi_dist)"
   ]
  },
  {
   "cell_type": "code",
   "execution_count": null,
   "id": "11f6af63-9f09-4af1-b225-d719bfa05c07",
   "metadata": {},
   "outputs": [],
   "source": []
  }
 ],
 "metadata": {
  "kernelspec": {
   "display_name": "Python 3 [Default]",
   "language": "python",
   "name": "python3"
  },
  "language_info": {
   "codemirror_mode": {
    "name": "ipython",
    "version": 3
   },
   "file_extension": ".py",
   "mimetype": "text/x-python",
   "name": "python",
   "nbconvert_exporter": "python",
   "pygments_lexer": "ipython3",
   "version": "3.9.12"
  }
 },
 "nbformat": 4,
 "nbformat_minor": 5
}
