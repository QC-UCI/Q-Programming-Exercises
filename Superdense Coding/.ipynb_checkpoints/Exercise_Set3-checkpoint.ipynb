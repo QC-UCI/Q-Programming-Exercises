{
 "cells": [
  {
   "cell_type": "code",
   "execution_count": null,
   "id": "dc9e71f5-2c35-460d-8790-13226f2379d0",
   "metadata": {},
   "outputs": [],
   "source": [
    "#!pip install seaborn"
   ]
  },
  {
   "cell_type": "code",
   "execution_count": null,
   "id": "3e835c1f-5462-40f8-b3c2-20f7334e313e",
   "metadata": {},
   "outputs": [],
   "source": [
    "from qiskit import QuantumCircuit, transpile, Aer, IBMQ, assemble, execute, QuantumRegister, ClassicalRegister, AncillaRegister\n",
    "from qiskit.circuit.library import MCMT, ZGate\n",
    "from qiskit.tools.jupyter import *\n",
    "from qiskit.visualization import *\n",
    "from qiskit.providers.aer import QasmSimulator\n",
    "import qiskit.quantum_info as qi\n",
    "\n",
    "from qiskit_ibm_provider import IBMProvider\n",
    "import qiskit_ibm_provider\n",
    "\n",
    "#import seaborn\n",
    "import numpy as np\n",
    "\n",
    "#provider = IBMProvider()"
   ]
  },
  {
   "cell_type": "code",
   "execution_count": null,
   "id": "b5897200-cbad-4945-b609-c650833a887b",
   "metadata": {},
   "outputs": [],
   "source": [
    "def print_statevector(qstate):\n",
    "    reg = [\"00\", \"01\", \"10\", \"11\"]\n",
    "    qstate = np.asarray(qstate)\n",
    "    for i in range(len(qstate)):\n",
    "        print((str(np.round(qstate[i],3))+\"|\"+reg[i]+\"> \"),end=\"  \")\n",
    "            \n",
    "def sv_simulate_circuit(qc):            \n",
    "    backend = Aer.get_backend('statevector_simulator') # Tell it which simulator you want to use \n",
    "    job = execute(qc,backend) # Put in the name of your quantum circuit where it says qc\n",
    "    result = job.result() \n",
    "\n",
    "    state = np.asarray(result.get_statevector())\n",
    "    \n",
    "    amplitude_list = []\n",
    "    for amplitude in state:\n",
    "        amplitude_list.append(np.round(amplitude,3))\n",
    "        \n",
    "    return amplitude_list\n",
    "\n",
    "def aer_simulate_circuit(qc):\n",
    "    backend = Aer.get_backend('qasm_simulator')\n",
    "    job = execute(qc,backend, shots = 1024)\n",
    "    result = job.result()         \n",
    "    return result.get_counts()"
   ]
  },
  {
   "cell_type": "code",
   "execution_count": null,
   "id": "679165e7-385e-4823-9202-3de91859c21f",
   "metadata": {},
   "outputs": [],
   "source": [
    "def pair_preparation(qc: QuantumCircuit) -> QuantumCircuit:\n",
    "    qc.h(0)\n",
    "    qc.cx(0,1)\n",
    "    qc.barrier()\n",
    "    return qc\n",
    "    \n",
    "def encode(qc: QuantumCircuit, bitString: str) -> QuantumCircuit:\n",
    "    bitZero = int(bitString[1])\n",
    "    bitOne = int(bitString[0])\n",
    "    \n",
    "    #----Type your code here----\n",
    "    \n",
    "    \n",
    "    #---------------------------\n",
    "        \n",
    "    return qc\n",
    "\n",
    "def decode(qc: QuantumCircuit) -> QuantumCircuit:\n",
    "    qc.barrier()\n",
    "    \n",
    "    #----Type your code here----\n",
    "    \n",
    "    \n",
    "    #---------------------------\n",
    "    \n",
    "    return qc\n",
    "\n",
    "def measure_qubits(qc: QuantumCircuit) -> QuantumCircuit:\n",
    "    qc.barrier()\n",
    "    qc.measure([0,1],[0,1])\n",
    "    return qc"
   ]
  },
  {
   "cell_type": "code",
   "execution_count": null,
   "id": "562187b1-34ca-4e44-8893-c5f37f081e15",
   "metadata": {},
   "outputs": [],
   "source": [
    "bitstring_to_encode = '10' # Can play with this input bitstring. Observe the different quantum circuit.\n",
    "\n",
    "qreg = QuantumRegister(len(bitstring_to_encode))\n",
    "creg = ClassicalRegister(len(bitstring_to_encode))\n",
    "\n",
    "qc = QuantumCircuit(qreg, creg)\n",
    "\n",
    "qc = pair_preparation(qc)\n",
    "qc = encode(qc, bitstring_to_encode)\n",
    "qc = decode(qc)\n",
    "qc = measure_qubits(qc)\n",
    "\n",
    "qc.draw()"
   ]
  },
  {
   "cell_type": "code",
   "execution_count": null,
   "id": "80187fc6-2b1f-4d3f-be62-af08967008bf",
   "metadata": {},
   "outputs": [],
   "source": [
    "aer_simulate_circuit(qc)"
   ]
  },
  {
   "cell_type": "code",
   "execution_count": null,
   "id": "0be226c7-67ad-4f91-8430-2ce4516647cc",
   "metadata": {},
   "outputs": [],
   "source": [
    "plot_histogram(aer_simulate_circuit(qc)) "
   ]
  },
  {
   "cell_type": "code",
   "execution_count": null,
   "id": "bc82b5c9-d1ba-41d1-82cb-fefed0e0b5b8",
   "metadata": {},
   "outputs": [],
   "source": []
  }
 ],
 "metadata": {
  "kernelspec": {
   "display_name": "Python 3 [Default]",
   "language": "python",
   "name": "python3"
  },
  "language_info": {
   "codemirror_mode": {
    "name": "ipython",
    "version": 3
   },
   "file_extension": ".py",
   "mimetype": "text/x-python",
   "name": "python",
   "nbconvert_exporter": "python",
   "pygments_lexer": "ipython3",
   "version": "3.9.12"
  },
  "widgets": {
   "application/vnd.jupyter.widget-state+json": {
    "state": {
     "089299e4d8cf41df8ac77ba411671db3": {
      "model_module": "@jupyter-widgets/controls",
      "model_module_version": "1.5.0",
      "model_name": "HTMLModel",
      "state": {
       "layout": "IPY_MODEL_5c8c4e248ab848db8782476e54bea8e0",
       "style": "IPY_MODEL_2769ed400ef64df996b9aa9169a0f946",
       "value": "<p style='font-family: IBM Plex Sans, Arial, Helvetica, sans-serif; font-size: 20px; font-weight: medium;'>Circuit Properties</p>"
      }
     },
     "1563a1ed73be4589b11e39fa0d37f679": {
      "model_module": "@jupyter-widgets/controls",
      "model_module_version": "1.5.0",
      "model_name": "HTMLModel",
      "state": {
       "layout": "IPY_MODEL_8f09adf40ebf485a802996ac7ad3f704",
       "style": "IPY_MODEL_7ba2f2b7b6914c008328cfb313bdd57e",
       "value": "<h5>Backend</h5>"
      }
     },
     "1d2078c8b37d47a4ac21c0df212783a3": {
      "model_module": "@jupyter-widgets/base",
      "model_module_version": "1.2.0",
      "model_name": "LayoutModel",
      "state": {
       "width": "190px"
      }
     },
     "2769ed400ef64df996b9aa9169a0f946": {
      "model_module": "@jupyter-widgets/controls",
      "model_module_version": "1.5.0",
      "model_name": "DescriptionStyleModel",
      "state": {
       "description_width": ""
      }
     },
     "4a714d7360da401d987fef14f950f21b": {
      "model_module": "@jupyter-widgets/controls",
      "model_module_version": "1.5.0",
      "model_name": "HTMLModel",
      "state": {
       "layout": "IPY_MODEL_86275c5bfcf644bb94ee7a1bb2f6be6e",
       "style": "IPY_MODEL_afb08aed062a45ea97604514119d4181",
       "value": "<h5>Status</h5>"
      }
     },
     "4b8604cf37cb49d19dbd5b5cdb279793": {
      "model_module": "@jupyter-widgets/controls",
      "model_module_version": "1.5.0",
      "model_name": "HTMLModel",
      "state": {
       "layout": "IPY_MODEL_eff26f3e7c3542718f09207c223565f6",
       "style": "IPY_MODEL_ea5c3dcb66ec45a28f692d0914ec133b",
       "value": "<h5>Message</h5>"
      }
     },
     "4f8a853cf2ec482cacc7b85658da126a": {
      "model_module": "@jupyter-widgets/controls",
      "model_module_version": "1.5.0",
      "model_name": "GridBoxModel",
      "state": {
       "children": [
        "IPY_MODEL_a4daddfd9463413c85bb7ce484f8ee6e"
       ],
       "layout": "IPY_MODEL_bf981728258e4ea2b75737e69dd887e2"
      }
     },
     "5c8c4e248ab848db8782476e54bea8e0": {
      "model_module": "@jupyter-widgets/base",
      "model_module_version": "1.2.0",
      "model_name": "LayoutModel",
      "state": {
       "margin": "0px 0px 10px 0px"
      }
     },
     "70ed3dd8cb7a4bf49d1160421c27fe15": {
      "model_module": "@jupyter-widgets/controls",
      "model_module_version": "1.5.0",
      "model_name": "DescriptionStyleModel",
      "state": {
       "description_width": ""
      }
     },
     "75f910090f744436a2f53b64510995e9": {
      "model_module": "@jupyter-widgets/base",
      "model_module_version": "1.2.0",
      "model_name": "LayoutModel",
      "state": {
       "grid_area": "right",
       "padding": "0px 0px 0px 0px",
       "width": "70px"
      }
     },
     "7ba2f2b7b6914c008328cfb313bdd57e": {
      "model_module": "@jupyter-widgets/controls",
      "model_module_version": "1.5.0",
      "model_name": "DescriptionStyleModel",
      "state": {
       "description_width": ""
      }
     },
     "86275c5bfcf644bb94ee7a1bb2f6be6e": {
      "model_module": "@jupyter-widgets/base",
      "model_module_version": "1.2.0",
      "model_name": "LayoutModel",
      "state": {
       "width": "95px"
      }
     },
     "8f09adf40ebf485a802996ac7ad3f704": {
      "model_module": "@jupyter-widgets/base",
      "model_module_version": "1.2.0",
      "model_name": "LayoutModel",
      "state": {
       "width": "145px"
      }
     },
     "9599cd87e86547f2a3e184276a829e62": {
      "model_module": "@jupyter-widgets/controls",
      "model_module_version": "1.5.0",
      "model_name": "HBoxModel",
      "state": {
       "children": [
        "IPY_MODEL_d8532a53c0394cdbab8c18b3d956c705",
        "IPY_MODEL_1563a1ed73be4589b11e39fa0d37f679",
        "IPY_MODEL_4a714d7360da401d987fef14f950f21b",
        "IPY_MODEL_fd1957117ea94d64ade7f4413f0e09d3",
        "IPY_MODEL_4b8604cf37cb49d19dbd5b5cdb279793"
       ],
       "layout": "IPY_MODEL_f7478e4b419a421baa83877f517d0fc2"
      }
     },
     "a4daddfd9463413c85bb7ce484f8ee6e": {
      "model_module": "@jupyter-widgets/controls",
      "model_module_version": "1.5.0",
      "model_name": "ButtonModel",
      "state": {
       "button_style": "primary",
       "description": "Clear",
       "layout": "IPY_MODEL_75f910090f744436a2f53b64510995e9",
       "style": "IPY_MODEL_d19b2be351ea4657a064ea9bccd84be6"
      }
     },
     "afb08aed062a45ea97604514119d4181": {
      "model_module": "@jupyter-widgets/controls",
      "model_module_version": "1.5.0",
      "model_name": "DescriptionStyleModel",
      "state": {
       "description_width": ""
      }
     },
     "b81137f816104f26b6a2c0a2ea18dd41": {
      "model_module": "@jupyter-widgets/controls",
      "model_module_version": "1.5.0",
      "model_name": "DescriptionStyleModel",
      "state": {
       "description_width": ""
      }
     },
     "bf981728258e4ea2b75737e69dd887e2": {
      "model_module": "@jupyter-widgets/base",
      "model_module_version": "1.2.0",
      "model_name": "LayoutModel",
      "state": {
       "grid_template_areas": "\n                                       \". . . . right \"\n                                        ",
       "grid_template_columns": "20% 20% 20% 20% 20%",
       "width": "100%"
      }
     },
     "d19b2be351ea4657a064ea9bccd84be6": {
      "model_module": "@jupyter-widgets/controls",
      "model_module_version": "1.5.0",
      "model_name": "ButtonStyleModel",
      "state": {}
     },
     "d8532a53c0394cdbab8c18b3d956c705": {
      "model_module": "@jupyter-widgets/controls",
      "model_module_version": "1.5.0",
      "model_name": "HTMLModel",
      "state": {
       "layout": "IPY_MODEL_1d2078c8b37d47a4ac21c0df212783a3",
       "style": "IPY_MODEL_b81137f816104f26b6a2c0a2ea18dd41",
       "value": "<h5>Job ID</h5>"
      }
     },
     "ea5c3dcb66ec45a28f692d0914ec133b": {
      "model_module": "@jupyter-widgets/controls",
      "model_module_version": "1.5.0",
      "model_name": "DescriptionStyleModel",
      "state": {
       "description_width": ""
      }
     },
     "eff26f3e7c3542718f09207c223565f6": {
      "model_module": "@jupyter-widgets/base",
      "model_module_version": "1.2.0",
      "model_name": "LayoutModel",
      "state": {}
     },
     "f69bfe779285441f9c1218f484976f53": {
      "model_module": "@jupyter-widgets/base",
      "model_module_version": "1.2.0",
      "model_name": "LayoutModel",
      "state": {
       "width": "70px"
      }
     },
     "f7478e4b419a421baa83877f517d0fc2": {
      "model_module": "@jupyter-widgets/base",
      "model_module_version": "1.2.0",
      "model_name": "LayoutModel",
      "state": {
       "margin": "0px 0px 0px 37px",
       "width": "600px"
      }
     },
     "fd1957117ea94d64ade7f4413f0e09d3": {
      "model_module": "@jupyter-widgets/controls",
      "model_module_version": "1.5.0",
      "model_name": "HTMLModel",
      "state": {
       "layout": "IPY_MODEL_f69bfe779285441f9c1218f484976f53",
       "style": "IPY_MODEL_70ed3dd8cb7a4bf49d1160421c27fe15",
       "value": "<h5>Queue</h5>"
      }
     }
    },
    "version_major": 2,
    "version_minor": 0
   }
  }
 },
 "nbformat": 4,
 "nbformat_minor": 5
}
