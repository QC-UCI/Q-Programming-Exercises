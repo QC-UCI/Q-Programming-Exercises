{
 "cells": [
  {
   "cell_type": "code",
   "execution_count": 1,
   "id": "665bf9e7-9ece-4393-8914-162256490cc1",
   "metadata": {},
   "outputs": [
    {
     "name": "stderr",
     "output_type": "stream",
     "text": [
      "<frozen importlib._bootstrap>:219: RuntimeWarning: scipy._lib.messagestream.MessageStream size changed, may indicate binary incompatibility. Expected 56 from C header, got 64 from PyObject\n"
     ]
    }
   ],
   "source": [
    "import numpy as np\n",
    "\n",
    "# Importing standard Qiskit libraries\n",
    "from qiskit import QuantumCircuit, transpile, execute, Aer, IBMQ, QuantumRegister, ClassicalRegister\n",
    "from qiskit.tools.jupyter import *\n",
    "from qiskit.visualization import *\n",
    "from ibm_quantum_widgets import *\n",
    "from qiskit.providers.aer import QasmSimulator\n",
    "\n",
    "# Loading your IBM Quantum account(s)\n",
    "provider = IBMQ.load_account()"
   ]
  },
  {
   "cell_type": "code",
   "execution_count": 12,
   "id": "4eebd6b9-a6ba-442e-810e-c2515c1712ba",
   "metadata": {},
   "outputs": [],
   "source": [
    "# Basic Functions for Display Purposes\n",
    "\n",
    "def print_statevector(qstate):\n",
    "    reg = [\"00\", \"01\", \"10\", \"11\"]\n",
    "    qstate = np.asarray(qstate)\n",
    "    for i in range(len(qstate)):\n",
    "        print((str(np.round(qstate[i],3))+\"|\"+reg[i]+\"> \"),end=\"  \")\n",
    "        \n",
    "def simulate_circuit(qc):            \n",
    "    backend = Aer.get_backend('statevector_simulator') # Tell it which simulator you want to use \n",
    "    job = execute(qc,backend) # Put in the name of your quantum circuit where it says qc\n",
    "    result = job.result() \n",
    "\n",
    "    state = result.get_statevector() \n",
    "    return state"
   ]
  },
  {
   "cell_type": "markdown",
   "id": "011dc62d-d5ab-46d6-b248-833d7e204d2f",
   "metadata": {
    "tags": []
   },
   "source": [
    "# Bell States\n",
    "\n",
    "<img src=\"bellstates.png\" alt=\"Bell States\">\n",
    "\n",
    "From the quantum states seen above, what are things that we can observe?\n",
    "\n",
    "<ul>\n",
    "    <li> We have a register with 2 qubits </li>\n",
    "    <li> The qubits are somehow in superposition, but 2 states are missing in each case </li>\n",
    "    <li> The signs change </li>\n",
    "</ul>\n",
    "\n",
    "Ok, we have superposition of qubits, but what other thing is going on in these Bell States to make them so unique?\n",
    "\n",
    "#### Entanglement"
   ]
  },
  {
   "cell_type": "markdown",
   "id": "0d8cb333-2cba-4887-b183-cb15a7502286",
   "metadata": {},
   "source": [
    "## Let's build all the Bell States: "
   ]
  },
  {
   "cell_type": "markdown",
   "id": "117cb0e3-6bfc-4cb1-ab2d-0773029c6d49",
   "metadata": {
    "jp-MarkdownHeadingCollapsed": true,
    "tags": []
   },
   "source": [
    "### 1st Bell State"
   ]
  },
  {
   "cell_type": "code",
   "execution_count": 13,
   "id": "b90c9651-f58f-4242-a6e6-e27c41be0c26",
   "metadata": {},
   "outputs": [],
   "source": [
    "num_of_qubits = 2\n",
    "num_of_clbits = 2\n",
    "\n",
    "qReg = QuantumRegister(num_of_qubits, 'qubit')\n",
    "cReg = ClassicalRegister(num_of_clbits, 'bit')"
   ]
  },
  {
   "cell_type": "code",
   "execution_count": 14,
   "id": "093e0e60-5a33-42f6-b1d1-1f569a4a165f",
   "metadata": {},
   "outputs": [
    {
     "data": {
      "image/png": "[encoded data removed]",
      "text/plain": [
       "<Figure size 247.241x204.68 with 1 Axes>"
      ]
     },
     "execution_count": 14,
     "metadata": {},
     "output_type": "execute_result"
    }
   ],
   "source": [
    "qc1 = QuantumCircuit(qReg, cReg)\n",
    "qc1.h(0)\n",
    "qc1.cx(0,1)\n",
    "qc1.draw()"
   ]
  },
  {
   "cell_type": "code",
   "execution_count": 15,
   "id": "bf5db800-6ed9-47b2-a45e-7210884db12c",
   "metadata": {},
   "outputs": [
    {
     "data": {
      "text/latex": [
       "$$\n",
       "\n",
       "\\begin{bmatrix}\n",
       "\\tfrac{1}{\\sqrt{2}} & 0 & 0 & \\tfrac{1}{\\sqrt{2}}  \\\\\n",
       " \\end{bmatrix}\n",
       "$$"
      ],
      "text/plain": [
       "<IPython.core.display.Latex object>"
      ]
     },
     "execution_count": 15,
     "metadata": {},
     "output_type": "execute_result"
    }
   ],
   "source": [
    "qc1_state = simulate_circuit(qc1)\n",
    "array_to_latex(qc1_state, \"\\\\text{Statevector} = \")"
   ]
  },
  {
   "cell_type": "code",
   "execution_count": 16,
   "id": "6c7ee96f-09e1-4580-98df-3bb0f0c5112a",
   "metadata": {},
   "outputs": [
    {
     "name": "stdout",
     "output_type": "stream",
     "text": [
      "(0.707+0j)|00>   0j|01>   0j|10>   (0.707+0j)|11>   "
     ]
    }
   ],
   "source": [
    "print_statevector(qc1_state)"
   ]
  },
  {
   "cell_type": "markdown",
   "id": "43ab2223-1a5a-4d2b-a8b2-5e9c3f8e3680",
   "metadata": {
    "jp-MarkdownHeadingCollapsed": true,
    "tags": []
   },
   "source": [
    "### 2nd Bell State"
   ]
  },
  {
   "cell_type": "code",
   "execution_count": 17,
   "id": "e1af20cc-378b-4c50-a64f-6a6c6d22b967",
   "metadata": {},
   "outputs": [
    {
     "data": {
      "image/png": "[encoded data removed]",
      "text/plain": [
       "<Figure size 267.052x204.68 with 1 Axes>"
      ]
     },
     "execution_count": 17,
     "metadata": {},
     "output_type": "execute_result"
    }
   ],
   "source": [
    "qc2 = QuantumCircuit(2,2)\n",
    "qc2.h(0)\n",
    "qc2.z(0)\n",
    "qc2.cx(0,1)\n",
    "qc2.draw()"
   ]
  },
  {
   "cell_type": "code",
   "execution_count": 18,
   "id": "50190f92-64e9-471f-9e5e-851d36693357",
   "metadata": {},
   "outputs": [
    {
     "data": {
      "text/latex": [
       "$$\n",
       "\n",
       "\\begin{bmatrix}\n",
       "\\tfrac{1}{\\sqrt{2}} & 0 & 0 & -\\tfrac{1}{\\sqrt{2}}  \\\\\n",
       " \\end{bmatrix}\n",
       "$$"
      ],
      "text/plain": [
       "<IPython.core.display.Latex object>"
      ]
     },
     "execution_count": 18,
     "metadata": {},
     "output_type": "execute_result"
    }
   ],
   "source": [
    "qc2_state = simulate_circuit(qc2)\n",
    "array_to_latex(qc2_state, \"\\\\text{Statevector} = \")"
   ]
  },
  {
   "cell_type": "code",
   "execution_count": 19,
   "id": "3fb00063-6e60-4f16-bc90-c0fc8051bfc8",
   "metadata": {},
   "outputs": [
    {
     "name": "stdout",
     "output_type": "stream",
     "text": [
      "(0.707+0j)|00>   0j|01>   0j|10>   (-0.707-0j)|11>   "
     ]
    }
   ],
   "source": [
    "print_statevector(qc2_state)"
   ]
  },
  {
   "cell_type": "markdown",
   "id": "37b46c5b-463a-45d4-9714-300cb878edcd",
   "metadata": {
    "jp-MarkdownHeadingCollapsed": true,
    "tags": []
   },
   "source": [
    "### 3rd Bell State"
   ]
  },
  {
   "cell_type": "code",
   "execution_count": 20,
   "id": "5455e97a-7f2f-4f59-be26-1915141ed3ad",
   "metadata": {},
   "outputs": [
    {
     "data": {
      "image/png": "[encoded data removed]",
      "text/plain": [
       "<Figure size 267.052x204.68 with 1 Axes>"
      ]
     },
     "execution_count": 20,
     "metadata": {},
     "output_type": "execute_result"
    }
   ],
   "source": [
    "qc3 = QuantumCircuit(2,2)\n",
    "qc3.h(0)\n",
    "qc3.cx(0,1)\n",
    "qc3.x(1)\n",
    "qc3.draw()"
   ]
  },
  {
   "cell_type": "code",
   "execution_count": 21,
   "id": "de57f6bb-0159-4b23-88a6-bcf48ed79565",
   "metadata": {},
   "outputs": [
    {
     "data": {
      "text/latex": [
       "$$\n",
       "\n",
       "\\begin{bmatrix}\n",
       "0 & \\tfrac{1}{\\sqrt{2}} & \\tfrac{1}{\\sqrt{2}} & 0  \\\\\n",
       " \\end{bmatrix}\n",
       "$$"
      ],
      "text/plain": [
       "<IPython.core.display.Latex object>"
      ]
     },
     "execution_count": 21,
     "metadata": {},
     "output_type": "execute_result"
    }
   ],
   "source": [
    "qc3_state = simulate_circuit(qc3)\n",
    "array_to_latex(qc3_state, \"\\\\text{Statevector} = \")"
   ]
  },
  {
   "cell_type": "code",
   "execution_count": 22,
   "id": "7d34846f-dfcf-4c0f-a58e-73a926dc115c",
   "metadata": {},
   "outputs": [
    {
     "name": "stdout",
     "output_type": "stream",
     "text": [
      "0j|00>   (0.707+0j)|01>   (0.707+0j)|10>   0j|11>   "
     ]
    }
   ],
   "source": [
    "print_statevector(qc3_state)"
   ]
  },
  {
   "cell_type": "markdown",
   "id": "6f67e511-763d-44ab-8c6a-5d8f6b32a259",
   "metadata": {
    "jp-MarkdownHeadingCollapsed": true,
    "tags": []
   },
   "source": [
    "### 4th Bell State"
   ]
  },
  {
   "cell_type": "code",
   "execution_count": 23,
   "id": "dac47c8b-b145-4eb1-843e-89983d809044",
   "metadata": {},
   "outputs": [
    {
     "data": {
      "image/png": "[encoded data removed]",
      "text/plain": [
       "<Figure size 327.252x204.68 with 1 Axes>"
      ]
     },
     "execution_count": 23,
     "metadata": {},
     "output_type": "execute_result"
    }
   ],
   "source": [
    "qc4 = QuantumCircuit(2,2)\n",
    "qc4.h(0)\n",
    "qc4.cx(0,1)\n",
    "qc4.x(1)\n",
    "qc4.z(1)\n",
    "qc4.draw()"
   ]
  },
  {
   "cell_type": "code",
   "execution_count": 24,
   "id": "15c89199-4df3-4ec8-88bd-f73459dcefa0",
   "metadata": {},
   "outputs": [
    {
     "data": {
      "text/latex": [
       "$$\n",
       "\n",
       "\\begin{bmatrix}\n",
       "0 & \\tfrac{1}{\\sqrt{2}} & -\\tfrac{1}{\\sqrt{2}} & 0  \\\\\n",
       " \\end{bmatrix}\n",
       "$$"
      ],
      "text/plain": [
       "<IPython.core.display.Latex object>"
      ]
     },
     "execution_count": 24,
     "metadata": {},
     "output_type": "execute_result"
    }
   ],
   "source": [
    "qc4_state = simulate_circuit(qc4)\n",
    "array_to_latex(qc4_state, \"\\\\text{Statevector} = \")"
   ]
  },
  {
   "cell_type": "code",
   "execution_count": 25,
   "id": "d8286e10-9d4f-4361-a72b-5e1b85e5bf9f",
   "metadata": {},
   "outputs": [
    {
     "name": "stdout",
     "output_type": "stream",
     "text": [
      "0j|00>   (0.707+0j)|01>   (-0.707-0j)|10>   0j|11>   "
     ]
    }
   ],
   "source": [
    "print_statevector(qc4_state)"
   ]
  },
  {
   "cell_type": "markdown",
   "id": "c49abe9c-b164-42b2-93ea-400abfba7839",
   "metadata": {},
   "source": [
    "### --------------------------------------------------------------------------------"
   ]
  }
 ],
 "metadata": {
  "kernelspec": {
   "display_name": "Python 3 (ipykernel)",
   "language": "python",
   "name": "python3"
  },
  "language_info": {
   "codemirror_mode": {
    "name": "ipython",
    "version": 3
   },
   "file_extension": ".py",
   "mimetype": "text/x-python",
   "name": "python",
   "nbconvert_exporter": "python",
   "pygments_lexer": "ipython3",
   "version": "3.8.13"
  },
  "widgets": {
   "application/vnd.jupyter.widget-state+json": {
    "state": {
     "16f5c879a55f4e03a4b10bedcbdb2606": {
      "model_module": "@jupyter-widgets/controls",
      "model_module_version": "1.5.0",
      "model_name": "DescriptionStyleModel",
      "state": {
       "description_width": ""
      }
     },
     "246cd3ec38454f69943b8ca827e674d0": {
      "model_module": "@jupyter-widgets/controls",
      "model_module_version": "1.5.0",
      "model_name": "DescriptionStyleModel",
      "state": {
       "description_width": ""
      }
     },
     "2b24e4e0abd74d019e11089ef22ac9ff": {
      "model_module": "@jupyter-widgets/controls",
      "model_module_version": "1.5.0",
      "model_name": "DescriptionStyleModel",
      "state": {
       "description_width": ""
      }
     },
     "32ed0fa534644d749c5d381971a8a53c": {
      "model_module": "@jupyter-widgets/controls",
      "model_module_version": "1.5.0",
      "model_name": "ButtonModel",
      "state": {
       "button_style": "primary",
       "description": "Clear",
       "layout": "IPY_MODEL_679694a3696f49bb9758369563db6950",
       "style": "IPY_MODEL_b339d341188440c3ac853763b0ae17e5"
      }
     },
     "55bfb3d6fa53407d92b395f95a21a41d": {
      "model_module": "@jupyter-widgets/controls",
      "model_module_version": "1.5.0",
      "model_name": "HTMLModel",
      "state": {
       "layout": "IPY_MODEL_acf6480e81fc41ef808abae7e05a8a92",
       "style": "IPY_MODEL_e357e8cbf4574511842871c7e201d19e",
       "value": "<h5>Backend</h5>"
      }
     },
     "5952623b852c438b8d17c90cfd8a1ed7": {
      "model_module": "@jupyter-widgets/base",
      "model_module_version": "1.2.0",
      "model_name": "LayoutModel",
      "state": {
       "width": "190px"
      }
     },
     "5d801fb70427442d8fdd4905312b477b": {
      "model_module": "@jupyter-widgets/controls",
      "model_module_version": "1.5.0",
      "model_name": "DescriptionStyleModel",
      "state": {
       "description_width": ""
      }
     },
     "5fef0072a2fc48e8b99fe2bee31cf132": {
      "model_module": "@jupyter-widgets/controls",
      "model_module_version": "1.5.0",
      "model_name": "GridBoxModel",
      "state": {
       "children": [
        "IPY_MODEL_32ed0fa534644d749c5d381971a8a53c"
       ],
       "layout": "IPY_MODEL_db0038c907e94f81989c9fc82a135320"
      }
     },
     "6699e89ff94143f687d9883e224c2360": {
      "model_module": "@jupyter-widgets/controls",
      "model_module_version": "1.5.0",
      "model_name": "HTMLModel",
      "state": {
       "layout": "IPY_MODEL_c6870b7d59e647c58fb99cf74dd7e286",
       "style": "IPY_MODEL_16f5c879a55f4e03a4b10bedcbdb2606",
       "value": "<h5>Queue</h5>"
      }
     },
     "679694a3696f49bb9758369563db6950": {
      "model_module": "@jupyter-widgets/base",
      "model_module_version": "1.2.0",
      "model_name": "LayoutModel",
      "state": {
       "grid_area": "right",
       "padding": "0px 0px 0px 0px",
       "width": "70px"
      }
     },
     "7c082e2c6d6141af9730e281d9cb5b2b": {
      "model_module": "@jupyter-widgets/base",
      "model_module_version": "1.2.0",
      "model_name": "LayoutModel",
      "state": {
       "margin": "0px 0px 10px 0px"
      }
     },
     "8ea2570d8679449594cb8c35ecef5d3f": {
      "model_module": "@jupyter-widgets/controls",
      "model_module_version": "1.5.0",
      "model_name": "HTMLModel",
      "state": {
       "layout": "IPY_MODEL_efce431ab4194cd28995399084872fd1",
       "style": "IPY_MODEL_5d801fb70427442d8fdd4905312b477b",
       "value": "<h5>Status</h5>"
      }
     },
     "9dfc985ad09d4e60ac51087ae3e68078": {
      "model_module": "@jupyter-widgets/controls",
      "model_module_version": "1.5.0",
      "model_name": "HTMLModel",
      "state": {
       "layout": "IPY_MODEL_c83ee380d67f4f298ed9c07e69e07e6e",
       "style": "IPY_MODEL_246cd3ec38454f69943b8ca827e674d0",
       "value": "<h5>Message</h5>"
      }
     },
     "ab9e20a3383442e499b03636a472ad36": {
      "model_module": "@jupyter-widgets/controls",
      "model_module_version": "1.5.0",
      "model_name": "HBoxModel",
      "state": {
       "children": [
        "IPY_MODEL_df73597f879b4f1cb5fd5c09979f35e0",
        "IPY_MODEL_55bfb3d6fa53407d92b395f95a21a41d",
        "IPY_MODEL_8ea2570d8679449594cb8c35ecef5d3f",
        "IPY_MODEL_6699e89ff94143f687d9883e224c2360",
        "IPY_MODEL_9dfc985ad09d4e60ac51087ae3e68078"
       ],
       "layout": "IPY_MODEL_e1119f2052c449adaa0fa61d5b8bb21b"
      }
     },
     "acf6480e81fc41ef808abae7e05a8a92": {
      "model_module": "@jupyter-widgets/base",
      "model_module_version": "1.2.0",
      "model_name": "LayoutModel",
      "state": {
       "width": "145px"
      }
     },
     "b339d341188440c3ac853763b0ae17e5": {
      "model_module": "@jupyter-widgets/controls",
      "model_module_version": "1.5.0",
      "model_name": "ButtonStyleModel",
      "state": {}
     },
     "c447e891b5114cf3acefc2892000f830": {
      "model_module": "@jupyter-widgets/controls",
      "model_module_version": "1.5.0",
      "model_name": "DescriptionStyleModel",
      "state": {
       "description_width": ""
      }
     },
     "c6870b7d59e647c58fb99cf74dd7e286": {
      "model_module": "@jupyter-widgets/base",
      "model_module_version": "1.2.0",
      "model_name": "LayoutModel",
      "state": {
       "width": "70px"
      }
     },
     "c83ee380d67f4f298ed9c07e69e07e6e": {
      "model_module": "@jupyter-widgets/base",
      "model_module_version": "1.2.0",
      "model_name": "LayoutModel",
      "state": {}
     },
     "db0038c907e94f81989c9fc82a135320": {
      "model_module": "@jupyter-widgets/base",
      "model_module_version": "1.2.0",
      "model_name": "LayoutModel",
      "state": {
       "grid_template_areas": "\n                                       \". . . . right \"\n                                        ",
       "grid_template_columns": "20% 20% 20% 20% 20%",
       "width": "100%"
      }
     },
     "df73597f879b4f1cb5fd5c09979f35e0": {
      "model_module": "@jupyter-widgets/controls",
      "model_module_version": "1.5.0",
      "model_name": "HTMLModel",
      "state": {
       "layout": "IPY_MODEL_5952623b852c438b8d17c90cfd8a1ed7",
       "style": "IPY_MODEL_c447e891b5114cf3acefc2892000f830",
       "value": "<h5>Job ID</h5>"
      }
     },
     "e10b978ed0cd4aad88610565824a2ed7": {
      "model_module": "@jupyter-widgets/controls",
      "model_module_version": "1.5.0",
      "model_name": "HTMLModel",
      "state": {
       "layout": "IPY_MODEL_7c082e2c6d6141af9730e281d9cb5b2b",
       "style": "IPY_MODEL_2b24e4e0abd74d019e11089ef22ac9ff",
       "value": "<p style='font-family: IBM Plex Sans, Arial, Helvetica, sans-serif; font-size: 20px; font-weight: medium;'>Circuit Properties</p>"
      }
     },
     "e1119f2052c449adaa0fa61d5b8bb21b": {
      "model_module": "@jupyter-widgets/base",
      "model_module_version": "1.2.0",
      "model_name": "LayoutModel",
      "state": {
       "margin": "0px 0px 0px 37px",
       "width": "600px"
      }
     },
     "e357e8cbf4574511842871c7e201d19e": {
      "model_module": "@jupyter-widgets/controls",
      "model_module_version": "1.5.0",
      "model_name": "DescriptionStyleModel",
      "state": {
       "description_width": ""
      }
     },
     "efce431ab4194cd28995399084872fd1": {
      "model_module": "@jupyter-widgets/base",
      "model_module_version": "1.2.0",
      "model_name": "LayoutModel",
      "state": {
       "width": "95px"
      }
     }
    },
    "version_major": 2,
    "version_minor": 0
   }
  }
 },
 "nbformat": 4,
 "nbformat_minor": 5
}
