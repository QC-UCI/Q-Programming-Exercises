{
 "cells": [
  {
   "cell_type": "code",
   "execution_count": 13,
   "id": "2e38e4a7-e2a1-4776-a1e1-8071fc788676",
   "metadata": {},
   "outputs": [],
   "source": [
    "from qiskit import QuantumCircuit, transpile, Aer, IBMQ, assemble, execute, QuantumRegister, ClassicalRegister, AncillaRegister\n",
    "from qiskit.tools.jupyter import *\n",
    "from qiskit.visualization import *\n",
    "from qiskit.providers.aer import QasmSimulator\n",
    "import qiskit.quantum_info as qi\n",
    "\n",
    "from qiskit_ibm_provider import IBMProvider\n",
    "import qiskit_ibm_provider\n",
    "\n",
    "#import seaborn\n",
    "import numpy as np\n",
    "\n",
    "provider = IBMProvider()"
   ]
  },
  {
   "cell_type": "code",
   "execution_count": 14,
   "id": "4eebd6b9-a6ba-442e-810e-c2515c1712ba",
   "metadata": {},
   "outputs": [],
   "source": [
    "# Basic Functions for Display Purposes\n",
    "\n",
    "def print_statevector(qstate):\n",
    "    for i in range(len(qstate)):\n",
    "        if qstate[i] < 0:\n",
    "            print((str(round(qstate[i],3))+\"|\"+bin(i)[2:]+\"> \"),end=\"  \")\n",
    "        else:\n",
    "            print((str(round(qstate[i],3))+\"|\"+bin(i)[2:]+\"> \"),end=\"  \")\n",
    "            \n",
    "def sv_simulate_circuit(qc):            \n",
    "    backend = Aer.get_backend('statevector_simulator') # Tell it which simulator you want to use \n",
    "    job = execute(qc,backend) # Put in the name of your quantum circuit where it says qc\n",
    "    result = job.result() \n",
    "\n",
    "    state = np.asarray(result.get_statevector())\n",
    "    \n",
    "    amplitude_list = []\n",
    "    for amplitude in state:\n",
    "        amplitude_list.append(np.round(amplitude,3))\n",
    "        \n",
    "    return amplitude_list\n",
    "\n",
    "def aer_simulate_circuit(qc):\n",
    "    backend = Aer.get_backend('qasm_simulator')\n",
    "    job = execute(qc,backend, shots = 1024)\n",
    "    result = job.result()         \n",
    "    return result.get_counts()\n",
    "\n"
   ]
  },
  {
   "cell_type": "code",
   "execution_count": 15,
   "id": "99067acc-8a89-42b1-9897-1db1687a1954",
   "metadata": {},
   "outputs": [],
   "source": [
    "def exercise_1():\n",
    "    \"\"\" Goal: Transform the state of a single qubit to |1>. \"\"\"\n",
    "    qc = QuantumCircuit(1)\n",
    "    qc.x(0)\n",
    "    return sv_simulate_circuit(qc)"
   ]
  },
  {
   "cell_type": "code",
   "execution_count": 16,
   "id": "8bf604b8-8926-40be-85f7-2ca1ec6db3e0",
   "metadata": {},
   "outputs": [
    {
     "name": "stdout",
     "output_type": "stream",
     "text": [
      "------- CONGRATULATIONS! -------\n"
     ]
    }
   ],
   "source": [
    "#---- Exercise 1 Test -----------------------\n",
    "\n",
    "try:\n",
    "    assert exercise_1() == [0j, (1+0j)]\n",
    "    print(\"------- CONGRATULATIONS! -------\")\n",
    "except:\n",
    "    print(\"-------  Incorrect Code  -------\")"
   ]
  },
  {
   "cell_type": "code",
   "execution_count": 17,
   "id": "b3d52b1b-d1c4-4af8-943a-3a380acf9316",
   "metadata": {},
   "outputs": [],
   "source": [
    "def exercise_2():\n",
    "    \"\"\" Goal: Transform the state of a single qubit to |->. \"\"\"\n",
    "    qc = QuantumCircuit(1)\n",
    "    qc.x(0)\n",
    "    qc.h(0)\n",
    "    return sv_simulate_circuit(qc)"
   ]
  },
  {
   "cell_type": "code",
   "execution_count": 18,
   "id": "43641de7-df11-4ba3-8088-8114fa96788c",
   "metadata": {},
   "outputs": [
    {
     "name": "stdout",
     "output_type": "stream",
     "text": [
      "------- CONGRATULATIONS! -------\n"
     ]
    }
   ],
   "source": [
    "#---- Exercise 2 Test ------------------------------    \n",
    "    \n",
    "try:\n",
    "    assert exercise_2() == [(0.707+0j), (-0.707-0j)]\n",
    "    print(\"------- CONGRATULATIONS! -------\")\n",
    "except:\n",
    "    print(\"-------  Incorrect Code  -------\")"
   ]
  },
  {
   "cell_type": "code",
   "execution_count": 19,
   "id": "50502146-f2d7-4d6b-9e2e-9925f418ca9b",
   "metadata": {},
   "outputs": [],
   "source": [
    "def exercise_3(num_of_qubits):\n",
    "    \"\"\" Goal: rotate each qubit around the Y axis by 15° (π/12 radians), multiplied by its index in the array. \"\"\"\n",
    "    \n",
    "    num_of_bits = num_of_qubits\n",
    "    \n",
    "    qreg = QuantumRegister(num_of_qubits)\n",
    "    creg = ClassicalRegister(num_of_bits)\n",
    "    \n",
    "    qc = QuantumCircuit(qreg, creg)\n",
    "    for idx in range(num_of_qubits):\n",
    "        qc.ry(np.pi*idx/12, idx)\n",
    "    return sv_simulate_circuit(qc)"
   ]
  },
  {
   "cell_type": "code",
   "execution_count": 20,
   "id": "c9b20cec-a4bb-4125-b656-44158296a139",
   "metadata": {},
   "outputs": [
    {
     "name": "stdout",
     "output_type": "stream",
     "text": [
      "------- CONGRATULATIONS! -------\n"
     ]
    }
   ],
   "source": [
    "#---- Exercise 3 Test ------------------------------\n",
    "    \n",
    "try:\n",
    "    assert exercise_3(1) == [(1+0j), 0j]\n",
    "    assert exercise_3(3) == [(0.958+0j), 0j, (0.126+0j), 0j, (0.257+0j), 0j, (0.034+0j), 0j]\n",
    "    assert len(exercise_3(6)) == 64\n",
    "    print(\"------- CONGRATULATIONS! -------\")\n",
    "except:\n",
    "    print(\"-------  Incorrect Code  -------\")"
   ]
  },
  {
   "cell_type": "code",
   "execution_count": 21,
   "id": "7d308bc5-9e46-4169-a7dd-2fb3c5cea995",
   "metadata": {},
   "outputs": [],
   "source": [
    "def swap_test():\n",
    "    \"\"\" Do the following steps: \n",
    "        1. Create a quantum circuit with three qubits - name the first \"ancilla\" and the other two \"qubit\" \n",
    "        2. Rotate the first qubit 7π/12 rad about the y-axis\n",
    "        3. Rotate the second qubit π/2 rad about the y-axis\n",
    "        4. Place the Hadamard gate on the ancilla\n",
    "        5. Then place a controlled-SWAP (CSWAP) gate such that the control is on the ancilla. \n",
    "        6. Then place another Hadamard gate on the ancilla. \n",
    "        7. The rest has been done already\n",
    "    \"\"\"\n",
    "    anc = AncillaRegister(1, 'ancilla')\n",
    "    qreg = QuantumRegister(2, 'qubit')\n",
    "    creg = ClassicalRegister(1, 'bit') \n",
    "    \n",
    "    angle_1 = 5*np.pi/12\n",
    "    angle_2 = 6*np.pi/12\n",
    "    \n",
    "    qc = QuantumCircuit(anc, qreg, creg)\n",
    "    qc.ry(angle_1, 1)\n",
    "    qc.ry(angle_2, 2)\n",
    "    \n",
    "    qc.h(0)\n",
    "    qc.cswap(0,1,2)\n",
    "    qc.h(0)\n",
    "    qc.measure(0,0)\n",
    "    \n",
    "    return aer_simulate_circuit(qc)"
   ]
  },
  {
   "cell_type": "code",
   "execution_count": 22,
   "id": "f39988bf-4139-407f-973e-bb769a2aa352",
   "metadata": {},
   "outputs": [
    {
     "data": {
      "image/png": "[encoded data removed]",
      "text/plain": [
       "<Figure size 700x500 with 1 Axes>"
      ]
     },
     "execution_count": 22,
     "metadata": {},
     "output_type": "execute_result"
    }
   ],
   "source": [
    "plot_histogram(swap_test()) "
   ]
  },
  {
   "cell_type": "code",
   "execution_count": null,
   "id": "be654f7d-097d-4cd7-98f9-bfd9220b6102",
   "metadata": {},
   "outputs": [],
   "source": []
  }
 ],
 "metadata": {
  "kernelspec": {
   "display_name": "Python 3 [Default]",
   "language": "python",
   "name": "python3"
  },
  "language_info": {
   "codemirror_mode": {
    "name": "ipython",
    "version": 3
   },
   "file_extension": ".py",
   "mimetype": "text/x-python",
   "name": "python",
   "nbconvert_exporter": "python",
   "pygments_lexer": "ipython3",
   "version": "3.9.12"
  },
  "widgets": {
   "application/vnd.jupyter.widget-state+json": {
    "state": {
     "00b23aeaaa6a4615940a7fdc33101fd1": {
      "model_module": "@jupyter-widgets/base",
      "model_module_version": "1.2.0",
      "model_name": "LayoutModel",
      "state": {
       "grid_area": "right",
       "padding": "0px 0px 0px 0px",
       "width": "70px"
      }
     },
     "074684da16ca4368abe7815cf1a57f26": {
      "model_module": "@jupyter-widgets/base",
      "model_module_version": "1.2.0",
      "model_name": "LayoutModel",
      "state": {
       "width": "145px"
      }
     },
     "1756e189638a4a038b926a2686396293": {
      "model_module": "@jupyter-widgets/base",
      "model_module_version": "1.2.0",
      "model_name": "LayoutModel",
      "state": {}
     },
     "196a6237b70444848e1798f28780285d": {
      "model_module": "@jupyter-widgets/controls",
      "model_module_version": "1.5.0",
      "model_name": "HBoxModel",
      "state": {
       "children": [
        "IPY_MODEL_d595bb4cbf9240ac8d16a41a508ce19f",
        "IPY_MODEL_7410316cdd3448ada1e05b7637d10993",
        "IPY_MODEL_4d9a927227f44d97906afdcba14f6743",
        "IPY_MODEL_db3b7a871f7a4e9cb2fa716bcf2b0007",
        "IPY_MODEL_d8a6ba4240eb47cb9fa64f3a3800e979"
       ],
       "layout": "IPY_MODEL_9013b6c716c542be898732a849c23f44"
      }
     },
     "203dba48a2894c9cbd2cf9ed15c90e92": {
      "model_module": "@jupyter-widgets/controls",
      "model_module_version": "1.5.0",
      "model_name": "DescriptionStyleModel",
      "state": {
       "description_width": ""
      }
     },
     "2080f638cb124bb98950a239bf68f81c": {
      "model_module": "@jupyter-widgets/base",
      "model_module_version": "1.2.0",
      "model_name": "LayoutModel",
      "state": {
       "grid_template_areas": "\n                                       \". . . . right \"\n                                        ",
       "grid_template_columns": "20% 20% 20% 20% 20%",
       "width": "100%"
      }
     },
     "2148fc9217f84178828e9f2b87fc2525": {
      "model_module": "@jupyter-widgets/controls",
      "model_module_version": "1.5.0",
      "model_name": "ButtonModel",
      "state": {
       "button_style": "primary",
       "description": "Clear",
       "layout": "IPY_MODEL_00b23aeaaa6a4615940a7fdc33101fd1",
       "style": "IPY_MODEL_abe00f7ae98a4e10830a6be42f86a19f"
      }
     },
     "3d7a9c868e7d4148b75d61330e4df9fe": {
      "model_module": "@jupyter-widgets/base",
      "model_module_version": "1.2.0",
      "model_name": "LayoutModel",
      "state": {
       "width": "70px"
      }
     },
     "4ab63dc0feef4c169feb328c2705923b": {
      "model_module": "@jupyter-widgets/controls",
      "model_module_version": "1.5.0",
      "model_name": "DescriptionStyleModel",
      "state": {
       "description_width": ""
      }
     },
     "4b5332660ce74a2494e2cf3c872cac95": {
      "model_module": "@jupyter-widgets/controls",
      "model_module_version": "1.5.0",
      "model_name": "DescriptionStyleModel",
      "state": {
       "description_width": ""
      }
     },
     "4d9a927227f44d97906afdcba14f6743": {
      "model_module": "@jupyter-widgets/controls",
      "model_module_version": "1.5.0",
      "model_name": "HTMLModel",
      "state": {
       "layout": "IPY_MODEL_98b17ce75025461e84b6eda74b372bee",
       "style": "IPY_MODEL_4ab63dc0feef4c169feb328c2705923b",
       "value": "<h5>Status</h5>"
      }
     },
     "54356acc82da4d0fa6459948a913d005": {
      "model_module": "@jupyter-widgets/controls",
      "model_module_version": "1.5.0",
      "model_name": "DescriptionStyleModel",
      "state": {
       "description_width": ""
      }
     },
     "553ea7c91aed4af59c721453966251e5": {
      "model_module": "@jupyter-widgets/controls",
      "model_module_version": "1.5.0",
      "model_name": "DescriptionStyleModel",
      "state": {
       "description_width": ""
      }
     },
     "717046ffa9274ab6b385342077b63e78": {
      "model_module": "@jupyter-widgets/controls",
      "model_module_version": "1.5.0",
      "model_name": "DescriptionStyleModel",
      "state": {
       "description_width": ""
      }
     },
     "7410316cdd3448ada1e05b7637d10993": {
      "model_module": "@jupyter-widgets/controls",
      "model_module_version": "1.5.0",
      "model_name": "HTMLModel",
      "state": {
       "layout": "IPY_MODEL_074684da16ca4368abe7815cf1a57f26",
       "style": "IPY_MODEL_54356acc82da4d0fa6459948a913d005",
       "value": "<h5>Backend</h5>"
      }
     },
     "89112fd8dc0242f6aad053c17a95e1ce": {
      "model_module": "@jupyter-widgets/base",
      "model_module_version": "1.2.0",
      "model_name": "LayoutModel",
      "state": {
       "width": "190px"
      }
     },
     "9013b6c716c542be898732a849c23f44": {
      "model_module": "@jupyter-widgets/base",
      "model_module_version": "1.2.0",
      "model_name": "LayoutModel",
      "state": {
       "margin": "0px 0px 0px 37px",
       "width": "600px"
      }
     },
     "98b17ce75025461e84b6eda74b372bee": {
      "model_module": "@jupyter-widgets/base",
      "model_module_version": "1.2.0",
      "model_name": "LayoutModel",
      "state": {
       "width": "95px"
      }
     },
     "abe00f7ae98a4e10830a6be42f86a19f": {
      "model_module": "@jupyter-widgets/controls",
      "model_module_version": "1.5.0",
      "model_name": "ButtonStyleModel",
      "state": {}
     },
     "c1a0e5beb2f14904bed137e71dad55f1": {
      "model_module": "@jupyter-widgets/controls",
      "model_module_version": "1.5.0",
      "model_name": "GridBoxModel",
      "state": {
       "children": [
        "IPY_MODEL_2148fc9217f84178828e9f2b87fc2525"
       ],
       "layout": "IPY_MODEL_2080f638cb124bb98950a239bf68f81c"
      }
     },
     "d595bb4cbf9240ac8d16a41a508ce19f": {
      "model_module": "@jupyter-widgets/controls",
      "model_module_version": "1.5.0",
      "model_name": "HTMLModel",
      "state": {
       "layout": "IPY_MODEL_89112fd8dc0242f6aad053c17a95e1ce",
       "style": "IPY_MODEL_4b5332660ce74a2494e2cf3c872cac95",
       "value": "<h5>Job ID</h5>"
      }
     },
     "d6a5d58ee5614a9dbaefa170d8119a58": {
      "model_module": "@jupyter-widgets/base",
      "model_module_version": "1.2.0",
      "model_name": "LayoutModel",
      "state": {
       "margin": "0px 0px 10px 0px"
      }
     },
     "d8a6ba4240eb47cb9fa64f3a3800e979": {
      "model_module": "@jupyter-widgets/controls",
      "model_module_version": "1.5.0",
      "model_name": "HTMLModel",
      "state": {
       "layout": "IPY_MODEL_1756e189638a4a038b926a2686396293",
       "style": "IPY_MODEL_203dba48a2894c9cbd2cf9ed15c90e92",
       "value": "<h5>Message</h5>"
      }
     },
     "db3b7a871f7a4e9cb2fa716bcf2b0007": {
      "model_module": "@jupyter-widgets/controls",
      "model_module_version": "1.5.0",
      "model_name": "HTMLModel",
      "state": {
       "layout": "IPY_MODEL_3d7a9c868e7d4148b75d61330e4df9fe",
       "style": "IPY_MODEL_553ea7c91aed4af59c721453966251e5",
       "value": "<h5>Queue</h5>"
      }
     },
     "e882f63d7e974c4ca9e7aca6575b789c": {
      "model_module": "@jupyter-widgets/controls",
      "model_module_version": "1.5.0",
      "model_name": "HTMLModel",
      "state": {
       "layout": "IPY_MODEL_d6a5d58ee5614a9dbaefa170d8119a58",
       "style": "IPY_MODEL_717046ffa9274ab6b385342077b63e78",
       "value": "<p style='font-family: IBM Plex Sans, Arial, Helvetica, sans-serif; font-size: 20px; font-weight: medium;'>Circuit Properties</p>"
      }
     }
    },
    "version_major": 2,
    "version_minor": 0
   }
  }
 },
 "nbformat": 4,
 "nbformat_minor": 5
}
