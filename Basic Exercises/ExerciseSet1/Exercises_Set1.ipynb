{
 "cells": [
  {
   "cell_type": "code",
   "execution_count": 2,
   "id": "dc93548a-bc75-475b-a5a8-37e99b3dce1c",
   "metadata": {},
   "outputs": [],
   "source": [
    "from qiskit import QuantumCircuit, transpile, Aer, IBMQ, assemble, execute, QuantumRegister, ClassicalRegister, AncillaRegister\n",
    "from qiskit.tools.jupyter import *\n",
    "from qiskit.visualization import *\n",
    "from qiskit.providers.aer import QasmSimulator\n",
    "import qiskit.quantum_info as qi\n",
    "\n",
    "from qiskit_ibm_provider import IBMProvider\n",
    "import qiskit_ibm_provider\n",
    "\n",
    "#import seaborn\n",
    "import numpy as np\n",
    "\n",
    "provider = IBMProvider()"
   ]
  },
  {
   "cell_type": "code",
   "execution_count": 3,
   "id": "4eebd6b9-a6ba-442e-810e-c2515c1712ba",
   "metadata": {},
   "outputs": [],
   "source": [
    "## Constants\n",
    "## ---------\n",
    "pi = np.pi\n",
    "\n",
    "\n",
    "## Display and Simulation Functions\n",
    "## --------------------------------\n",
    "def print_statevector(qstate):\n",
    "    for i in range(len(qstate)):\n",
    "        if qstate[i] < 0:\n",
    "            print((str(round(qstate[i],3))+\"|\"+bin(i)[2:]+\"> \"),end=\"  \")\n",
    "        else:\n",
    "            print((str(round(qstate[i],3))+\"|\"+bin(i)[2:]+\"> \"),end=\"  \")\n",
    "            \n",
    "def sv_simulate_circuit(qc):            \n",
    "    backend = Aer.get_backend('statevector_simulator') # Tell it which simulator you want to use \n",
    "    job = execute(qc,backend) # Put in the name of your quantum circuit where it says qc\n",
    "    result = job.result() \n",
    "\n",
    "    state = np.asarray(result.get_statevector())\n",
    "    \n",
    "    amplitude_list = []\n",
    "    for amplitude in state:\n",
    "        amplitude_list.append(np.round(amplitude,3))\n",
    "        \n",
    "    return amplitude_list\n",
    "\n",
    "def aer_simulate_circuit(qc):\n",
    "    backend = Aer.get_backend('qasm_simulator')\n",
    "    job = execute(qc,backend, shots = 1024)\n",
    "    result = job.result()         \n",
    "    return result.get_counts()"
   ]
  },
  {
   "cell_type": "code",
   "execution_count": 4,
   "id": "99067acc-8a89-42b1-9897-1db1687a1954",
   "metadata": {},
   "outputs": [],
   "source": [
    "def exercise_1():\n",
    "    \"\"\" Goal: Transform the state of a single qubit to |1>. \"\"\"\n",
    "    \n",
    "    #---- WRITE CODE BELOW ----\n",
    "    qc = QuantumCircuit(1) # defined quantum circuit\n",
    "    qc.x(0) # Apply X gate to first (and only) qubit\n",
    "    \n",
    "    #--------------------------\n",
    "    \n",
    "    return sv_simulate_circuit(qc)"
   ]
  },
  {
   "cell_type": "code",
   "execution_count": 5,
   "id": "cd4e22e4-fe90-4de2-b911-ae9d5ed47e63",
   "metadata": {},
   "outputs": [
    {
     "name": "stdout",
     "output_type": "stream",
     "text": [
      "------- CONGRATULATIONS! -------\n"
     ]
    }
   ],
   "source": [
    "#---- Exercise 1 Test -----------------------\n",
    "\n",
    "try:\n",
    "    assert exercise_1() == [0j, (1+0j)]\n",
    "    print(\"------- CONGRATULATIONS! -------\")\n",
    "except:\n",
    "    print(\"-------  Incorrect Code  -------\")"
   ]
  },
  {
   "cell_type": "code",
   "execution_count": 6,
   "id": "b3d52b1b-d1c4-4af8-943a-3a380acf9316",
   "metadata": {
    "tags": []
   },
   "outputs": [],
   "source": [
    "def exercise_2():\n",
    "    \"\"\" Goal: Transform the state of a single qubit to |->. \"\"\"\n",
    "    \n",
    "    #---- WRITE CODE BELOW ----\n",
    "    qc = QuantumCircuit(1)\n",
    "    qc.x(0)\n",
    "    qc.h(0)\n",
    "    \n",
    "    #--------------------------\n",
    "    \n",
    "    return sv_simulate_circuit(qc)"
   ]
  },
  {
   "cell_type": "code",
   "execution_count": 7,
   "id": "962dc77b-3d80-46f4-afb2-43b94bced347",
   "metadata": {},
   "outputs": [
    {
     "name": "stdout",
     "output_type": "stream",
     "text": [
      "------- CONGRATULATIONS! -------\n"
     ]
    }
   ],
   "source": [
    "#---- Exercise 2 Test ------------------------------    \n",
    "    \n",
    "try:\n",
    "    assert exercise_2() == [(0.707+0j), (-0.707-0j)]\n",
    "    print(\"------- CONGRATULATIONS! -------\")\n",
    "except:\n",
    "    print(\"-------  Incorrect Code  -------\")"
   ]
  },
  {
   "cell_type": "code",
   "execution_count": 10,
   "id": "50502146-f2d7-4d6b-9e2e-9925f418ca9b",
   "metadata": {},
   "outputs": [],
   "source": [
    "def exercise_3(num_of_qubits):\n",
    "    \"\"\" Goal: rotate each qubit around the Y axis by 15° (π/12 radians), multiplied by its index in the array. \"\"\"\n",
    "    \n",
    "    #---- WRITE CODE BELOW ----\n",
    "    qc = QuantumCircuit(num_of_qubits)\n",
    "    for idx in range(num_of_qubits):\n",
    "        qc.ry(idx*pi/12, idx)\n",
    "    \n",
    "    #--------------------------\n",
    "    \n",
    "    return sv_simulate_circuit(qc)"
   ]
  },
  {
   "cell_type": "code",
   "execution_count": 11,
   "id": "2b02ae4f-3f7d-4da3-935a-37c7f8901361",
   "metadata": {},
   "outputs": [
    {
     "name": "stdout",
     "output_type": "stream",
     "text": [
      "------- CONGRATULATIONS! -------\n"
     ]
    }
   ],
   "source": [
    "#---- Exercise 3 Test ------------------------------\n",
    "    \n",
    "try:\n",
    "    assert exercise_3(1) == [(1+0j), 0j]\n",
    "    assert exercise_3(3) == [(0.958+0j), 0j, (0.126+0j), 0j, (0.257+0j), 0j, (0.034+0j), 0j]\n",
    "    assert len(exercise_3(6)) == 64\n",
    "    print(\"------- CONGRATULATIONS! -------\")\n",
    "except:\n",
    "    print(\"-------  Incorrect Code  -------\")"
   ]
  },
  {
   "cell_type": "code",
   "execution_count": null,
   "id": "7d308bc5-9e46-4169-a7dd-2fb3c5cea995",
   "metadata": {},
   "outputs": [],
   "source": [
    "def swap_test():\n",
    "    \"\"\" \n",
    "    Fill in the blanks based on the following instructions: \n",
    "        1. Create a quantum circuit with three qubits - name the first \"ancilla\" and the other two \"qubit\" \n",
    "        2. Rotate the first qubit 7π/12 rad about the y-axis\n",
    "        3. Rotate the second qubit π/2 rad about the y-axis\n",
    "        4. Place the Hadamard gate on the ancilla\n",
    "        5. Then place a controlled-SWAP (CSWAP) gate such that the control is on the ancilla. \n",
    "        6. Then place another Hadamard gate on the ancilla. \n",
    "        7. Finally, place the measurement gate only on the ancilla. Think about how many bits do you need?\n",
    "    \"\"\"\n",
    "    \n",
    "    #---- Fill in the blanks ----\n",
    "    \n",
    "    anc = ____\n",
    "    qreg = ____\n",
    "    creg = ____ \n",
    "    \n",
    "    angle_1 = ____\n",
    "    angle_2 = ____\n",
    "    \n",
    "    qc = QuantumCircuit(__, __, __)\n",
    "    qc.ry(angle_1, __)\n",
    "    qc.ry(____, 2)\n",
    "    \n",
    "    qc.h(__)\n",
    "    qc.cswap(__,__,__)\n",
    "    qc.h(__)\n",
    "    qc.measure(__,__)\n",
    "    \n",
    "    #--------------------------\n",
    "    \n",
    "    return aer_simulate_circuit(qc)"
   ]
  },
  {
   "cell_type": "code",
   "execution_count": null,
   "id": "f39988bf-4139-407f-973e-bb769a2aa352",
   "metadata": {
    "tags": []
   },
   "outputs": [],
   "source": [
    "plot_histogram(swap_test()) "
   ]
  }
 ],
 "metadata": {
  "kernelspec": {
   "display_name": "Python 3 [Default]",
   "language": "python",
   "name": "python3"
  },
  "language_info": {
   "codemirror_mode": {
    "name": "ipython",
    "version": 3
   },
   "file_extension": ".py",
   "mimetype": "text/x-python",
   "name": "python",
   "nbconvert_exporter": "python",
   "pygments_lexer": "ipython3",
   "version": "3.9.12"
  },
  "widgets": {
   "application/vnd.jupyter.widget-state+json": {
    "state": {
     "0941190dabce4ea4b87b1e4fa3088d0b": {
      "model_module": "@jupyter-widgets/controls",
      "model_module_version": "1.5.0",
      "model_name": "HBoxModel",
      "state": {
       "children": [
        "IPY_MODEL_909a73d9f4f241788af6775b662cdd17",
        "IPY_MODEL_67300f172f39405a85a94167671755f4",
        "IPY_MODEL_a8b954100b984002ae2387e04ce91c32",
        "IPY_MODEL_baf8512f40964339bfa23f6b86cd5161",
        "IPY_MODEL_e6517572da284dd4a1692dffdd9f4d46"
       ],
       "layout": "IPY_MODEL_34fd0807099246988910a7c7945fa342"
      }
     },
     "106515dc536c47718e26efbf7b2c10b4": {
      "model_module": "@jupyter-widgets/base",
      "model_module_version": "1.2.0",
      "model_name": "LayoutModel",
      "state": {
       "width": "70px"
      }
     },
     "12ae117e766b42ef84b13743b0408849": {
      "model_module": "@jupyter-widgets/base",
      "model_module_version": "1.2.0",
      "model_name": "LayoutModel",
      "state": {
       "width": "145px"
      }
     },
     "28eff5cfd1724bd9b1b2200a52732e20": {
      "model_module": "@jupyter-widgets/base",
      "model_module_version": "1.2.0",
      "model_name": "LayoutModel",
      "state": {
       "width": "95px"
      }
     },
     "2969aee21a474104b3fc7b592e29f8bb": {
      "model_module": "@jupyter-widgets/controls",
      "model_module_version": "1.5.0",
      "model_name": "DescriptionStyleModel",
      "state": {
       "description_width": ""
      }
     },
     "34fd0807099246988910a7c7945fa342": {
      "model_module": "@jupyter-widgets/base",
      "model_module_version": "1.2.0",
      "model_name": "LayoutModel",
      "state": {
       "margin": "0px 0px 0px 37px",
       "width": "600px"
      }
     },
     "54c4eac4d2cd44dc8aadb99d433a1266": {
      "model_module": "@jupyter-widgets/controls",
      "model_module_version": "1.5.0",
      "model_name": "DescriptionStyleModel",
      "state": {
       "description_width": ""
      }
     },
     "67300f172f39405a85a94167671755f4": {
      "model_module": "@jupyter-widgets/controls",
      "model_module_version": "1.5.0",
      "model_name": "HTMLModel",
      "state": {
       "layout": "IPY_MODEL_12ae117e766b42ef84b13743b0408849",
       "style": "IPY_MODEL_68c8d99a0574459a97b7ba90acefbde3",
       "value": "<h5>Backend</h5>"
      }
     },
     "6888db0378444d70b77c3588fb9a11e0": {
      "model_module": "@jupyter-widgets/controls",
      "model_module_version": "1.5.0",
      "model_name": "ButtonModel",
      "state": {
       "button_style": "primary",
       "description": "Clear",
       "layout": "IPY_MODEL_77e8b8a56f3c4163b660fa91017d9fe7",
       "style": "IPY_MODEL_df632985ce8d4adca00033f4780dfb92"
      }
     },
     "68c8d99a0574459a97b7ba90acefbde3": {
      "model_module": "@jupyter-widgets/controls",
      "model_module_version": "1.5.0",
      "model_name": "DescriptionStyleModel",
      "state": {
       "description_width": ""
      }
     },
     "6a7706917fe44f17846bcf017ecccdc0": {
      "model_module": "@jupyter-widgets/base",
      "model_module_version": "1.2.0",
      "model_name": "LayoutModel",
      "state": {
       "grid_template_areas": "\n                                       \". . . . right \"\n                                        ",
       "grid_template_columns": "20% 20% 20% 20% 20%",
       "width": "100%"
      }
     },
     "77e8b8a56f3c4163b660fa91017d9fe7": {
      "model_module": "@jupyter-widgets/base",
      "model_module_version": "1.2.0",
      "model_name": "LayoutModel",
      "state": {
       "grid_area": "right",
       "padding": "0px 0px 0px 0px",
       "width": "70px"
      }
     },
     "85a908b6956f4183a8c20bd5b03a89a0": {
      "model_module": "@jupyter-widgets/base",
      "model_module_version": "1.2.0",
      "model_name": "LayoutModel",
      "state": {
       "width": "190px"
      }
     },
     "862c8ac6694c413a9e499f70572972f9": {
      "model_module": "@jupyter-widgets/controls",
      "model_module_version": "1.5.0",
      "model_name": "DescriptionStyleModel",
      "state": {
       "description_width": ""
      }
     },
     "8b9f94939e3e49c8881c3d9ce1611aa3": {
      "model_module": "@jupyter-widgets/controls",
      "model_module_version": "1.5.0",
      "model_name": "DescriptionStyleModel",
      "state": {
       "description_width": ""
      }
     },
     "909a73d9f4f241788af6775b662cdd17": {
      "model_module": "@jupyter-widgets/controls",
      "model_module_version": "1.5.0",
      "model_name": "HTMLModel",
      "state": {
       "layout": "IPY_MODEL_85a908b6956f4183a8c20bd5b03a89a0",
       "style": "IPY_MODEL_54c4eac4d2cd44dc8aadb99d433a1266",
       "value": "<h5>Job ID</h5>"
      }
     },
     "9b7bc706c55e436fb8c748c63027b6e0": {
      "model_module": "@jupyter-widgets/controls",
      "model_module_version": "1.5.0",
      "model_name": "DescriptionStyleModel",
      "state": {
       "description_width": ""
      }
     },
     "a0c8d92dad2747138d4836556a3a057f": {
      "model_module": "@jupyter-widgets/controls",
      "model_module_version": "1.5.0",
      "model_name": "HTMLModel",
      "state": {
       "layout": "IPY_MODEL_bd2d76385ead48dba3fff31bd245359c",
       "style": "IPY_MODEL_2969aee21a474104b3fc7b592e29f8bb",
       "value": "<p style='font-family: IBM Plex Sans, Arial, Helvetica, sans-serif; font-size: 20px; font-weight: medium;'>Circuit Properties</p>"
      }
     },
     "a8b954100b984002ae2387e04ce91c32": {
      "model_module": "@jupyter-widgets/controls",
      "model_module_version": "1.5.0",
      "model_name": "HTMLModel",
      "state": {
       "layout": "IPY_MODEL_28eff5cfd1724bd9b1b2200a52732e20",
       "style": "IPY_MODEL_862c8ac6694c413a9e499f70572972f9",
       "value": "<h5>Status</h5>"
      }
     },
     "baf8512f40964339bfa23f6b86cd5161": {
      "model_module": "@jupyter-widgets/controls",
      "model_module_version": "1.5.0",
      "model_name": "HTMLModel",
      "state": {
       "layout": "IPY_MODEL_106515dc536c47718e26efbf7b2c10b4",
       "style": "IPY_MODEL_8b9f94939e3e49c8881c3d9ce1611aa3",
       "value": "<h5>Queue</h5>"
      }
     },
     "bd2d76385ead48dba3fff31bd245359c": {
      "model_module": "@jupyter-widgets/base",
      "model_module_version": "1.2.0",
      "model_name": "LayoutModel",
      "state": {
       "margin": "0px 0px 10px 0px"
      }
     },
     "cc4d8bedb82c43d187b91eb84482556d": {
      "model_module": "@jupyter-widgets/base",
      "model_module_version": "1.2.0",
      "model_name": "LayoutModel",
      "state": {}
     },
     "d15bfa7d699c4f279edc52e3745f2f27": {
      "model_module": "@jupyter-widgets/controls",
      "model_module_version": "1.5.0",
      "model_name": "GridBoxModel",
      "state": {
       "children": [
        "IPY_MODEL_6888db0378444d70b77c3588fb9a11e0"
       ],
       "layout": "IPY_MODEL_6a7706917fe44f17846bcf017ecccdc0"
      }
     },
     "df632985ce8d4adca00033f4780dfb92": {
      "model_module": "@jupyter-widgets/controls",
      "model_module_version": "1.5.0",
      "model_name": "ButtonStyleModel",
      "state": {}
     },
     "e6517572da284dd4a1692dffdd9f4d46": {
      "model_module": "@jupyter-widgets/controls",
      "model_module_version": "1.5.0",
      "model_name": "HTMLModel",
      "state": {
       "layout": "IPY_MODEL_cc4d8bedb82c43d187b91eb84482556d",
       "style": "IPY_MODEL_9b7bc706c55e436fb8c748c63027b6e0",
       "value": "<h5>Message</h5>"
      }
     }
    },
    "version_major": 2,
    "version_minor": 0
   }
  }
 },
 "nbformat": 4,
 "nbformat_minor": 5
}
