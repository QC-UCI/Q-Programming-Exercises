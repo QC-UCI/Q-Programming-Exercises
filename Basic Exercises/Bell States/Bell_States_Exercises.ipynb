{
 "cells": [
  {
   "cell_type": "code",
   "execution_count": null,
   "id": "665bf9e7-9ece-4393-8914-162256490cc1",
   "metadata": {},
   "outputs": [],
   "source": [
    "import numpy as np\n",
    "\n",
    "# Importing standard Qiskit libraries\n",
    "from qiskit import QuantumCircuit, transpile, execute, Aer, IBMQ, QuantumRegister, ClassicalRegister\n",
    "from qiskit.tools.jupyter import *\n",
    "from qiskit.visualization import *\n",
    "from ibm_quantum_widgets import *\n",
    "from qiskit.providers.aer import QasmSimulator\n",
    "\n",
    "# Loading your IBM Quantum account(s)\n",
    "provider = IBMQ.load_account()"
   ]
  },
  {
   "cell_type": "code",
   "execution_count": null,
   "id": "4eebd6b9-a6ba-442e-810e-c2515c1712ba",
   "metadata": {},
   "outputs": [],
   "source": [
    "# Basic Functions for Display Purposes\n",
    "\n",
    "def print_statevector(qstate):\n",
    "    for i in range(len(qstate)):\n",
    "        if qstate[i] < 0:\n",
    "            print((str(round(qstate[i],3))+\"|\"+bin(i)[2:]+\"> \"),end=\"  \")\n",
    "        else:\n",
    "            print((str(round(qstate[i],3))+\"|\"+bin(i)[2:]+\"> \"),end=\"  \")\n",
    "            \n",
    "def simulate_circuit(qc):            \n",
    "    backend = Aer.get_backend('statevector_simulator') # Tell it which simulator you want to use \n",
    "    job = execute(qc,backend) # Put in the name of your quantum circuit where it says qc\n",
    "    result = job.result() \n",
    "\n",
    "    state = result.get_statevector() \n",
    "    return state"
   ]
  },
  {
   "cell_type": "markdown",
   "id": "011dc62d-d5ab-46d6-b248-833d7e204d2f",
   "metadata": {
    "tags": []
   },
   "source": [
    "# Bell States\n",
    "\n",
    "<img src=\"bellstates.png\" alt=\"Bell States\">\n",
    "\n",
    "From the quantum states seen above, what are things that we can observe?\n",
    "\n",
    "<ul>\n",
    "    <li> We have a register with 2 qubits </li>\n",
    "    <li> The qubits are somehow in superposition, but 2 states are missing in each case </li>\n",
    "    <li> The signs change </li>\n",
    "</ul>\n",
    "\n",
    "Ok, we have superposition of qubits, but what other thing is going on in these Bell States to make them so unique?\n",
    "\n",
    "#### Entanglement"
   ]
  },
  {
   "cell_type": "markdown",
   "id": "0d8cb333-2cba-4887-b183-cb15a7502286",
   "metadata": {},
   "source": [
    "## Let's build all the Bell States: "
   ]
  },
  {
   "cell_type": "markdown",
   "id": "117cb0e3-6bfc-4cb1-ab2d-0773029c6d49",
   "metadata": {
    "jp-MarkdownHeadingCollapsed": true,
    "tags": []
   },
   "source": [
    "### 1st Bell State"
   ]
  },
  {
   "cell_type": "code",
   "execution_count": null,
   "id": "b90c9651-f58f-4242-a6e6-e27c41be0c26",
   "metadata": {},
   "outputs": [],
   "source": [
    "num_of_qubits = __\n",
    "num_of_clbits = __\n",
    "\n",
    "qReg = QuantumRegister(__, 'qubit')\n",
    "cReg = ClassicalRegister(__, 'bit')"
   ]
  },
  {
   "cell_type": "code",
   "execution_count": null,
   "id": "093e0e60-5a33-42f6-b1d1-1f569a4a165f",
   "metadata": {},
   "outputs": [],
   "source": [
    "qc1 = QuantumCircuit(__, __)\n",
    "qc1.h(_)\n",
    "qc1.cx(_,_)\n",
    "qc1.draw()"
   ]
  },
  {
   "cell_type": "code",
   "execution_count": null,
   "id": "bf5db800-6ed9-47b2-a45e-7210884db12c",
   "metadata": {},
   "outputs": [],
   "source": [
    "qc1_state = simulate_circuit(__)\n",
    "array_to_latex(__, \"\\\\text{Statevector} = \")"
   ]
  },
  {
   "cell_type": "code",
   "execution_count": null,
   "id": "6c7ee96f-09e1-4580-98df-3bb0f0c5112a",
   "metadata": {},
   "outputs": [],
   "source": [
    "print_statevector(qc1_state)"
   ]
  },
  {
   "cell_type": "markdown",
   "id": "43ab2223-1a5a-4d2b-a8b2-5e9c3f8e3680",
   "metadata": {
    "jp-MarkdownHeadingCollapsed": true,
    "tags": []
   },
   "source": [
    "### 2nd Bell State"
   ]
  },
  {
   "cell_type": "code",
   "execution_count": null,
   "id": "e1af20cc-378b-4c50-a64f-6a6c6d22b967",
   "metadata": {},
   "outputs": [],
   "source": [
    "qc2 = __"
   ]
  },
  {
   "cell_type": "code",
   "execution_count": null,
   "id": "50190f92-64e9-471f-9e5e-851d36693357",
   "metadata": {},
   "outputs": [],
   "source": [
    "qc2_state = __\n",
    "array_to_latex(__, \"\\\\text{Statevector} = \")"
   ]
  },
  {
   "cell_type": "code",
   "execution_count": null,
   "id": "3fb00063-6e60-4f16-bc90-c0fc8051bfc8",
   "metadata": {},
   "outputs": [],
   "source": [
    "print_statevector(__)"
   ]
  },
  {
   "cell_type": "markdown",
   "id": "37b46c5b-463a-45d4-9714-300cb878edcd",
   "metadata": {
    "jp-MarkdownHeadingCollapsed": true,
    "tags": []
   },
   "source": [
    "### 3rd Bell State"
   ]
  },
  {
   "cell_type": "code",
   "execution_count": null,
   "id": "5455e97a-7f2f-4f59-be26-1915141ed3ad",
   "metadata": {},
   "outputs": [],
   "source": []
  },
  {
   "cell_type": "code",
   "execution_count": null,
   "id": "de57f6bb-0159-4b23-88a6-bcf48ed79565",
   "metadata": {},
   "outputs": [],
   "source": []
  },
  {
   "cell_type": "code",
   "execution_count": null,
   "id": "7d34846f-dfcf-4c0f-a58e-73a926dc115c",
   "metadata": {},
   "outputs": [],
   "source": []
  },
  {
   "cell_type": "markdown",
   "id": "6f67e511-763d-44ab-8c6a-5d8f6b32a259",
   "metadata": {
    "jp-MarkdownHeadingCollapsed": true,
    "tags": []
   },
   "source": [
    "### 4th Bell State"
   ]
  },
  {
   "cell_type": "code",
   "execution_count": null,
   "id": "dac47c8b-b145-4eb1-843e-89983d809044",
   "metadata": {},
   "outputs": [],
   "source": []
  },
  {
   "cell_type": "code",
   "execution_count": null,
   "id": "15c89199-4df3-4ec8-88bd-f73459dcefa0",
   "metadata": {},
   "outputs": [],
   "source": []
  },
  {
   "cell_type": "code",
   "execution_count": null,
   "id": "d8286e10-9d4f-4361-a72b-5e1b85e5bf9f",
   "metadata": {},
   "outputs": [],
   "source": []
  },
  {
   "cell_type": "markdown",
   "id": "c49abe9c-b164-42b2-93ea-400abfba7839",
   "metadata": {},
   "source": [
    "### --------------------------------------------------------------------------------"
   ]
  }
 ],
 "metadata": {
  "kernelspec": {
   "display_name": "Python 3 [Default]",
   "language": "python",
   "name": "python3"
  },
  "language_info": {
   "codemirror_mode": {
    "name": "ipython",
    "version": 3
   },
   "file_extension": ".py",
   "mimetype": "text/x-python",
   "name": "python",
   "nbconvert_exporter": "python",
   "pygments_lexer": "ipython3",
   "version": "3.9.12"
  },
  "widgets": {
   "application/vnd.jupyter.widget-state+json": {
    "state": {},
    "version_major": 2,
    "version_minor": 0
   }
  }
 },
 "nbformat": 4,
 "nbformat_minor": 5
}
